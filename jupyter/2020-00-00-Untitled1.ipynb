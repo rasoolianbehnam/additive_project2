{
 "cells": [
  {
   "cell_type": "code",
   "execution_count": 2,
   "metadata": {},
   "outputs": [
    {
     "name": "stdout",
     "output_type": "stream",
     "text": [
      "The autoreload extension is already loaded. To reload it, use:\n",
      "  %reload_ext autoreload\n"
     ]
    },
    {
     "data": {
      "text/html": [
       "<table style=\"border: 2px solid white;\">\n",
       "<tr>\n",
       "<td style=\"vertical-align: top; border: 0px solid white\">\n",
       "<h3 style=\"text-align: left;\">Client</h3>\n",
       "<ul style=\"text-align: left; list-style: none; margin: 0; padding: 0;\">\n",
       "  <li><b>Scheduler: </b>tcp://131.204.27.88:8786</li>\n",
       "  <li><b>Dashboard: </b><a href='http://131.204.27.88:8787/status' target='_blank'>http://131.204.27.88:8787/status</a></li>\n",
       "</ul>\n",
       "</td>\n",
       "<td style=\"vertical-align: top; border: 0px solid white\">\n",
       "<h3 style=\"text-align: left;\">Cluster</h3>\n",
       "<ul style=\"text-align: left; list-style:none; margin: 0; padding: 0;\">\n",
       "  <li><b>Workers: </b>50</li>\n",
       "  <li><b>Cores: </b>100</li>\n",
       "  <li><b>Memory: </b>1000.00 GB</li>\n",
       "</ul>\n",
       "</td>\n",
       "</tr>\n",
       "</table>"
      ],
      "text/plain": [
       "<Client: 'tcp://131.204.27.88:8786' processes=0 threads=0, memory=0 B>"
      ]
     },
     "execution_count": 2,
     "metadata": {},
     "output_type": "execute_result"
    }
   ],
   "source": [
    "%load_ext autoreload\n",
    "%autoreload 2\n",
    "from utility import *\n",
    "client = Client(scheduler_file=\"/home/bzr0014/schedfile\")\n",
    "client.restart()"
   ]
  },
  {
   "cell_type": "code",
   "execution_count": 3,
   "metadata": {},
   "outputs": [],
   "source": [
    "files = glob.glob(\"/nfs_shares/bzr0014_home/additive_data/experiment_04/*3D.df\")\n",
    "databases = [delayed(lambda x: joblib.load(x).assign(file=x))(f) for f in files]"
   ]
  },
  {
   "cell_type": "code",
   "execution_count": 23,
   "metadata": {},
   "outputs": [],
   "source": [
    "def get_cols(df, names):\n",
    "    if isinstance(names, str):\n",
    "        cols = [x for x in df.columns if names in x]\n",
    "    else:\n",
    "        cols = list({x for name in names for x in df.columns if name in x})\n",
    "    return df[cols]\n",
    "def get_file_info(res):\n",
    "    a = res.str.lower().str.contains('polished').rename('ispolished').to_frame()\n",
    "    b = pd.DataFrame(res.map(lambda x: re.findall(f\"(v\\d+)_(t\\d+)_(l|r)\", x, re.IGNORECASE)[0]).tolist(),\n",
    "                columns=['specimen', 'T', 'RL'], index=a.index)\n",
    "    return a.join(b)#.join(res.str.rsplit('/', n=1, expand=True)[1])"
   ]
  },
  {
   "cell_type": "code",
   "execution_count": 29,
   "metadata": {},
   "outputs": [],
   "source": [
    "def get_rho10(df, file_name):\n",
    "    x = df.copy()\n",
    "    x.columns = ['_'.join([t for t in c if len(t)]) for c in x.columns]\n",
    "    mid_section_x = x[(x['profile']>1000) & (x['profile']<6000)]\n",
    "\n",
    "    mid_section_xy = mid_section_x[(mid_section_x['circle_sym_x']>1000)&(mid_section_x['circle_sym_x']<7000)]\n",
    "    mid_section_xy = get_cols(mid_section_xy, [\"profile\", \"circle_\"])\n",
    "    mid_section_xy.circle_sym_y = mid_section_xy.circle_sym_y.astype('int')\n",
    "    mid_section_xy.profile = mid_section_xy.profile.astype('int')\n",
    "\n",
    "    y_sym = mid_section_xy.groupby(\"profile\").circle_sym_y.agg(lambda x: sorted(x)[:10]).explode().astype('int').to_frame().reset_index()\n",
    "    rho10 = y_sym.merge(mid_section_xy[['profile', 'circle_sym_y', 'circle_sym_r', 'circle_asym_r']], on=['profile', 'circle_sym_y'])\n",
    "    out = rho10.assign(file=file_name)\n",
    "    return get_file_info(out['file']).join(out).drop('file', axis=1)"
   ]
  },
  {
   "cell_type": "code",
   "execution_count": 30,
   "metadata": {},
   "outputs": [],
   "source": [
    "rho10s = [delayed(get_rho10)(x, f) for x, f in zip(databases, files)]"
   ]
  },
  {
   "cell_type": "code",
   "execution_count": 31,
   "metadata": {},
   "outputs": [],
   "source": [
    "rho10s = compute(rho10s)[0]"
   ]
  },
  {
   "cell_type": "code",
   "execution_count": 32,
   "metadata": {},
   "outputs": [],
   "source": [
    "Rhos = pd.concat(rho10s)"
   ]
  },
  {
   "cell_type": "code",
   "execution_count": 61,
   "metadata": {},
   "outputs": [],
   "source": [
    "tmp = (Rhos.groupby('specimen').ispolished.nunique() > 1)\\\n",
    "    .to_frame().reset_index()#.drop('ispolished', axis=1)\n",
    "polished_specimens = tmp[tmp.ispolished].drop('ispolished', axis=1)"
   ]
  },
  {
   "cell_type": "code",
   "execution_count": 453,
   "metadata": {},
   "outputs": [],
   "source": [
    "out = Rhos.merge(polished_specimens, on='specimen').groupby(['specimen', 'ispolished']).describe()"
   ]
  },
  {
   "cell_type": "code",
   "execution_count": 454,
   "metadata": {},
   "outputs": [
    {
     "data": {
      "text/html": [
       "<div>\n",
       "<style scoped>\n",
       "    .dataframe tbody tr th:only-of-type {\n",
       "        vertical-align: middle;\n",
       "    }\n",
       "\n",
       "    .dataframe tbody tr th {\n",
       "        vertical-align: top;\n",
       "    }\n",
       "\n",
       "    .dataframe thead tr th {\n",
       "        text-align: left;\n",
       "    }\n",
       "\n",
       "    .dataframe thead tr:last-of-type th {\n",
       "        text-align: right;\n",
       "    }\n",
       "</style>\n",
       "<table border=\"1\" class=\"dataframe\">\n",
       "  <thead>\n",
       "    <tr>\n",
       "      <th></th>\n",
       "      <th></th>\n",
       "      <th colspan=\"8\" halign=\"left\">circle_sym_r</th>\n",
       "      <th colspan=\"8\" halign=\"left\">circle_asym_r</th>\n",
       "    </tr>\n",
       "    <tr>\n",
       "      <th></th>\n",
       "      <th></th>\n",
       "      <th>count</th>\n",
       "      <th>mean</th>\n",
       "      <th>std</th>\n",
       "      <th>min</th>\n",
       "      <th>25%</th>\n",
       "      <th>50%</th>\n",
       "      <th>75%</th>\n",
       "      <th>max</th>\n",
       "      <th>count</th>\n",
       "      <th>mean</th>\n",
       "      <th>std</th>\n",
       "      <th>min</th>\n",
       "      <th>25%</th>\n",
       "      <th>50%</th>\n",
       "      <th>75%</th>\n",
       "      <th>max</th>\n",
       "    </tr>\n",
       "    <tr>\n",
       "      <th>specimen</th>\n",
       "      <th>ispolished</th>\n",
       "      <th></th>\n",
       "      <th></th>\n",
       "      <th></th>\n",
       "      <th></th>\n",
       "      <th></th>\n",
       "      <th></th>\n",
       "      <th></th>\n",
       "      <th></th>\n",
       "      <th></th>\n",
       "      <th></th>\n",
       "      <th></th>\n",
       "      <th></th>\n",
       "      <th></th>\n",
       "      <th></th>\n",
       "      <th></th>\n",
       "      <th></th>\n",
       "    </tr>\n",
       "  </thead>\n",
       "  <tbody>\n",
       "    <tr>\n",
       "      <th rowspan=\"2\" valign=\"top\">V03</th>\n",
       "      <th>False</th>\n",
       "      <td>335159.0</td>\n",
       "      <td>1.643829</td>\n",
       "      <td>1.531761</td>\n",
       "      <td>0.105655</td>\n",
       "      <td>0.513020</td>\n",
       "      <td>0.988292</td>\n",
       "      <td>2.355612</td>\n",
       "      <td>58.883036</td>\n",
       "      <td>335159.0</td>\n",
       "      <td>2.760970</td>\n",
       "      <td>2.080429</td>\n",
       "      <td>0.003813</td>\n",
       "      <td>1.215652</td>\n",
       "      <td>2.340237</td>\n",
       "      <td>3.837734</td>\n",
       "      <td>72.334678</td>\n",
       "    </tr>\n",
       "    <tr>\n",
       "      <th>True</th>\n",
       "      <td>369480.0</td>\n",
       "      <td>2.060226</td>\n",
       "      <td>1.965475</td>\n",
       "      <td>0.448857</td>\n",
       "      <td>0.506373</td>\n",
       "      <td>1.444469</td>\n",
       "      <td>3.038256</td>\n",
       "      <td>21.489499</td>\n",
       "      <td>369480.0</td>\n",
       "      <td>3.368880</td>\n",
       "      <td>2.442443</td>\n",
       "      <td>0.002135</td>\n",
       "      <td>1.627272</td>\n",
       "      <td>2.884301</td>\n",
       "      <td>4.484249</td>\n",
       "      <td>28.168744</td>\n",
       "    </tr>\n",
       "    <tr>\n",
       "      <th rowspan=\"2\" valign=\"top\">V05</th>\n",
       "      <th>False</th>\n",
       "      <td>324990.0</td>\n",
       "      <td>1.903803</td>\n",
       "      <td>1.687877</td>\n",
       "      <td>0.063407</td>\n",
       "      <td>0.516987</td>\n",
       "      <td>1.299172</td>\n",
       "      <td>2.792407</td>\n",
       "      <td>22.544196</td>\n",
       "      <td>324990.0</td>\n",
       "      <td>3.295630</td>\n",
       "      <td>2.138469</td>\n",
       "      <td>-2.026938</td>\n",
       "      <td>1.698911</td>\n",
       "      <td>2.974625</td>\n",
       "      <td>4.501813</td>\n",
       "      <td>49.679313</td>\n",
       "    </tr>\n",
       "    <tr>\n",
       "      <th>True</th>\n",
       "      <td>392156.0</td>\n",
       "      <td>1.971351</td>\n",
       "      <td>1.929412</td>\n",
       "      <td>0.431861</td>\n",
       "      <td>0.507589</td>\n",
       "      <td>1.275951</td>\n",
       "      <td>2.756426</td>\n",
       "      <td>21.520883</td>\n",
       "      <td>392156.0</td>\n",
       "      <td>3.095746</td>\n",
       "      <td>2.330758</td>\n",
       "      <td>0.002011</td>\n",
       "      <td>1.437801</td>\n",
       "      <td>2.599030</td>\n",
       "      <td>4.110108</td>\n",
       "      <td>23.979687</td>\n",
       "    </tr>\n",
       "    <tr>\n",
       "      <th rowspan=\"2\" valign=\"top\">V07</th>\n",
       "      <th>False</th>\n",
       "      <td>282945.0</td>\n",
       "      <td>2.349671</td>\n",
       "      <td>2.261558</td>\n",
       "      <td>0.096374</td>\n",
       "      <td>0.525389</td>\n",
       "      <td>1.614936</td>\n",
       "      <td>3.508708</td>\n",
       "      <td>32.740698</td>\n",
       "      <td>282945.0</td>\n",
       "      <td>4.011948</td>\n",
       "      <td>2.758997</td>\n",
       "      <td>0.004190</td>\n",
       "      <td>2.041081</td>\n",
       "      <td>3.531087</td>\n",
       "      <td>5.506305</td>\n",
       "      <td>44.293405</td>\n",
       "    </tr>\n",
       "    <tr>\n",
       "      <th>True</th>\n",
       "      <td>389740.0</td>\n",
       "      <td>2.182084</td>\n",
       "      <td>2.025143</td>\n",
       "      <td>-1.276439</td>\n",
       "      <td>0.515654</td>\n",
       "      <td>1.517327</td>\n",
       "      <td>3.330599</td>\n",
       "      <td>23.689824</td>\n",
       "      <td>389740.0</td>\n",
       "      <td>3.479037</td>\n",
       "      <td>2.424657</td>\n",
       "      <td>-0.523295</td>\n",
       "      <td>1.697840</td>\n",
       "      <td>3.063015</td>\n",
       "      <td>4.705226</td>\n",
       "      <td>24.440801</td>\n",
       "    </tr>\n",
       "    <tr>\n",
       "      <th rowspan=\"2\" valign=\"top\">V09</th>\n",
       "      <th>False</th>\n",
       "      <td>343784.0</td>\n",
       "      <td>2.103695</td>\n",
       "      <td>2.001008</td>\n",
       "      <td>0.021706</td>\n",
       "      <td>0.520757</td>\n",
       "      <td>1.499404</td>\n",
       "      <td>3.026305</td>\n",
       "      <td>61.198172</td>\n",
       "      <td>343784.0</td>\n",
       "      <td>3.814517</td>\n",
       "      <td>2.708930</td>\n",
       "      <td>-13.232230</td>\n",
       "      <td>1.963413</td>\n",
       "      <td>3.378057</td>\n",
       "      <td>5.074145</td>\n",
       "      <td>82.459854</td>\n",
       "    </tr>\n",
       "    <tr>\n",
       "      <th>True</th>\n",
       "      <td>375044.0</td>\n",
       "      <td>2.001891</td>\n",
       "      <td>1.943115</td>\n",
       "      <td>0.439062</td>\n",
       "      <td>0.506010</td>\n",
       "      <td>1.241175</td>\n",
       "      <td>2.926302</td>\n",
       "      <td>22.690155</td>\n",
       "      <td>375044.0</td>\n",
       "      <td>3.244136</td>\n",
       "      <td>2.356806</td>\n",
       "      <td>0.002371</td>\n",
       "      <td>1.546603</td>\n",
       "      <td>2.765754</td>\n",
       "      <td>4.350814</td>\n",
       "      <td>25.032626</td>\n",
       "    </tr>\n",
       "    <tr>\n",
       "      <th rowspan=\"2\" valign=\"top\">V11</th>\n",
       "      <th>False</th>\n",
       "      <td>349485.0</td>\n",
       "      <td>2.216336</td>\n",
       "      <td>2.088190</td>\n",
       "      <td>0.088808</td>\n",
       "      <td>0.520923</td>\n",
       "      <td>1.533724</td>\n",
       "      <td>3.272566</td>\n",
       "      <td>46.056770</td>\n",
       "      <td>349485.0</td>\n",
       "      <td>4.020237</td>\n",
       "      <td>2.762773</td>\n",
       "      <td>0.004681</td>\n",
       "      <td>2.081121</td>\n",
       "      <td>3.569836</td>\n",
       "      <td>5.465409</td>\n",
       "      <td>136.478707</td>\n",
       "    </tr>\n",
       "    <tr>\n",
       "      <th>True</th>\n",
       "      <td>373057.0</td>\n",
       "      <td>1.983865</td>\n",
       "      <td>1.933841</td>\n",
       "      <td>0.448085</td>\n",
       "      <td>0.506321</td>\n",
       "      <td>1.267109</td>\n",
       "      <td>2.841902</td>\n",
       "      <td>21.515283</td>\n",
       "      <td>373057.0</td>\n",
       "      <td>3.154461</td>\n",
       "      <td>2.314037</td>\n",
       "      <td>0.001040</td>\n",
       "      <td>1.500780</td>\n",
       "      <td>2.691909</td>\n",
       "      <td>4.166209</td>\n",
       "      <td>22.938290</td>\n",
       "    </tr>\n",
       "    <tr>\n",
       "      <th rowspan=\"2\" valign=\"top\">V13</th>\n",
       "      <th>False</th>\n",
       "      <td>147678.0</td>\n",
       "      <td>1.779475</td>\n",
       "      <td>1.724185</td>\n",
       "      <td>0.071259</td>\n",
       "      <td>0.514583</td>\n",
       "      <td>1.137422</td>\n",
       "      <td>2.515137</td>\n",
       "      <td>50.206865</td>\n",
       "      <td>147678.0</td>\n",
       "      <td>3.350284</td>\n",
       "      <td>2.639175</td>\n",
       "      <td>-3.024847</td>\n",
       "      <td>1.539249</td>\n",
       "      <td>2.854761</td>\n",
       "      <td>4.510796</td>\n",
       "      <td>200.002407</td>\n",
       "    </tr>\n",
       "    <tr>\n",
       "      <th>True</th>\n",
       "      <td>345217.0</td>\n",
       "      <td>2.347177</td>\n",
       "      <td>2.259041</td>\n",
       "      <td>0.242071</td>\n",
       "      <td>0.513284</td>\n",
       "      <td>1.574854</td>\n",
       "      <td>3.512137</td>\n",
       "      <td>25.575007</td>\n",
       "      <td>345217.0</td>\n",
       "      <td>4.002930</td>\n",
       "      <td>2.933773</td>\n",
       "      <td>0.001084</td>\n",
       "      <td>1.994055</td>\n",
       "      <td>3.489897</td>\n",
       "      <td>5.503901</td>\n",
       "      <td>35.094636</td>\n",
       "    </tr>\n",
       "    <tr>\n",
       "      <th rowspan=\"2\" valign=\"top\">V15</th>\n",
       "      <th>False</th>\n",
       "      <td>150297.0</td>\n",
       "      <td>2.061549</td>\n",
       "      <td>1.709324</td>\n",
       "      <td>-1.889589</td>\n",
       "      <td>0.532137</td>\n",
       "      <td>1.682280</td>\n",
       "      <td>2.946195</td>\n",
       "      <td>45.126751</td>\n",
       "      <td>150297.0</td>\n",
       "      <td>3.634414</td>\n",
       "      <td>2.492644</td>\n",
       "      <td>0.004529</td>\n",
       "      <td>1.999829</td>\n",
       "      <td>3.267064</td>\n",
       "      <td>4.825432</td>\n",
       "      <td>193.884051</td>\n",
       "    </tr>\n",
       "    <tr>\n",
       "      <th>True</th>\n",
       "      <td>270911.0</td>\n",
       "      <td>2.435544</td>\n",
       "      <td>2.493725</td>\n",
       "      <td>0.456077</td>\n",
       "      <td>0.515491</td>\n",
       "      <td>1.549957</td>\n",
       "      <td>3.520888</td>\n",
       "      <td>27.314725</td>\n",
       "      <td>270911.0</td>\n",
       "      <td>4.105484</td>\n",
       "      <td>3.382447</td>\n",
       "      <td>0.004727</td>\n",
       "      <td>1.780980</td>\n",
       "      <td>3.269316</td>\n",
       "      <td>5.770132</td>\n",
       "      <td>36.155901</td>\n",
       "    </tr>\n",
       "    <tr>\n",
       "      <th rowspan=\"2\" valign=\"top\">V17</th>\n",
       "      <th>False</th>\n",
       "      <td>245004.0</td>\n",
       "      <td>2.031748</td>\n",
       "      <td>1.801572</td>\n",
       "      <td>0.049129</td>\n",
       "      <td>0.515919</td>\n",
       "      <td>1.501365</td>\n",
       "      <td>2.969011</td>\n",
       "      <td>30.732468</td>\n",
       "      <td>245004.0</td>\n",
       "      <td>3.658514</td>\n",
       "      <td>2.366582</td>\n",
       "      <td>-0.443215</td>\n",
       "      <td>1.954544</td>\n",
       "      <td>3.334430</td>\n",
       "      <td>4.931482</td>\n",
       "      <td>42.072435</td>\n",
       "    </tr>\n",
       "    <tr>\n",
       "      <th>True</th>\n",
       "      <td>364600.0</td>\n",
       "      <td>2.383676</td>\n",
       "      <td>2.236157</td>\n",
       "      <td>0.085380</td>\n",
       "      <td>0.518284</td>\n",
       "      <td>1.676159</td>\n",
       "      <td>3.525679</td>\n",
       "      <td>24.878452</td>\n",
       "      <td>364600.0</td>\n",
       "      <td>3.958283</td>\n",
       "      <td>2.851624</td>\n",
       "      <td>0.002897</td>\n",
       "      <td>1.960641</td>\n",
       "      <td>3.406132</td>\n",
       "      <td>5.516695</td>\n",
       "      <td>27.932543</td>\n",
       "    </tr>\n",
       "  </tbody>\n",
       "</table>\n",
       "</div>"
      ],
      "text/plain": [
       "                    circle_sym_r                                          \\\n",
       "                           count      mean       std       min       25%   \n",
       "specimen ispolished                                                        \n",
       "V03      False          335159.0  1.643829  1.531761  0.105655  0.513020   \n",
       "         True           369480.0  2.060226  1.965475  0.448857  0.506373   \n",
       "V05      False          324990.0  1.903803  1.687877  0.063407  0.516987   \n",
       "         True           392156.0  1.971351  1.929412  0.431861  0.507589   \n",
       "V07      False          282945.0  2.349671  2.261558  0.096374  0.525389   \n",
       "         True           389740.0  2.182084  2.025143 -1.276439  0.515654   \n",
       "V09      False          343784.0  2.103695  2.001008  0.021706  0.520757   \n",
       "         True           375044.0  2.001891  1.943115  0.439062  0.506010   \n",
       "V11      False          349485.0  2.216336  2.088190  0.088808  0.520923   \n",
       "         True           373057.0  1.983865  1.933841  0.448085  0.506321   \n",
       "V13      False          147678.0  1.779475  1.724185  0.071259  0.514583   \n",
       "         True           345217.0  2.347177  2.259041  0.242071  0.513284   \n",
       "V15      False          150297.0  2.061549  1.709324 -1.889589  0.532137   \n",
       "         True           270911.0  2.435544  2.493725  0.456077  0.515491   \n",
       "V17      False          245004.0  2.031748  1.801572  0.049129  0.515919   \n",
       "         True           364600.0  2.383676  2.236157  0.085380  0.518284   \n",
       "\n",
       "                                                   circle_asym_r            \\\n",
       "                          50%       75%        max         count      mean   \n",
       "specimen ispolished                                                          \n",
       "V03      False       0.988292  2.355612  58.883036      335159.0  2.760970   \n",
       "         True        1.444469  3.038256  21.489499      369480.0  3.368880   \n",
       "V05      False       1.299172  2.792407  22.544196      324990.0  3.295630   \n",
       "         True        1.275951  2.756426  21.520883      392156.0  3.095746   \n",
       "V07      False       1.614936  3.508708  32.740698      282945.0  4.011948   \n",
       "         True        1.517327  3.330599  23.689824      389740.0  3.479037   \n",
       "V09      False       1.499404  3.026305  61.198172      343784.0  3.814517   \n",
       "         True        1.241175  2.926302  22.690155      375044.0  3.244136   \n",
       "V11      False       1.533724  3.272566  46.056770      349485.0  4.020237   \n",
       "         True        1.267109  2.841902  21.515283      373057.0  3.154461   \n",
       "V13      False       1.137422  2.515137  50.206865      147678.0  3.350284   \n",
       "         True        1.574854  3.512137  25.575007      345217.0  4.002930   \n",
       "V15      False       1.682280  2.946195  45.126751      150297.0  3.634414   \n",
       "         True        1.549957  3.520888  27.314725      270911.0  4.105484   \n",
       "V17      False       1.501365  2.969011  30.732468      245004.0  3.658514   \n",
       "         True        1.676159  3.525679  24.878452      364600.0  3.958283   \n",
       "\n",
       "                                                                        \\\n",
       "                          std        min       25%       50%       75%   \n",
       "specimen ispolished                                                      \n",
       "V03      False       2.080429   0.003813  1.215652  2.340237  3.837734   \n",
       "         True        2.442443   0.002135  1.627272  2.884301  4.484249   \n",
       "V05      False       2.138469  -2.026938  1.698911  2.974625  4.501813   \n",
       "         True        2.330758   0.002011  1.437801  2.599030  4.110108   \n",
       "V07      False       2.758997   0.004190  2.041081  3.531087  5.506305   \n",
       "         True        2.424657  -0.523295  1.697840  3.063015  4.705226   \n",
       "V09      False       2.708930 -13.232230  1.963413  3.378057  5.074145   \n",
       "         True        2.356806   0.002371  1.546603  2.765754  4.350814   \n",
       "V11      False       2.762773   0.004681  2.081121  3.569836  5.465409   \n",
       "         True        2.314037   0.001040  1.500780  2.691909  4.166209   \n",
       "V13      False       2.639175  -3.024847  1.539249  2.854761  4.510796   \n",
       "         True        2.933773   0.001084  1.994055  3.489897  5.503901   \n",
       "V15      False       2.492644   0.004529  1.999829  3.267064  4.825432   \n",
       "         True        3.382447   0.004727  1.780980  3.269316  5.770132   \n",
       "V17      False       2.366582  -0.443215  1.954544  3.334430  4.931482   \n",
       "         True        2.851624   0.002897  1.960641  3.406132  5.516695   \n",
       "\n",
       "                                 \n",
       "                            max  \n",
       "specimen ispolished              \n",
       "V03      False        72.334678  \n",
       "         True         28.168744  \n",
       "V05      False        49.679313  \n",
       "         True         23.979687  \n",
       "V07      False        44.293405  \n",
       "         True         24.440801  \n",
       "V09      False        82.459854  \n",
       "         True         25.032626  \n",
       "V11      False       136.478707  \n",
       "         True         22.938290  \n",
       "V13      False       200.002407  \n",
       "         True         35.094636  \n",
       "V15      False       193.884051  \n",
       "         True         36.155901  \n",
       "V17      False        42.072435  \n",
       "         True         27.932543  "
      ]
     },
     "execution_count": 454,
     "metadata": {},
     "output_type": "execute_result"
    }
   ],
   "source": [
    "out[['circle_sym_r', 'circle_asym_r']]"
   ]
  },
  {
   "cell_type": "code",
   "execution_count": 66,
   "metadata": {},
   "outputs": [
    {
     "data": {
      "text/html": [
       "<div>\n",
       "<style scoped>\n",
       "    .dataframe tbody tr th:only-of-type {\n",
       "        vertical-align: middle;\n",
       "    }\n",
       "\n",
       "    .dataframe tbody tr th {\n",
       "        vertical-align: top;\n",
       "    }\n",
       "\n",
       "    .dataframe thead th {\n",
       "        text-align: right;\n",
       "    }\n",
       "</style>\n",
       "<table border=\"1\" class=\"dataframe\">\n",
       "  <thead>\n",
       "    <tr style=\"text-align: right;\">\n",
       "      <th></th>\n",
       "      <th></th>\n",
       "      <th>circle_sym_r</th>\n",
       "      <th>circle_asym_r</th>\n",
       "    </tr>\n",
       "    <tr>\n",
       "      <th>specimen</th>\n",
       "      <th>ispolished</th>\n",
       "      <th></th>\n",
       "      <th></th>\n",
       "    </tr>\n",
       "  </thead>\n",
       "  <tbody>\n",
       "    <tr>\n",
       "      <th rowspan=\"2\" valign=\"top\">V03</th>\n",
       "      <th>False</th>\n",
       "      <td>1.643829</td>\n",
       "      <td>2.760970</td>\n",
       "    </tr>\n",
       "    <tr>\n",
       "      <th>True</th>\n",
       "      <td>2.060226</td>\n",
       "      <td>3.368880</td>\n",
       "    </tr>\n",
       "    <tr>\n",
       "      <th rowspan=\"2\" valign=\"top\">V05</th>\n",
       "      <th>False</th>\n",
       "      <td>1.903803</td>\n",
       "      <td>3.295630</td>\n",
       "    </tr>\n",
       "    <tr>\n",
       "      <th>True</th>\n",
       "      <td>1.971351</td>\n",
       "      <td>3.095746</td>\n",
       "    </tr>\n",
       "    <tr>\n",
       "      <th rowspan=\"2\" valign=\"top\">V07</th>\n",
       "      <th>False</th>\n",
       "      <td>2.349671</td>\n",
       "      <td>4.011948</td>\n",
       "    </tr>\n",
       "    <tr>\n",
       "      <th>True</th>\n",
       "      <td>2.182084</td>\n",
       "      <td>3.479037</td>\n",
       "    </tr>\n",
       "    <tr>\n",
       "      <th rowspan=\"2\" valign=\"top\">V09</th>\n",
       "      <th>False</th>\n",
       "      <td>2.103695</td>\n",
       "      <td>3.814517</td>\n",
       "    </tr>\n",
       "    <tr>\n",
       "      <th>True</th>\n",
       "      <td>2.001891</td>\n",
       "      <td>3.244136</td>\n",
       "    </tr>\n",
       "    <tr>\n",
       "      <th rowspan=\"2\" valign=\"top\">V11</th>\n",
       "      <th>False</th>\n",
       "      <td>2.216336</td>\n",
       "      <td>4.020237</td>\n",
       "    </tr>\n",
       "    <tr>\n",
       "      <th>True</th>\n",
       "      <td>1.983865</td>\n",
       "      <td>3.154461</td>\n",
       "    </tr>\n",
       "    <tr>\n",
       "      <th rowspan=\"2\" valign=\"top\">V13</th>\n",
       "      <th>False</th>\n",
       "      <td>1.779475</td>\n",
       "      <td>3.350284</td>\n",
       "    </tr>\n",
       "    <tr>\n",
       "      <th>True</th>\n",
       "      <td>2.347177</td>\n",
       "      <td>4.002930</td>\n",
       "    </tr>\n",
       "    <tr>\n",
       "      <th rowspan=\"2\" valign=\"top\">V15</th>\n",
       "      <th>False</th>\n",
       "      <td>2.061549</td>\n",
       "      <td>3.634414</td>\n",
       "    </tr>\n",
       "    <tr>\n",
       "      <th>True</th>\n",
       "      <td>2.435544</td>\n",
       "      <td>4.105484</td>\n",
       "    </tr>\n",
       "    <tr>\n",
       "      <th rowspan=\"2\" valign=\"top\">V17</th>\n",
       "      <th>False</th>\n",
       "      <td>2.031748</td>\n",
       "      <td>3.658514</td>\n",
       "    </tr>\n",
       "    <tr>\n",
       "      <th>True</th>\n",
       "      <td>2.383676</td>\n",
       "      <td>3.958283</td>\n",
       "    </tr>\n",
       "  </tbody>\n",
       "</table>\n",
       "</div>"
      ],
      "text/plain": [
       "                     circle_sym_r  circle_asym_r\n",
       "specimen ispolished                             \n",
       "V03      False           1.643829       2.760970\n",
       "         True            2.060226       3.368880\n",
       "V05      False           1.903803       3.295630\n",
       "         True            1.971351       3.095746\n",
       "V07      False           2.349671       4.011948\n",
       "         True            2.182084       3.479037\n",
       "V09      False           2.103695       3.814517\n",
       "         True            2.001891       3.244136\n",
       "V11      False           2.216336       4.020237\n",
       "         True            1.983865       3.154461\n",
       "V13      False           1.779475       3.350284\n",
       "         True            2.347177       4.002930\n",
       "V15      False           2.061549       3.634414\n",
       "         True            2.435544       4.105484\n",
       "V17      False           2.031748       3.658514\n",
       "         True            2.383676       3.958283"
      ]
     },
     "execution_count": 66,
     "metadata": {},
     "output_type": "execute_result"
    }
   ],
   "source": [
    "out[['circle_sym_r', 'circle_asym_r']]"
   ]
  },
  {
   "cell_type": "code",
   "execution_count": 448,
   "metadata": {},
   "outputs": [
    {
     "data": {
      "text/plain": [
       "array([[0, 0, 0, ..., 0, 0, 0],\n",
       "       [0, 0, 0, ..., 0, 0, 0],\n",
       "       [0, 0, 0, ..., 0, 0, 0],\n",
       "       ...,\n",
       "       [0, 0, 0, ..., 0, 0, 0],\n",
       "       [0, 0, 0, ..., 0, 0, 0],\n",
       "       [0, 0, 0, ..., 0, 0, 0]], dtype=uint8)"
      ]
     },
     "execution_count": 448,
     "metadata": {},
     "output_type": "execute_result"
    }
   ],
   "source": [
    "out"
   ]
  },
  {
   "cell_type": "code",
   "execution_count": 80,
   "metadata": {},
   "outputs": [],
   "source": [
    "from features import *\n",
    "x = joblib.load(\"/nfs_shares/bzr0014_home/additive_data/experiment_03/V07_T1_Right(Top)_500X_3D.info\")['value'].x\n",
    "y = joblib.load(\"/nfs_shares/bzr0014_home/additive_data/experiment_03/Polished_V07_T1_Right(Top)_500X_3D.info\")['value'].x"
   ]
  },
  {
   "cell_type": "code",
   "execution_count": 81,
   "metadata": {},
   "outputs": [],
   "source": [
    "x = np.array(x)\n",
    "y = np.array(y)"
   ]
  },
  {
   "cell_type": "code",
   "execution_count": 82,
   "metadata": {},
   "outputs": [
    {
     "data": {
      "text/plain": [
       "-11.63945"
      ]
     },
     "execution_count": 82,
     "metadata": {},
     "output_type": "execute_result"
    }
   ],
   "source": [
    "x.mean() -  y.mean()"
   ]
  },
  {
   "cell_type": "code",
   "execution_count": 83,
   "metadata": {},
   "outputs": [
    {
     "data": {
      "text/plain": [
       "(40.681553, 44.58649)"
      ]
     },
     "execution_count": 83,
     "metadata": {},
     "output_type": "execute_result"
    }
   ],
   "source": [
    "x.std(), y.std()"
   ]
  },
  {
   "cell_type": "code",
   "execution_count": 73,
   "metadata": {},
   "outputs": [],
   "source": [
    "df = pd.read_csv('global_1d_parameters.csv')"
   ]
  },
  {
   "cell_type": "code",
   "execution_count": 76,
   "metadata": {},
   "outputs": [
    {
     "data": {
      "text/html": [
       "<div>\n",
       "<style scoped>\n",
       "    .dataframe tbody tr th:only-of-type {\n",
       "        vertical-align: middle;\n",
       "    }\n",
       "\n",
       "    .dataframe tbody tr th {\n",
       "        vertical-align: top;\n",
       "    }\n",
       "\n",
       "    .dataframe thead th {\n",
       "        text-align: right;\n",
       "    }\n",
       "</style>\n",
       "<table border=\"1\" class=\"dataframe\">\n",
       "  <thead>\n",
       "    <tr style=\"text-align: right;\">\n",
       "      <th></th>\n",
       "      <th>Unnamed: 0</th>\n",
       "      <th>specimen</th>\n",
       "      <th>T</th>\n",
       "      <th>RL</th>\n",
       "      <th>ispolished</th>\n",
       "      <th>ra</th>\n",
       "      <th>rq</th>\n",
       "      <th>r10_iso</th>\n",
       "      <th>rv</th>\n",
       "      <th>rz</th>\n",
       "    </tr>\n",
       "  </thead>\n",
       "  <tbody>\n",
       "    <tr>\n",
       "      <th>36</th>\n",
       "      <td>36</td>\n",
       "      <td>v07</td>\n",
       "      <td>t1</td>\n",
       "      <td>l</td>\n",
       "      <td>False</td>\n",
       "      <td>16.303761</td>\n",
       "      <td>19.963918</td>\n",
       "      <td>34.841801</td>\n",
       "      <td>61.243527</td>\n",
       "      <td>67.608119</td>\n",
       "    </tr>\n",
       "    <tr>\n",
       "      <th>37</th>\n",
       "      <td>37</td>\n",
       "      <td>v07</td>\n",
       "      <td>t1</td>\n",
       "      <td>l</td>\n",
       "      <td>True</td>\n",
       "      <td>10.619034</td>\n",
       "      <td>12.583137</td>\n",
       "      <td>25.200190</td>\n",
       "      <td>20.362228</td>\n",
       "      <td>44.212130</td>\n",
       "    </tr>\n",
       "    <tr>\n",
       "      <th>38</th>\n",
       "      <td>38</td>\n",
       "      <td>v07</td>\n",
       "      <td>t1</td>\n",
       "      <td>r</td>\n",
       "      <td>False</td>\n",
       "      <td>17.431765</td>\n",
       "      <td>21.366078</td>\n",
       "      <td>37.518191</td>\n",
       "      <td>63.585311</td>\n",
       "      <td>72.821200</td>\n",
       "    </tr>\n",
       "    <tr>\n",
       "      <th>39</th>\n",
       "      <td>39</td>\n",
       "      <td>v07</td>\n",
       "      <td>t1</td>\n",
       "      <td>r</td>\n",
       "      <td>True</td>\n",
       "      <td>12.717365</td>\n",
       "      <td>15.109074</td>\n",
       "      <td>30.395898</td>\n",
       "      <td>25.155199</td>\n",
       "      <td>56.720327</td>\n",
       "    </tr>\n",
       "    <tr>\n",
       "      <th>40</th>\n",
       "      <td>40</td>\n",
       "      <td>v07</td>\n",
       "      <td>t2</td>\n",
       "      <td>l</td>\n",
       "      <td>False</td>\n",
       "      <td>17.790403</td>\n",
       "      <td>22.006267</td>\n",
       "      <td>37.615698</td>\n",
       "      <td>66.465101</td>\n",
       "      <td>73.570684</td>\n",
       "    </tr>\n",
       "    <tr>\n",
       "      <th>41</th>\n",
       "      <td>41</td>\n",
       "      <td>v07</td>\n",
       "      <td>t2</td>\n",
       "      <td>l</td>\n",
       "      <td>True</td>\n",
       "      <td>13.049757</td>\n",
       "      <td>16.134469</td>\n",
       "      <td>33.585491</td>\n",
       "      <td>36.927890</td>\n",
       "      <td>52.952555</td>\n",
       "    </tr>\n",
       "    <tr>\n",
       "      <th>42</th>\n",
       "      <td>42</td>\n",
       "      <td>v07</td>\n",
       "      <td>t2</td>\n",
       "      <td>r</td>\n",
       "      <td>True</td>\n",
       "      <td>11.687957</td>\n",
       "      <td>13.826566</td>\n",
       "      <td>27.602397</td>\n",
       "      <td>22.934161</td>\n",
       "      <td>48.980018</td>\n",
       "    </tr>\n",
       "  </tbody>\n",
       "</table>\n",
       "</div>"
      ],
      "text/plain": [
       "    Unnamed: 0 specimen   T RL  ispolished         ra         rq    r10_iso  \\\n",
       "36          36      v07  t1  l       False  16.303761  19.963918  34.841801   \n",
       "37          37      v07  t1  l        True  10.619034  12.583137  25.200190   \n",
       "38          38      v07  t1  r       False  17.431765  21.366078  37.518191   \n",
       "39          39      v07  t1  r        True  12.717365  15.109074  30.395898   \n",
       "40          40      v07  t2  l       False  17.790403  22.006267  37.615698   \n",
       "41          41      v07  t2  l        True  13.049757  16.134469  33.585491   \n",
       "42          42      v07  t2  r        True  11.687957  13.826566  27.602397   \n",
       "\n",
       "           rv         rz  \n",
       "36  61.243527  67.608119  \n",
       "37  20.362228  44.212130  \n",
       "38  63.585311  72.821200  \n",
       "39  25.155199  56.720327  \n",
       "40  66.465101  73.570684  \n",
       "41  36.927890  52.952555  \n",
       "42  22.934161  48.980018  "
      ]
     },
     "execution_count": 76,
     "metadata": {},
     "output_type": "execute_result"
    }
   ],
   "source": [
    "df[df['specimen']=='v07']"
   ]
  },
  {
   "cell_type": "code",
   "execution_count": 271,
   "metadata": {},
   "outputs": [],
   "source": [
    "x = joblib.load(f\"/nfs_shares/bzr0014_home/additive_data/experiment_03/{base_name}.info\")['value'].x"
   ]
  },
  {
   "cell_type": "code",
   "execution_count": 273,
   "metadata": {},
   "outputs": [
    {
     "data": {
      "text/plain": [
       "<matplotlib.image.AxesImage at 0x76fd19036198>"
      ]
     },
     "execution_count": 273,
     "metadata": {},
     "output_type": "execute_result"
    },
    {
     "data": {
      "image/png": "[encoded data removed]",
      "text/plain": [
       "<Figure size 432x288 with 1 Axes>"
      ]
     },
     "metadata": {
      "needs_background": "light"
     },
     "output_type": "display_data"
    },
    {
     "name": "stderr",
     "output_type": "stream",
     "text": [
      "distributed.client - ERROR - Failed to reconnect to scheduler after 3.00 seconds, closing client\n",
      "_GatheringFuture exception was never retrieved\n",
      "future: <_GatheringFuture finished exception=CancelledError()>\n",
      "concurrent.futures._base.CancelledError\n"
     ]
    }
   ],
   "source": [
    "plt.imshow(x*(x<x.mean()-1*x.std()))"
   ]
  },
  {
   "cell_type": "code",
   "execution_count": 278,
   "metadata": {},
   "outputs": [
    {
     "data": {
      "text/plain": [
       "<matplotlib.image.AxesImage at 0x76ff5b074860>"
      ]
     },
     "execution_count": 278,
     "metadata": {},
     "output_type": "execute_result"
    },
    {
     "data": {
      "image/png": "[encoded data removed]",
      "text/plain": [
       "<Figure size 720x720 with 1 Axes>"
      ]
     },
     "metadata": {
      "needs_background": "light"
     },
     "output_type": "display_data"
    }
   ],
   "source": [
    "fig, ax = plt.subplots(figsize=(10, 10))\n",
    "base_name = \"V12_T1_Right(Top)_500X_3D\"\n",
    "img = cv2.imread(f\"/nfs_shares/bzr0014_home/additive_data/local_minima/{base_name}.png\", 0)\n",
    "plt.imshow(img)"
   ]
  },
  {
   "cell_type": "code",
   "execution_count": 252,
   "metadata": {},
   "outputs": [],
   "source": [
    "x = joblib.load(f\"/nfs_shares/bzr0014_home/additive_data/experiment_04/{base_name}.df\")"
   ]
  },
  {
   "cell_type": "code",
   "execution_count": 253,
   "metadata": {},
   "outputs": [],
   "source": [
    "x.columns = ['_'.join([t for t in c if len(t)]) for c in x.columns]"
   ]
  },
  {
   "cell_type": "code",
   "execution_count": 257,
   "metadata": {},
   "outputs": [],
   "source": [
    "mid_section_x = x[(x['profile']>200) & (x['profile']<6500)]\n",
    "mid_section_xy = mid_section_x[(mid_section_x['circle_sym_x']>200)&(mid_section_x['circle_sym_x']<7500)]"
   ]
  },
  {
   "cell_type": "code",
   "execution_count": 258,
   "metadata": {},
   "outputs": [
    {
     "data": {
      "text/html": [
       "<div>\n",
       "<style scoped>\n",
       "    .dataframe tbody tr th:only-of-type {\n",
       "        vertical-align: middle;\n",
       "    }\n",
       "\n",
       "    .dataframe tbody tr th {\n",
       "        vertical-align: top;\n",
       "    }\n",
       "\n",
       "    .dataframe thead th {\n",
       "        text-align: right;\n",
       "    }\n",
       "</style>\n",
       "<table border=\"1\" class=\"dataframe\">\n",
       "  <thead>\n",
       "    <tr style=\"text-align: right;\">\n",
       "      <th></th>\n",
       "      <th>profile</th>\n",
       "      <th>circle_asym_x</th>\n",
       "      <th>circle_asym_y</th>\n",
       "      <th>circle_asym_r</th>\n",
       "      <th>mult</th>\n",
       "    </tr>\n",
       "  </thead>\n",
       "  <tbody>\n",
       "    <tr>\n",
       "      <th>602024</th>\n",
       "      <td>5976</td>\n",
       "      <td>6215</td>\n",
       "      <td>134</td>\n",
       "      <td>-0.602303</td>\n",
       "      <td>-124.237384</td>\n",
       "    </tr>\n",
       "    <tr>\n",
       "      <th>143</th>\n",
       "      <td>11</td>\n",
       "      <td>391</td>\n",
       "      <td>0</td>\n",
       "      <td>30.499918</td>\n",
       "      <td>-3.378449</td>\n",
       "    </tr>\n",
       "    <tr>\n",
       "      <th>161</th>\n",
       "      <td>12</td>\n",
       "      <td>391</td>\n",
       "      <td>0</td>\n",
       "      <td>30.499738</td>\n",
       "      <td>-3.287845</td>\n",
       "    </tr>\n",
       "    <tr>\n",
       "      <th>181</th>\n",
       "      <td>13</td>\n",
       "      <td>391</td>\n",
       "      <td>0</td>\n",
       "      <td>30.498954</td>\n",
       "      <td>-3.115649</td>\n",
       "    </tr>\n",
       "    <tr>\n",
       "      <th>202</th>\n",
       "      <td>14</td>\n",
       "      <td>391</td>\n",
       "      <td>0</td>\n",
       "      <td>30.496472</td>\n",
       "      <td>-2.821651</td>\n",
       "    </tr>\n",
       "    <tr>\n",
       "      <th>...</th>\n",
       "      <td>...</td>\n",
       "      <td>...</td>\n",
       "      <td>...</td>\n",
       "      <td>...</td>\n",
       "      <td>...</td>\n",
       "    </tr>\n",
       "    <tr>\n",
       "      <th>709189</th>\n",
       "      <td>7178</td>\n",
       "      <td>1379</td>\n",
       "      <td>7</td>\n",
       "      <td>0.008974</td>\n",
       "      <td>0.071444</td>\n",
       "    </tr>\n",
       "    <tr>\n",
       "      <th>705280</th>\n",
       "      <td>7064</td>\n",
       "      <td>5668</td>\n",
       "      <td>6</td>\n",
       "      <td>0.011910</td>\n",
       "      <td>0.073223</td>\n",
       "    </tr>\n",
       "    <tr>\n",
       "      <th>709172</th>\n",
       "      <td>7177</td>\n",
       "      <td>1379</td>\n",
       "      <td>8</td>\n",
       "      <td>0.009273</td>\n",
       "      <td>0.073937</td>\n",
       "    </tr>\n",
       "    <tr>\n",
       "      <th>703016</th>\n",
       "      <td>7038</td>\n",
       "      <td>936</td>\n",
       "      <td>1</td>\n",
       "      <td>0.045328</td>\n",
       "      <td>0.074126</td>\n",
       "    </tr>\n",
       "    <tr>\n",
       "      <th>710388</th>\n",
       "      <td>7248</td>\n",
       "      <td>6562</td>\n",
       "      <td>6</td>\n",
       "      <td>0.012088</td>\n",
       "      <td>0.077207</td>\n",
       "    </tr>\n",
       "  </tbody>\n",
       "</table>\n",
       "<p>100 rows × 5 columns</p>\n",
       "</div>"
      ],
      "text/plain": [
       "        profile  circle_asym_x  circle_asym_y  circle_asym_r        mult\n",
       "602024     5976           6215            134      -0.602303 -124.237384\n",
       "143          11            391              0      30.499918   -3.378449\n",
       "161          12            391              0      30.499738   -3.287845\n",
       "181          13            391              0      30.498954   -3.115649\n",
       "202          14            391              0      30.496472   -2.821651\n",
       "...         ...            ...            ...            ...         ...\n",
       "709189     7178           1379              7       0.008974    0.071444\n",
       "705280     7064           5668              6       0.011910    0.073223\n",
       "709172     7177           1379              8       0.009273    0.073937\n",
       "703016     7038            936              1       0.045328    0.074126\n",
       "710388     7248           6562              6       0.012088    0.077207\n",
       "\n",
       "[100 rows x 5 columns]"
      ]
     },
     "execution_count": 258,
     "metadata": {},
     "output_type": "execute_result"
    }
   ],
   "source": [
    "tmp = mid_section_xy[['profile', 'circle_asym_x', 'circle_asym_y', 'circle_asym_r']]\n",
    "z = tmp.assign(mult=tmp['circle_asym_y']*np.log(tmp['circle_asym_r']+1), profile=tmp['profile'].astype('int'),\n",
    "        circle_asym_y=tmp['circle_asym_y'].astype('int'),\n",
    "        circle_asym_x=tmp['circle_asym_x'].astype('int')).sort_values('mult')[:100]\n",
    "z"
   ]
  },
  {
   "cell_type": "code",
   "execution_count": 274,
   "metadata": {},
   "outputs": [
    {
     "data": {
      "text/plain": [
       "<matplotlib.image.AxesImage at 0x76fd198955f8>"
      ]
     },
     "execution_count": 274,
     "metadata": {},
     "output_type": "execute_result"
    },
    {
     "data": {
      "image/png": "[encoded data removed]",
      "text/plain": [
       "<Figure size 720x720 with 1 Axes>"
      ]
     },
     "metadata": {
      "needs_background": "light"
     },
     "output_type": "display_data"
    }
   ],
   "source": [
    "fig, ax = plt.subplots(figsize=(10, 10))\n",
    "out = np.zeros_like(img)\n",
    "out[(z['profile'].values, z['circle_asym_x'].values)] = 1\n",
    "out = cv2.dilate(out, np.ones((30, 30)))\n",
    "plt.imshow(out)"
   ]
  },
  {
   "cell_type": "code",
   "execution_count": 222,
   "metadata": {},
   "outputs": [],
   "source": [
    "f = cv2.imread(\"Screen Shot 2020-06-10 at 3.08.56 PM.png\")"
   ]
  },
  {
   "cell_type": "code",
   "execution_count": 223,
   "metadata": {},
   "outputs": [
    {
     "data": {
      "text/plain": [
       "<matplotlib.image.AxesImage at 0x76ff68cf27f0>"
      ]
     },
     "execution_count": 223,
     "metadata": {},
     "output_type": "execute_result"
    },
    {
     "data": {
      "image/png": "[encoded data removed]",
      "text/plain": [
       "<Figure size 432x288 with 1 Axes>"
      ]
     },
     "metadata": {
      "needs_background": "light"
     },
     "output_type": "display_data"
    }
   ],
   "source": [
    "plt.imshow(f)"
   ]
  },
  {
   "cell_type": "code",
   "execution_count": 423,
   "metadata": {},
   "outputs": [],
   "source": [
    "base_name = \"Polished_V11_T1_Right(Top)_500X_3D\"\n",
    "y = joblib.load(f\"/nfs_shares/bzr0014_home/additive_data/experiment_03/{base_name}.info\")['value'].x\n",
    "base_name = \"V11_T1_Right(Top)_500X_3D\"\n",
    "x = joblib.load(f\"/nfs_shares/bzr0014_home/additive_data/experiment_03/{base_name}.info\")['value'].x"
   ]
  },
  {
   "cell_type": "code",
   "execution_count": 435,
   "metadata": {},
   "outputs": [],
   "source": [
    "t = x[1500:-1500, 1500:-1500]#x[3000:-3000, 3000:-3000]"
   ]
  },
  {
   "cell_type": "code",
   "execution_count": 436,
   "metadata": {},
   "outputs": [
    {
     "data": {
      "text/plain": [
       "52.89042367037844"
      ]
     },
     "execution_count": 436,
     "metadata": {},
     "output_type": "execute_result"
    }
   ],
   "source": [
    "indices = np.random.randint(len(t), size=90)\n",
    "mean = np.array([t[i].mean() for i in indices])\n",
    "mn = np.array([t[i].min() for i in indices])\n",
    "(mean - mn).mean()"
   ]
  },
  {
   "cell_type": "code",
   "execution_count": 437,
   "metadata": {},
   "outputs": [],
   "source": [
    "#t = y[3000:-3000, 3000:-3000]\n",
    "t = y[1500:-1500, 1500:-1500]#x[3000:-3000, 3000:-3000]"
   ]
  },
  {
   "cell_type": "code",
   "execution_count": 438,
   "metadata": {},
   "outputs": [
    {
     "data": {
      "text/plain": [
       "29.638622017362504"
      ]
     },
     "execution_count": 438,
     "metadata": {},
     "output_type": "execute_result"
    }
   ],
   "source": [
    "indices = np.random.randint(len(t), size=90)\n",
    "mean = np.array([t[i].mean() for i in indices])\n",
    "mn = np.array([t[i].min() for i in indices])\n",
    "(mean - mn).mean()"
   ]
  },
  {
   "cell_type": "code",
   "execution_count": 439,
   "metadata": {},
   "outputs": [],
   "source": [
    "from scipy.stats import mode"
   ]
  },
  {
   "cell_type": "code",
   "execution_count": 442,
   "metadata": {},
   "outputs": [
    {
     "data": {
      "text/plain": [
       "ModeResult(mode=array([0]), count=array([1326504]))"
      ]
     },
     "execution_count": 442,
     "metadata": {},
     "output_type": "execute_result"
    }
   ],
   "source": [
    "t = x#[1500:-1500, 1500:-1500]#x[3000:-3000, 3000:-3000]\n",
    "mode((t-t.mean()).astype('int').reshape(-1))"
   ]
  },
  {
   "cell_type": "code",
   "execution_count": 443,
   "metadata": {},
   "outputs": [
    {
     "data": {
      "text/plain": [
       "ModeResult(mode=array([16]), count=array([3499035]))"
      ]
     },
     "execution_count": 443,
     "metadata": {},
     "output_type": "execute_result"
    }
   ],
   "source": [
    "t = y#[1500:-1500, 1500:-1500]#x[3000:-3000, 3000:-3000]\n",
    "mode((t-t.mean()).astype('int').reshape(-1))"
   ]
  },
  {
   "cell_type": "code",
   "execution_count": 417,
   "metadata": {},
   "outputs": [
    {
     "data": {
      "text/plain": [
       "0.7370071411132812"
      ]
     },
     "execution_count": 417,
     "metadata": {},
     "output_type": "execute_result"
    }
   ],
   "source": [
    "np.median(x-x.mean())"
   ]
  },
  {
   "cell_type": "code",
   "execution_count": 418,
   "metadata": {},
   "outputs": [
    {
     "data": {
      "text/plain": [
       "7.5929412841796875"
      ]
     },
     "execution_count": 418,
     "metadata": {},
     "output_type": "execute_result"
    }
   ],
   "source": [
    "np.median(y-y.mean())"
   ]
  },
  {
   "cell_type": "code",
   "execution_count": 460,
   "metadata": {},
   "outputs": [
    {
     "data": {
      "image/png": "[encoded data removed]",
      "text/plain": [
       "<Figure size 432x288 with 1 Axes>"
      ]
     },
     "metadata": {
      "needs_background": "light"
     },
     "output_type": "display_data"
    },
    {
     "data": {
      "image/png": "[encoded data removed]",
      "text/plain": [
       "<Figure size 432x288 with 1 Axes>"
      ]
     },
     "metadata": {
      "needs_background": "light"
     },
     "output_type": "display_data"
    },
    {
     "data": {
      "image/png": "[encoded data removed]",
      "text/plain": [
       "<Figure size 432x288 with 1 Axes>"
      ]
     },
     "metadata": {
      "needs_background": "light"
     },
     "output_type": "display_data"
    }
   ],
   "source": [
    "for bins in {10, 15, 20}:\n",
    "    plt.hist(np.array(y.reshape(-1)), alpha=.6, bins=bins)\n",
    "    plt.hist(np.array(x.reshape(-1)), alpha=.6, bins=bins)\n",
    "    plt.show()"
   ]
  },
  {
   "cell_type": "code",
   "execution_count": null,
   "metadata": {},
   "outputs": [],
   "source": []
  }
 ],
 "metadata": {
  "kernelspec": {
   "display_name": "tensorGpu4",
   "language": "python",
   "name": "tensorgpu4"
  },
  "language_info": {
   "codemirror_mode": {
    "name": "ipython",
    "version": 3
   },
   "file_extension": ".py",
   "mimetype": "text/x-python",
   "name": "python",
   "nbconvert_exporter": "python",
   "pygments_lexer": "ipython3",
   "version": "3.6.10"
  }
 },
 "nbformat": 4,
 "nbformat_minor": 4
}
