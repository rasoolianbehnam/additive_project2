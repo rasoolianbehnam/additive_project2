{
 "cells": [
  {
   "cell_type": "code",
   "execution_count": 1,
   "metadata": {},
   "outputs": [],
   "source": [
    "%load_ext autoreload\n",
    "%autoreload 2\n",
    "%reset -f\n",
    "from imports import *\n",
    "from additive.utility import dfe\n",
    "from sh import wget"
   ]
  },
  {
   "cell_type": "code",
   "execution_count": 8,
   "metadata": {},
   "outputs": [],
   "source": [
    "links = {\n",
    "    # \"V19_T1_Left(Bottom)_500X_3D_2.csv\": \"https://auburn.box.com/shared/static/0iy6dopmmq8c8owpkjc1rddn48czeam1.csv\",\n",
    "    # \"V19_T1_Right(Top)_500X_3D_2.csv\": \"https://auburn.box.com/shared/static/i39htg5ku0wxphc9l6yebe63g7qatsd9.csv\",\n",
    "    # \"V19_T2_Left(Bottom)_500X_3D_2.csv\": \"https://auburn.box.com/shared/static/856x1lsjqr0ldl7dlesv1rsyzdw84b3x.csv\",\n",
    "    # \"V19_T2_Right(Top)_500X_3D_2.csv\": \"https://auburn.box.com/shared/static/6kykrfjuwiounoduupk4yebuq2ah4k80.csv\"\n",
    "    # \"Polished_V01_T1_Right(Top)_500X_3D.csv\": \"https://auburn.box.com/shared/static/3m7cewgbcdd3hd6ahujpymng7xvlsmwx.csv\",\n",
    "    # \"Polished_V01_T1_Left(Bottom)_500X_3D.csv\": \"https://auburn.box.com/shared/static/tmhzb05tyv3vpaqqlil9k2lndmhrbb0m.csv\",\n",
    "    # \"Polished_V01_T2_Left(Bottom)_500X_3D.csv\": \"https://auburn.box.com/shared/static/h8d99m1bbtt7f6jzxzpy2lmhx1kfgkru.csv\",\n",
    "    # \"V02_T1_Right(Top)_500X_3D.csv\": \"https://auburn.box.com/shared/static/4zq76ajxrfkd6o4cp807gmz9ogyi9u76.csv\",\n",
    "    # \"V02_T1_Left(Bottom)_500X_3D.csv\": \"https://auburn.box.com/shared/static/agferqljomez0a9mrlh7030ptfxrmu9o.csv\",\n",
    "    \"V02_T2_Left(Bottom)_500X_3D.csv\": \"https://auburn.box.com/shared/static/mlvxhct47mgsvy6gea28nk3ay3fmj2pl.csv\",\n",
    "    \"V02_T2_Right(Top)_500X_3D.csv\": \"https://auburn.box.com/shared/static/z9hfsjbe63yw2okhqu737lwapnnhv95f.csv\",\n",
    "    # \"V03_T1_Left(Bottom)_500X_3D.csv\": \"https://auburn.box.com/shared/static/rp15w7pa24jgxt3s0ze0tixgctrlk2vz.csv\",\n",
    "    # \"V03_T1_Right(Top)_500X_3D.csv\": \"https://auburn.box.com/shared/static/qs7u4jv63ref6rcyja8gx74b8zi6v5jv.csv\",\n",
    "    # \"V03_T2_Left(Bottom)_500X_3D.csv\": \"https://auburn.box.com/shared/static/i7995tlkgmo1lcopeqd8rnk0qqq155q1.csv\",\n",
    "     \"V03_T2_Right(Top)_500X_3D.csv\": \"https://auburn.box.com/shared/static/z4ul74q4x9cptb5m7v0413jtz4bqnnku.csv\",\n",
    "    # \"V04_T2_Left(Bottom)_500X_3D.csv\": \"https://auburn.box.com/shared/static/4gzvxn7r6dj53t6an0kybrwtjd0uq39f.csv\",\n",
    "    # \"V04_T2_Right(Top)_500X_3D.csv\": \"https://auburn.box.com/shared/static/90q68vjl8w8iyr66wxnwpp9t505b3i29.csv\",\n",
    "    # \"V04_T1_Left(Bottom)_500X_3D.csv\": \"https://auburn.box.com/shared/static/f0q0qkrqkwi1a62xkx3o9vkuraz197bf.csv\",\n",
    "    # \"V04_T1_Right(Top)_500X_3D.csv\": \"https://auburn.box.com/shared/static/cevxt9vaigyd9vlv6w1fe340hdq2ofse.csv\",\n",
    "    # \"V05_T2_Left(Bottom)_500X_3D.csv\": \"https://auburn.box.com/shared/static/gx6mowqb3m2ytn1l2v83xunz9l8pkpbo.csv\",\n",
    "    # \"V05_T2_Right(Top)_500X_3D.csv\": \"https://auburn.box.com/shared/static/hlbeiklias8so016e0rvns6318htt10m.csv\",\n",
    "    # \"V05_T1_Left(Bottom)_500X_3D.csv\": \"https://auburn.box.com/shared/static/ze0xsi0d6ad33m2z7cpme6n0m4j82piw.csv\",\n",
    "    # \"V05_T1_Right(Top)_500X_3D.csv\": \"https://auburn.box.com/shared/static/so2y5u4d2vyoeuqqohq67qs7gsienlvd.csv\",\n",
    "    # \"V06_T1_Left(Bottom)_500X_3D.csv\": \"https://auburn.box.com/shared/static/wibxwxvz1r9p02bakxb3i186nmmntrdn.csv\",\n",
    "    # \"V06_T1_Right(Top)_500X_3D.csv\": \"https://auburn.box.com/shared/static/5p9r6gntla0wg46ov8vawoxhlqy2cgb4.csv\",\n",
    "    # \"V06_T2_Left(Bottom)_500X_3D.csv\": \"https://auburn.box.com/shared/static/bumm16b88utg108wu57r732120t6pima.csv\",\n",
    "    # \"V06_T2_Right(Top)_500X_3D.csv\": \"https://auburn.box.com/shared/static/xarwsorylyxo9njcf77u2sffecft4l4j.csv\",\n",
    "    # \"V07_T1_Left(Bottom)_500X_3D.csv\": \"https://auburn.box.com/shared/static/e13wkyvftv9tm1mp4meaeyv1993vkc52.csv\",\n",
    "}"
   ]
  },
  {
   "cell_type": "code",
   "execution_count": 9,
   "metadata": {},
   "outputs": [],
   "source": [
    "from additive.utility import download_from_dict"
   ]
  },
  {
   "cell_type": "code",
   "execution_count": 10,
   "metadata": {},
   "outputs": [
    {
     "name": "stdout",
     "output_type": "stream",
     "text": [
      "([, , ],)\n"
     ]
    }
   ],
   "source": [
    "download_from_dict(links, \"/home/ben_rasoolov/additive_project/data/original_images/\")"
   ]
  },
  {
   "cell_type": "code",
   "execution_count": 14,
   "metadata": {},
   "outputs": [
    {
     "name": "stdout",
     "output_type": "stream",
     "text": [
      "2.2G\t/home/ben_rasoolov/additive_project/data/original_images/V02_T1_Left(Bottom)_500X_3D.csv\r\n",
      "2.2G\t/home/ben_rasoolov/additive_project/data/original_images/V02_T1_Right(Top)_500X_3D.csv\r\n",
      "2.1G\t/home/ben_rasoolov/additive_project/data/original_images/V02_T2_Left(Bottom)_500X_3D.csv\r\n",
      "2.1G\t/home/ben_rasoolov/additive_project/data/original_images/V02_T2_Right(Top)_500X_3D.csv\r\n",
      "2.2G\t/home/ben_rasoolov/additive_project/data/original_images/V03_T1_Left(Bottom)_500X_3D.csv\r\n",
      "2.2G\t/home/ben_rasoolov/additive_project/data/original_images/V03_T1_Right(Top)_500X_3D.csv\r\n",
      "2.2G\t/home/ben_rasoolov/additive_project/data/original_images/V03_T2_Left(Bottom)_500X_3D.csv\r\n",
      "2.2G\t/home/ben_rasoolov/additive_project/data/original_images/V03_T2_Right(Top)_500X_3D.csv\r\n",
      "2.2G\t/home/ben_rasoolov/additive_project/data/original_images/V04_T1_Left(Bottom)_500X_3D.csv\r\n",
      "2.2G\t/home/ben_rasoolov/additive_project/data/original_images/V04_T1_Right(Top)_500X_3D.csv\r\n",
      "2.2G\t/home/ben_rasoolov/additive_project/data/original_images/V04_T2_Left(Bottom)_500X_3D.csv\r\n",
      "2.2G\t/home/ben_rasoolov/additive_project/data/original_images/V04_T2_Right(Top)_500X_3D.csv\r\n",
      "2.2G\t/home/ben_rasoolov/additive_project/data/original_images/V05_T1_Left(Bottom)_500X_3D.csv\r\n",
      "2.2G\t/home/ben_rasoolov/additive_project/data/original_images/V05_T1_Right(Top)_500X_3D.csv\r\n",
      "2.2G\t/home/ben_rasoolov/additive_project/data/original_images/V05_T2_Left(Bottom)_500X_3D.csv\r\n",
      "2.2G\t/home/ben_rasoolov/additive_project/data/original_images/V05_T2_Right(Top)_500X_3D.csv\r\n",
      "2.2G\t/home/ben_rasoolov/additive_project/data/original_images/V06_T1_Left(Bottom)_500X_3D.csv\r\n",
      "2.2G\t/home/ben_rasoolov/additive_project/data/original_images/V06_T1_Right(Top)_500X_3D.csv\r\n",
      "2.2G\t/home/ben_rasoolov/additive_project/data/original_images/V06_T2_Left(Bottom)_500X_3D.csv\r\n",
      "2.2G\t/home/ben_rasoolov/additive_project/data/original_images/V06_T2_Right(Top)_500X_3D.csv\r\n"
     ]
    }
   ],
   "source": [
    "!du -hs /home/ben_rasoolov/additive_project/data/original_images/*csv"
   ]
  },
  {
   "cell_type": "code",
   "execution_count": 11,
   "metadata": {},
   "outputs": [],
   "source": [
    "csv_files = glob.glob(\"/home/ben_rasoolov/additive_project/data/original_images/*csv\")"
   ]
  },
  {
   "cell_type": "code",
   "execution_count": 13,
   "metadata": {},
   "outputs": [
    {
     "name": "stdout",
     "output_type": "stream",
     "text": [
      "/home/ben_rasoolov/additive_project/data/original_images/V06_T2_Left(Bottom)_500X_3D.csv\n",
      "/home/ben_rasoolov/additive_project/data/original_images/V04_T2_Right(Top)_500X_3D.csv/home/ben_rasoolov/additive_project/data/original_images/V02_T2_Right(Top)_500X_3D.csv\n",
      "\n",
      "/home/ben_rasoolov/additive_project/data/original_images/V02_T1_Right(Top)_500X_3D.csv\n",
      "/home/ben_rasoolov/additive_project/data/original_images/V04_T1_Right(Top)_500X_3D.csv\n",
      "/home/ben_rasoolov/additive_project/data/original_images/V06_T2_Right(Top)_500X_3D.csv\n",
      "/home/ben_rasoolov/additive_project/data/original_images/V03_T1_Left(Bottom)_500X_3D.csv\n",
      "/home/ben_rasoolov/additive_project/data/original_images/V03_T2_Left(Bottom)_500X_3D.csv\n",
      "/home/ben_rasoolov/additive_project/data/original_images/V06_T1_Left(Bottom)_500X_3D.csv\n",
      "/home/ben_rasoolov/additive_project/data/original_images/V05_T1_Right(Top)_500X_3D.csv\n",
      "/home/ben_rasoolov/additive_project/data/original_images/V04_T2_Left(Bottom)_500X_3D.csv\n",
      "/home/ben_rasoolov/additive_project/data/original_images/V05_T2_Left(Bottom)_500X_3D.csv\n",
      "/home/ben_rasoolov/additive_project/data/original_images/V05_T1_Left(Bottom)_500X_3D.csv\n",
      "/home/ben_rasoolov/additive_project/data/original_images/V06_T1_Right(Top)_500X_3D.csv\n",
      "/home/ben_rasoolov/additive_project/data/original_images/V03_T1_Right(Top)_500X_3D.csv\n",
      "/home/ben_rasoolov/additive_project/data/original_images/V05_T2_Right(Top)_500X_3D.csv\n"
     ]
    }
   ],
   "source": [
    "def proces_csv_files(file):\n",
    "    print(file)\n",
    "    d, f, e = dfe(file)\n",
    "    x = pd.read_csv(file, header=None)\n",
    "    joblib.dump(x.values.astype('float32'), d+f+\".pd\")\n",
    "\n",
    "with Pool(4) as p:\n",
    "    p.map(proces_csv_files, csv_files)"
   ]
  },
  {
   "cell_type": "code",
   "execution_count": 15,
   "metadata": {},
   "outputs": [
    {
     "name": "stdout",
     "output_type": "stream",
     "text": [
      "'V02_T1_Left(Bottom)_500X_3D.csv'  'V04_T2_Left(Bottom)_500X_3D.csv'\r\n",
      "'V02_T1_Left(Bottom)_500X_3D.pd'   'V04_T2_Left(Bottom)_500X_3D.pd'\r\n",
      "'V02_T1_Right(Top)_500X_3D.csv'    'V04_T2_Right(Top)_500X_3D.csv'\r\n",
      "'V02_T1_Right(Top)_500X_3D.pd'     'V04_T2_Right(Top)_500X_3D.pd'\r\n",
      "'V02_T2_Left(Bottom)_500X_3D.csv'  'V05_T1_Left(Bottom)_500X_3D.csv'\r\n",
      "'V02_T2_Left(Bottom)_500X_3D.pd'   'V05_T1_Left(Bottom)_500X_3D.pd'\r\n",
      "'V02_T2_Right(Top)_500X_3D.csv'    'V05_T1_Right(Top)_500X_3D.csv'\r\n",
      "'V02_T2_Right(Top)_500X_3D.pd'     'V05_T1_Right(Top)_500X_3D.pd'\r\n",
      "'V03_T1_Left(Bottom)_500X_3D.csv'  'V05_T2_Left(Bottom)_500X_3D.csv'\r\n",
      "'V03_T1_Left(Bottom)_500X_3D.pd'   'V05_T2_Left(Bottom)_500X_3D.pd'\r\n",
      "'V03_T1_Right(Top)_500X_3D.csv'    'V05_T2_Right(Top)_500X_3D.csv'\r\n",
      "'V03_T1_Right(Top)_500X_3D.pd'     'V05_T2_Right(Top)_500X_3D.pd'\r\n",
      "'V03_T2_Left(Bottom)_500X_3D.csv'  'V06_T1_Left(Bottom)_500X_3D.csv'\r\n",
      "'V03_T2_Left(Bottom)_500X_3D.pd'   'V06_T1_Left(Bottom)_500X_3D.pd'\r\n",
      "'V03_T2_Right(Top)_500X_3D.csv'    'V06_T1_Right(Top)_500X_3D.csv'\r\n",
      "'V03_T2_Right(Top)_500X_3D.pd'     'V06_T1_Right(Top)_500X_3D.pd'\r\n",
      "'V04_T1_Left(Bottom)_500X_3D.csv'  'V06_T2_Left(Bottom)_500X_3D.csv'\r\n",
      "'V04_T1_Left(Bottom)_500X_3D.pd'   'V06_T2_Left(Bottom)_500X_3D.pd'\r\n",
      "'V04_T1_Right(Top)_500X_3D.csv'    'V06_T2_Right(Top)_500X_3D.csv'\r\n",
      "'V04_T1_Right(Top)_500X_3D.pd'     'V06_T2_Right(Top)_500X_3D.pd'\r\n"
     ]
    }
   ],
   "source": [
    "ls /home/ben_rasoolov/additive_project/data/original_images/"
   ]
  },
  {
   "cell_type": "code",
   "execution_count": 16,
   "metadata": {},
   "outputs": [],
   "source": [
    "from additive.preprocessing import gkern2d\n",
    "from scipy.ndimage import zoom, convolve\n",
    "def get_all_stats(files, n_processes=4):\n",
    "    s = np.array([2.330435, 2.33016])\n",
    "    M = 31\n",
    "    _ = gkern2d(M, 5)\n",
    "    k3 = _ / _.sum()\n",
    "    original_images = bag.from_sequence(files).map(joblib.load)\n",
    "    resized_images   = original_images.map(zoom, zoom=1/s)\n",
    "    smoothed_images = resized_images.map(convolve, weights=k3)\n",
    "    from multiprocessing import Pool\n",
    "    with dask.config.set(pool=Pool(min(n_processes, len(files)))):\n",
    "        all_stats = smoothed_images.compute()\n",
    "    return all_stats"
   ]
  },
  {
   "cell_type": "code",
   "execution_count": 17,
   "metadata": {},
   "outputs": [],
   "source": [
    "raw_images = glob.glob(\"/home/ben_rasoolov/additive_project/data/original_images/*pd\")"
   ]
  },
  {
   "cell_type": "code",
   "execution_count": null,
   "metadata": {},
   "outputs": [],
   "source": [
    "images = get_all_stats(raw_images, n_processes=8)"
   ]
  },
  {
   "cell_type": "code",
   "execution_count": 20,
   "metadata": {},
   "outputs": [
    {
     "data": {
      "text/plain": [
       "20"
      ]
     },
     "execution_count": 20,
     "metadata": {},
     "output_type": "execute_result"
    }
   ],
   "source": [
    "len(images)"
   ]
  },
  {
   "cell_type": "code",
   "execution_count": 26,
   "metadata": {},
   "outputs": [],
   "source": [
    "from additive.utility import save_list_to_files"
   ]
  },
  {
   "cell_type": "code",
   "execution_count": 32,
   "metadata": {},
   "outputs": [
    {
     "name": "stdout",
     "output_type": "stream",
     "text": [
      "File /home/ben_rasoolov/additive_project/data/experiment_03//V06_T2_Left(Bottom)_500X_3D.info exists. Moving it to old_out_path\n",
      "File /home/ben_rasoolov/additive_project/data/experiment_03//V06_T2_Right(Top)_500X_3D.info exists. Moving it to old_out_path\n",
      "File /home/ben_rasoolov/additive_project/data/experiment_03//V04_T2_Left(Bottom)_500X_3D.info exists. Moving it to old_out_path\n",
      "File /home/ben_rasoolov/additive_project/data/experiment_03//V03_T1_Left(Bottom)_500X_3D.info exists. Moving it to old_out_path\n",
      "File /home/ben_rasoolov/additive_project/data/experiment_03//V02_T2_Left(Bottom)_500X_3D.info exists. Moving it to old_out_path\n",
      "File /home/ben_rasoolov/additive_project/data/experiment_03//V04_T1_Left(Bottom)_500X_3D.info exists. Moving it to old_out_path\n",
      "File /home/ben_rasoolov/additive_project/data/experiment_03//V04_T2_Right(Top)_500X_3D.info exists. Moving it to old_out_path\n",
      "File /home/ben_rasoolov/additive_project/data/experiment_03//V02_T1_Right(Top)_500X_3D.info exists. Moving it to old_out_path\n",
      "File /home/ben_rasoolov/additive_project/data/experiment_03//V04_T1_Right(Top)_500X_3D.info exists. Moving it to old_out_path\n",
      "File /home/ben_rasoolov/additive_project/data/experiment_03//V03_T1_Right(Top)_500X_3D.info exists. Moving it to old_out_path\n",
      "File /home/ben_rasoolov/additive_project/data/experiment_03//V03_T2_Right(Top)_500X_3D.info exists. Moving it to old_out_path\n",
      "File /home/ben_rasoolov/additive_project/data/experiment_03//V02_T2_Right(Top)_500X_3D.info exists. Moving it to old_out_path\n",
      "File /home/ben_rasoolov/additive_project/data/experiment_03//V05_T1_Right(Top)_500X_3D.info exists. Moving it to old_out_path\n",
      "File /home/ben_rasoolov/additive_project/data/experiment_03//V02_T1_Left(Bottom)_500X_3D.info exists. Moving it to old_out_path\n",
      "File /home/ben_rasoolov/additive_project/data/experiment_03//V05_T2_Left(Bottom)_500X_3D.info exists. Moving it to old_out_path\n",
      "File /home/ben_rasoolov/additive_project/data/experiment_03//V05_T2_Right(Top)_500X_3D.info exists. Moving it to old_out_path\n",
      "File /home/ben_rasoolov/additive_project/data/experiment_03//V06_T1_Right(Top)_500X_3D.info exists. Moving it to old_out_path\n",
      "File /home/ben_rasoolov/additive_project/data/experiment_03//V06_T1_Left(Bottom)_500X_3D.info exists. Moving it to old_out_path\n",
      "File /home/ben_rasoolov/additive_project/data/experiment_03//V03_T2_Left(Bottom)_500X_3D.info exists. Moving it to old_out_path\n",
      "File /home/ben_rasoolov/additive_project/data/experiment_03//V05_T1_Left(Bottom)_500X_3D.info exists. Moving it to old_out_path\n"
     ]
    }
   ],
   "source": [
    "save_list_to_files(images, raw_images, \"/home/ben_rasoolov/additive_project/data/experiment_03/\", \n",
    "                   \".info\", overwrite='backup')"
   ]
  },
  {
   "cell_type": "code",
   "execution_count": 1,
   "metadata": {},
   "outputs": [],
   "source": [
    "%load_ext autoreload\n",
    "%autoreload 2\n",
    "%reset -f\n",
    "from imports import *"
   ]
  },
  {
   "cell_type": "code",
   "execution_count": 2,
   "metadata": {},
   "outputs": [],
   "source": [
    "files = glob.glob(\"/home/ben_rasoolov/additive_project/data/experiment_03/*info\")"
   ]
  },
  {
   "cell_type": "code",
   "execution_count": 16,
   "metadata": {},
   "outputs": [],
   "source": [
    "from additive.feature_functions import feature_functions_functions as fff\n",
    "from additive.preprocessing import image_from_info_file, process_image"
   ]
  },
  {
   "cell_type": "code",
   "execution_count": 17,
   "metadata": {},
   "outputs": [],
   "source": [
    "@delayed\n",
    "def get_all_global_stats(file, fff):\n",
    "    print(file)\n",
    "    image = image_from_info_file(file)\n",
    "    processed_image = process_image(image)\n",
    "    return {k: v(processed_image) for k, v in fff.items()}"
   ]
  },
  {
   "cell_type": "code",
   "execution_count": 18,
   "metadata": {},
   "outputs": [],
   "source": [
    "out = [get_all_global_stats(file, fff) for file in files]"
   ]
  },
  {
   "cell_type": "code",
   "execution_count": 19,
   "metadata": {},
   "outputs": [
    {
     "name": "stdout",
     "output_type": "stream",
     "text": [
      "/home/ben_rasoolov/additive_project/data/experiment_03/V19_T2_Right(Top)_500X_3D.info/home/ben_rasoolov/additive_project/data/experiment_03/Polished_V13_T2_Right(Top)_500X_3D.info/home/ben_rasoolov/additive_project/data/experiment_03/V19_T1_Right(Top)_500X_3D.info/home/ben_rasoolov/additive_project/data/experiment_03/V11_T2_Right(Top)_500X_3D.info/home/ben_rasoolov/additive_project/data/experiment_03/V19_T2_Left(Bottom)_500X_3D.info/home/ben_rasoolov/additive_project/data/experiment_03/V04_T1_R_3d.info/home/ben_rasoolov/additive_project/data/experiment_03/V05_T1_R_3d.info/home/ben_rasoolov/additive_project/data/experiment_03/Polished_V01_T2_Left(Bottom)_500X_3D.info\n",
      "\n",
      "/home/ben_rasoolov/additive_project/data/experiment_03/V10_T2_Left(Bottom)_500X_3D.info/home/ben_rasoolov/additive_project/data/experiment_03/V02_T1_Right(Top)_500X_3D.info\n",
      "/home/ben_rasoolov/additive_project/data/experiment_03/V05_T1_L_3d.info\n",
      "\n",
      "\n",
      "\n",
      "\n",
      "/home/ben_rasoolov/additive_project/data/experiment_03/Polished_V13_T2_Left(Bottom)_500X_3D.info\n",
      "\n",
      "\n",
      "\n",
      "[ 7.50685901e-03 -2.09363942e-03 -1.23780362e-06  4.15830766e-07]\n",
      "[ 2.10595149e-02 -2.19370350e-03 -2.39739496e-06  1.93935007e-07]\n",
      "[ 2.15858368e-02 -1.59649928e-03 -3.27286499e-06  1.35654431e-07]\n",
      "[ 1.42246336e-02  7.77005899e-04 -1.32097730e-06  1.00166659e-07]\n",
      "[ 2.46296928e-02  2.89351519e-04 -3.19360220e-06  3.28809188e-08]\n",
      "[ 2.64408760e-03 -1.87882224e-03 -4.44722515e-07  2.27696353e-07]\n",
      "/home/ben_rasoolov/additive_project/data/experiment_03/V11_T2_Left(Bottom)_500X_3D.info\n",
      "[ 4.06026259e-02  1.24201187e-03 -6.01614856e-06 -3.69313190e-10]\n",
      "[ 4.04368413e-02  2.94076286e-04 -6.04505877e-06  1.00878708e-07]\n",
      "[ 1.65663195e-02 -1.07102963e-03 -1.49638395e-06  3.81130968e-07]\n",
      "[ 2.18581242e-02 -3.52460919e-04 -2.86895653e-06  2.95683603e-07]\n",
      "[ 2.78169172e-02 -3.85471811e-03 -3.19808772e-06  4.97674586e-07]\n",
      "[ 2.89079478e-02 -3.17516642e-03 -3.59284808e-06  4.51848544e-07]\n",
      "/home/ben_rasoolov/additive_project/data/experiment_03/V19_T1_Left(Bottom)_500X_3D.info\n",
      "/home/ben_rasoolov/additive_project/data/experiment_03/V10_T1_Right(Top)_500X_3D.info\n",
      "/home/ben_rasoolov/additive_project/data/experiment_03/V09_T1_Left(Bottom)_500X_3D.info\n",
      "/home/ben_rasoolov/additive_project/data/experiment_03/V10_T1_Left(Bottom)_500X_3D.info\n",
      "[ 5.76553433e-03 -1.75198439e-03 -9.11267465e-07  4.58078626e-08]\n",
      "/home/ben_rasoolov/additive_project/data/experiment_03/V19_T1_Left(Bottom)_500X_3D_2.info\n",
      "/home/ben_rasoolov/additive_project/data/experiment_03/V05_T2_Right(Top)_500X_3D.info\n",
      "/home/ben_rasoolov/additive_project/data/experiment_03/V04_T1_Right(Top)_500X_3D.info\n",
      "/home/ben_rasoolov/additive_project/data/experiment_03/V01_T1_Left(Bottom)_500X_3D.info\n",
      "/home/ben_rasoolov/additive_project/data/experiment_03/V06_T1_L_3d.info\n",
      "/home/ben_rasoolov/additive_project/data/experiment_03/Polished_V09_T1_Left(Bottom)_500X_3D.info\n",
      "/home/ben_rasoolov/additive_project/data/experiment_03/V06_T2_Right(Top)_500X_3D.info\n",
      "[ 1.57725710e-02  1.06441912e-02 -2.98638817e-06 -4.66340949e-07]\n",
      "[ 1.24827462e-02  1.00986392e-02 -2.43391251e-06 -3.74894198e-07]\n",
      "/home/ben_rasoolov/additive_project/data/experiment_03/V17_T2_Right(Top)_500X_3D.info\n",
      "[ 1.77091296e-02  9.66823297e-04 -1.75009836e-06  1.11765729e-07]\n",
      "[ 3.55085650e-03  1.06654371e-03 -3.39492016e-07 -8.93444455e-08]\n",
      "[ 9.63102996e-03 -3.25851071e-03 -1.20874166e-06  3.97413820e-07]\n",
      "[ 9.00414310e-03 -2.70003361e-05 -1.06665877e-06 -1.34797413e-07]\n",
      "[ 3.44437971e-04 -1.15667010e-03  3.31913591e-07  6.78559154e-08]\n",
      "/home/ben_rasoolov/additive_project/data/experiment_03/V06_T2_L_3d.info\n",
      "/home/ben_rasoolov/additive_project/data/experiment_03/V07_T1_Right(Top)_500X_3D.info\n",
      "[ 2.31019482e-02 -1.44996986e-03 -1.97442722e-06 -3.49339608e-08]\n",
      "/home/ben_rasoolov/additive_project/data/experiment_03/V04_T2_Left(Bottom)_500X_3D.info\n",
      "/home/ben_rasoolov/additive_project/data/experiment_03/V13_T2_Right(Top)_500X_3D.info\n",
      "[ 2.07008284e-02  5.21127661e-03 -2.46220137e-06 -3.73873648e-07]\n",
      "[ 1.78911638e-02  4.90940353e-04 -2.36193800e-06  8.12448572e-08]\n",
      "[ 4.04445670e-02 -8.74954310e-04 -3.75317755e-06  1.28017553e-07]\n",
      "/home/ben_rasoolov/additive_project/data/experiment_03/Polished_V07_T1_Left(Bottom)_500X_3D.info\n",
      "[ 2.12876461e-02  2.33869184e-03 -3.03752532e-06 -1.28952029e-07]\n",
      "/home/ben_rasoolov/additive_project/data/experiment_03/V15_T1_Left(Bottom)_500X_3D.info\n",
      "/home/ben_rasoolov/additive_project/data/experiment_03/V03_T1_Right(Top)_500X_3D.info\n",
      "/home/ben_rasoolov/additive_project/data/experiment_03/V06_T2_Left(Bottom)_500X_3D.info\n",
      "[ 1.23566942e-02  3.79482046e-03 -1.86030078e-06 -4.52801868e-07]\n",
      "[ 1.35033093e-02  2.40667052e-03 -1.44542239e-06 -5.69765925e-08]\n",
      "[ 1.03851791e-02  1.51544858e-03 -1.00923182e-06 -2.18942236e-07]\n",
      "/home/ben_rasoolov/additive_project/data/experiment_03/V16_T1_Right(Top)_500X_3D.info\n",
      "/home/ben_rasoolov/additive_project/data/experiment_03/V08_T1_Left(Bottom)_500X_3D.info\n",
      "[ 4.04368413e-02  2.94076286e-04 -6.04505877e-06  1.00878708e-07]\n",
      "[ 1.16598564e-02  1.97898789e-03 -1.81302600e-06 -1.32584113e-07]\n",
      "/home/ben_rasoolov/additive_project/data/experiment_03/V04_T1_L_3d.info\n",
      "[ 2.27928882e-02 -6.01418385e-04 -1.84706690e-06 -3.76942993e-08]\n",
      "[ 1.41632857e-02  3.88692884e-04 -1.26426348e-06  1.47289392e-08]\n",
      "[ 1.60170098e-02  6.53232233e-04 -1.76531352e-06  9.64597642e-08]\n",
      "/home/ben_rasoolov/additive_project/data/experiment_03/Polished_V17_T1_Left(Bottom)_500X_3D.info\n",
      "/home/ben_rasoolov/additive_project/data/experiment_03/Polished_V05_T1_Left(Bottom)_500X_3D.info\n",
      "/home/ben_rasoolov/additive_project/data/experiment_03/V04_T2_L_3d.info\n",
      "/home/ben_rasoolov/additive_project/data/experiment_03/Polished_V05_T2_Right(Top)_500X_3D.info\n",
      "/home/ben_rasoolov/additive_project/data/experiment_03/V02_T2_Left(Bottom)_500X_3D.info\n",
      "/home/ben_rasoolov/additive_project/data/experiment_03/Polished_V05_T1_Right(Top)_500X_3D.info\n",
      "/home/ben_rasoolov/additive_project/data/experiment_03/V05_T2_Left(Bottom)_500X_3D.info\n",
      "[ 1.76186472e-03 -2.82697806e-04 -4.88183324e-07  1.18568790e-07]\n",
      "[ 1.70519491e-02  7.39521465e-04 -2.52054119e-06 -6.05209373e-08]\n",
      "[ 1.12240868e-02  3.84658782e-03 -7.21733488e-07 -2.86278405e-07]\n",
      "/home/ben_rasoolov/additive_project/data/experiment_03/V15_T2_Left(Bottom)_500X_3D.info\n",
      "[ 7.01685463e-03 -1.84805819e-03 -1.10920804e-06  2.71967729e-07]\n",
      "/home/ben_rasoolov/additive_project/data/experiment_03/V16_T2_Right(Top)_500X_3D.info\n",
      "[ 7.05971654e-03  1.56434827e-03 -8.51622294e-07 -1.28888211e-07]\n",
      "/home/ben_rasoolov/additive_project/data/experiment_03/V06_T1_R_3d.info\n",
      "/home/ben_rasoolov/additive_project/data/experiment_03/V05_T2_R_3d.info\n",
      "[ 1.54812225e-02  4.34089102e-04 -2.16350099e-06  6.09203623e-08]\n",
      "/home/ben_rasoolov/additive_project/data/experiment_03/V09_T1_Right(Top)_500X_3D.info\n",
      "[ 1.90758674e-02  5.13950208e-05 -2.68827905e-06  1.52458878e-07]\n",
      "[ 2.22592312e-02  1.38554165e-03 -3.17402337e-06 -9.48700789e-08]\n",
      "[ 1.80524753e-02  6.87561071e-04 -2.55476400e-06  1.58298942e-07]\n",
      "[ 1.53894065e-02  4.80841916e-03 -2.20611641e-06 -3.86615296e-07]\n",
      "/home/ben_rasoolov/additive_project/data/experiment_03/V04_T2_R_3d.info\n",
      "[ 1.08811635e-02  3.97399115e-04 -2.59287601e-06  2.08872150e-07]\n",
      "/home/ben_rasoolov/additive_project/data/experiment_03/V14_T2_Left(Bottom)_500X_3D.info\n",
      "[ 8.45713687e-03  3.77516627e-03 -1.14913302e-06 -2.37055051e-07]\n",
      "/home/ben_rasoolov/additive_project/data/experiment_03/V02_T1_R_3d.info\n",
      "[ 3.41966180e-02  6.06188846e-04 -2.85733930e-06  3.09248355e-07]\n",
      "/home/ben_rasoolov/additive_project/data/experiment_03/V03_T2_Right(Top)_500X_3D.info\n",
      "/home/ben_rasoolov/additive_project/data/experiment_03/V19_T2_Right(Top)_500X_3D_2.info\n",
      "/home/ben_rasoolov/additive_project/data/experiment_03/V14_T1_Left(Bottom)_500X_3D.info\n",
      "/home/ben_rasoolov/additive_project/data/experiment_03/Polished_V05_T2_Left(Bottom)_500X_3D.info\n",
      "[ 2.78321397e-03  1.85363060e-04 -3.50776371e-07 -4.49738194e-08]\n",
      "[ 2.21401731e-02 -4.91595748e-04 -1.93326933e-06  1.01911228e-08]\n",
      "/home/ben_rasoolov/additive_project/data/experiment_03/V16_T2_Left(Bottom)_500X_3D.info\n",
      "[ 2.11294114e-02 -3.86799243e-03 -2.94306693e-06  1.47169505e-07]\n",
      "[ 9.89602301e-03  2.40363858e-03 -1.33775616e-06 -5.87174547e-08]\n",
      "/home/ben_rasoolov/additive_project/data/experiment_03/V03_T1_R_3d.info\n",
      "[ 5.84418121e-03 -1.25726736e-03 -6.22741042e-07  1.29650346e-08]\n"
     ]
    },
    {
     "name": "stdout",
     "output_type": "stream",
     "text": [
      "[ 1.08968709e-02 -5.77584101e-04 -1.48378799e-06  1.86607544e-07]\n",
      "[ 1.52891655e-02  8.10850422e-04 -2.10872578e-06 -3.05354665e-07]\n",
      "/home/ben_rasoolov/additive_project/data/experiment_03/V18_T1_Right(Top)_500X_3D.info\n",
      "/home/ben_rasoolov/additive_project/data/experiment_03/Polished_V15_T2_Left(Bottom)_500X_3D.info\n",
      "/home/ben_rasoolov/additive_project/data/experiment_03/V04_T1_Left(Bottom)_500X_3D.info\n",
      "/home/ben_rasoolov/additive_project/data/experiment_03/Polished_V03_T2_Right(Top)_500X_3D.info\n",
      "[ 2.26234863e-02  1.96506226e-03 -3.22536561e-06 -2.69058828e-08]\n",
      "/home/ben_rasoolov/additive_project/data/experiment_03/V04_T2_Right(Top)_500X_3D.info\n",
      "[ 1.42750788e-02 -1.38957065e-04 -1.40723491e-06  1.76694836e-07]\n",
      "[ 8.05291070e-03  2.48555232e-03 -1.13633469e-06 -6.25720388e-08]\n",
      "[ 1.90093786e-02  5.44401041e-04 -2.47391398e-06  2.33253759e-07]\n",
      "/home/ben_rasoolov/additive_project/data/experiment_03/V14_T1_Right(Top)_500X_3D.info\n",
      "/home/ben_rasoolov/additive_project/data/experiment_03/V01_T2_Right(Top)_500X_3D.info\n",
      "[ 5.61555483e-03  2.10114318e-03 -6.30842302e-07 -2.71889438e-07]\n",
      "/home/ben_rasoolov/additive_project/data/experiment_03/V02_T2_R_3d.info\n",
      "/home/ben_rasoolov/additive_project/data/experiment_03/Polished_V03_T2_Left(Bottom)_500X_3D.info\n",
      "[ 1.58619837e-02 -8.14180424e-03 -2.44142610e-06  4.35866140e-07]\n",
      "[ 1.83771984e-02 -1.31924042e-03 -2.43139822e-06  2.15394271e-07]\n",
      "[ 1.70676968e-02  1.21955507e-03 -3.89743477e-06  3.71428537e-08]\n",
      "[ 1.72234023e-02  3.45826272e-04 -2.35417561e-06 -7.95737173e-08]\n",
      "/home/ben_rasoolov/additive_project/data/experiment_03/V14_T2_Right(Top)_500X_3D.info\n",
      "/home/ben_rasoolov/additive_project/data/experiment_03/V06_T1_Left(Bottom)_500X_3D.info\n",
      "/home/ben_rasoolov/additive_project/data/experiment_03/Polished_V09_T1_Right(Top)_500X_3D.info\n",
      "/home/ben_rasoolov/additive_project/data/experiment_03/Polished_V07_T2_Right(Top)_500X_3D.info\n",
      "[ 1.37156313e-02  1.25576074e-03 -1.28844335e-06  1.30233470e-07]\n",
      "/home/ben_rasoolov/additive_project/data/experiment_03/V15_T2_Right(Top)_500X_3D.info\n",
      "[ 1.54193588e-02  8.10427244e-04 -1.95214718e-06  1.70001485e-07]\n",
      "[ 1.43086762e-02  1.61875675e-03 -1.76098445e-06  7.41085944e-08]\n",
      "[ 1.90800085e-02  4.84853690e-04 -2.57581764e-06 -6.70487495e-08]\n",
      "/home/ben_rasoolov/additive_project/data/experiment_03/Polished_V09_T2_Right(Top)_500X_3D.info\n",
      "/home/ben_rasoolov/additive_project/data/experiment_03/V18_T1_Left(Bottom)_500X_3D.info\n",
      "[ 1.69267403e-02 -2.07668566e-03 -1.97887133e-06 -4.30959668e-09]\n",
      "/home/ben_rasoolov/additive_project/data/experiment_03/V19_T2_Left(Bottom)_500X_3D_2.info\n",
      "/home/ben_rasoolov/additive_project/data/experiment_03/V05_T2_L_3d.info\n",
      "[ 1.08957189e-02  2.28732220e-03 -1.44928342e-06 -2.38255198e-07]\n",
      "[ 1.80971210e-02  2.29293080e-04 -2.40727034e-06  1.14656042e-07]\n",
      "[ 1.23830192e-02 -2.48140109e-03 -1.76282880e-06  2.35053154e-07]\n",
      "/home/ben_rasoolov/additive_project/data/experiment_03/V11_T1_Right(Top)_500X_3D.info\n",
      "/home/ben_rasoolov/additive_project/data/experiment_03/V12_T1_Right(Top)_500X_3D.info\n",
      "/home/ben_rasoolov/additive_project/data/experiment_03/Polished_V03_T1_Left(Bottom)_500X_3D.info\n",
      "/home/ben_rasoolov/additive_project/data/experiment_03/Polished_V15_T2_Right(Top)_500X_3D.info\n",
      "[ 2.23518233e-02  6.93209940e-07 -3.35387887e-06  9.88352294e-08]\n",
      "[ 7.05765324e-03 -7.43196085e-05 -2.14082938e-06  1.82309659e-07]\n",
      "/home/ben_rasoolov/additive_project/data/experiment_03/Polished_V17_T1_Right(Top)_500X_3D.info\n",
      "[ 1.17610848e-02 -5.95252846e-04 -1.70571486e-06  3.89565189e-08]\n",
      "[ 1.65218880e-02  1.01025820e-04 -2.14617572e-06  7.18752166e-08]\n",
      "[ 2.00044283e-02  6.81741241e-04 -1.52575742e-06 -1.02276619e-07]\n",
      "/home/ben_rasoolov/additive_project/data/experiment_03/V02_T2_L_3d.info\n",
      "/home/ben_rasoolov/additive_project/data/experiment_03/V03_T2_Left(Bottom)_500X_3D.info\n",
      "/home/ben_rasoolov/additive_project/data/experiment_03/Polished_V01_T1_Right(Top)_500X_3D.info\n",
      "/home/ben_rasoolov/additive_project/data/experiment_03/Polished_V11_T2_Right(Top)_500X_3D.info\n",
      "/home/ben_rasoolov/additive_project/data/experiment_03/Polished_V07_T1_Right(Top)_500X_3D.info\n",
      "/home/ben_rasoolov/additive_project/data/experiment_03/V08_T2_Left(Bottom)_500X_3D.info\n",
      "/home/ben_rasoolov/additive_project/data/experiment_03/V10_T2_Right(Top)_500X_3D.info\n",
      "[ 1.41432612e-02 -5.71556934e-04 -6.06154037e-07 -6.07045537e-09]\n",
      "[ 1.69802355e-02 -2.05104719e-03 -2.88726429e-06  2.75313591e-07]\n",
      "[ 1.70676968e-02  1.21955507e-03 -3.89743477e-06  3.71428537e-08]\n",
      "[ 2.28172648e-02  1.12013006e-03 -3.48896770e-06 -3.76419778e-09]\n",
      "[ 2.09466173e-02  1.89967099e-03 -3.05490517e-06 -4.74663626e-08]\n",
      "[ 1.05397031e-02 -2.21133484e-03 -1.15652424e-06  1.03958471e-07]\n",
      "/home/ben_rasoolov/additive_project/data/experiment_03/V07_T2_Right(Top)_500X_3D.info\n",
      "/home/ben_rasoolov/additive_project/data/experiment_03/V12_T2_Left(Bottom)_500X_3D.info\n",
      "/home/ben_rasoolov/additive_project/data/experiment_03/V03_T2_L_3d.info\n",
      "/home/ben_rasoolov/additive_project/data/experiment_03/V07_T1_Left(Bottom)_500X_3D.info\n",
      "/home/ben_rasoolov/additive_project/data/experiment_03/V18_T2_Right(Top)_500X_3D.info\n",
      "[ 1.60781359e-02  3.89381033e-04 -1.95199419e-06  2.37232729e-07]\n",
      "[ 2.59417678e-02 -1.04758789e-04 -3.44009153e-06  5.74433698e-08]\n",
      "/home/ben_rasoolov/additive_project/data/experiment_03/V02_T1_L_3d.info\n",
      "[-7.29433577e-04  1.74244881e-04 -2.31102221e-07 -1.22246800e-07]\n",
      "[ 3.32608331e-02 -1.11831175e-03 -4.64966690e-06  1.80389645e-07]\n",
      "[ 3.67683003e-02  3.30906475e-03 -4.81644101e-06 -2.93176502e-07]\n",
      "[ 1.75822601e-02  4.43959205e-04 -1.72502188e-06 -2.21936968e-07]\n",
      "/home/ben_rasoolov/additive_project/data/experiment_03/V02_T1_Left(Bottom)_500X_3D.info\n",
      "/home/ben_rasoolov/additive_project/data/experiment_03/V11_T1_Left(Bottom)_500X_3D.info\n",
      "/home/ben_rasoolov/additive_project/data/experiment_03/V13_T2_Left(Bottom)_500X_3D.info\n",
      "/home/ben_rasoolov/additive_project/data/experiment_03/V09_T2_Left(Bottom)_500X_3D.info\n",
      "/home/ben_rasoolov/additive_project/data/experiment_03/V17_T2_Left(Bottom)_500X_3D.info\n",
      "/home/ben_rasoolov/additive_project/data/experiment_03/Polished_V11_T2_Left(Bottom)_500X_3D.info\n",
      "[ 2.33126415e-02 -5.29513279e-04 -3.30087181e-06  3.51095690e-08]\n",
      "[ 5.10250392e-03  7.51728926e-04 -9.22534009e-07 -5.00175916e-08]\n",
      "[ 3.15548503e-02 -8.16447725e-05 -3.56332881e-06  3.08883606e-07]\n",
      "[ 1.62477545e-02 -1.23903705e-04 -1.43432215e-06  6.32968548e-09]\n",
      "[ 1.56780635e-02 -1.08801625e-03 -1.97927156e-06  4.53051630e-07]\n",
      "[ 5.18839294e-03  1.75178186e-04 -2.36943433e-07  1.11681232e-07]\n",
      "[ 1.29635867e-02  5.62657084e-05 -1.91707656e-06  2.60591417e-07]\n",
      "/home/ben_rasoolov/additive_project/data/experiment_03/Polished_V17_T2_Left(Bottom)_500X_3D.info\n",
      "/home/ben_rasoolov/additive_project/data/experiment_03/V01_T2_Left(Bottom)_500X_3D.info\n",
      "/home/ben_rasoolov/additive_project/data/experiment_03/V01_T1_Right(Top)_500X_3D.info\n",
      "/home/ben_rasoolov/additive_project/data/experiment_03/Polished_V07_T2_Left(Bottom)_500X_3D.info\n",
      "/home/ben_rasoolov/additive_project/data/experiment_03/V05_T1_Right(Top)_500X_3D.info\n",
      "/home/ben_rasoolov/additive_project/data/experiment_03/V16_T1_Left(Bottom)_500X_3D.info\n",
      "[ 1.65479785e-02  8.00255304e-05 -9.48306738e-07  6.74463752e-08]\n",
      "[ 4.06026259e-02  1.24201187e-03 -6.01614856e-06 -3.69313190e-10]\n",
      "[ 1.18288532e-02 -7.30374616e-04 -1.81011289e-06 -8.05532900e-09]\n",
      "[ 2.82162905e-02 -6.01362528e-04 -3.94565001e-06  4.62426228e-08]\n",
      "[ 2.08751185e-02  1.11828968e-03 -3.06122414e-06  7.88362247e-08]\n",
      "[ 9.14132512e-03 -1.90082040e-03 -1.27895895e-06  4.02094987e-07]\n",
      "/home/ben_rasoolov/additive_project/data/experiment_03/V07_T2_Left(Bottom)_500X_3D.info\n",
      "/home/ben_rasoolov/additive_project/data/experiment_03/V02_T2_Right(Top)_500X_3D.info\n",
      "/home/ben_rasoolov/additive_project/data/experiment_03/V18_T2_Left(Bottom)_500X_3D.info\n",
      "/home/ben_rasoolov/additive_project/data/experiment_03/Polished_V13_T1_Left(Bottom)_500X_3D.info\n",
      "/home/ben_rasoolov/additive_project/data/experiment_03/V12_T1_Left(Bottom)_500X_3D.info\n",
      "/home/ben_rasoolov/additive_project/data/experiment_03/V19_T1_Right(Top)_500X_3D_2.info\n",
      "[ 2.86711057e-02 -1.52708493e-04 -4.27884931e-06  1.79327672e-07]\n",
      "[ 1.75850666e-02  4.78294590e-03 -2.33552777e-06 -3.62137769e-07][ 2.23786864e-02  3.11022996e-03 -2.83938522e-06 -2.36112026e-07]\n",
      "\n"
     ]
    },
    {
     "name": "stdout",
     "output_type": "stream",
     "text": [
      "[ 9.80100457e-03 -3.02482360e-03 -1.36412575e-06  8.23705244e-08]\n",
      "[ 1.62773294e-02  1.30026136e-03 -2.25104641e-06  1.18275790e-07]\n",
      "[ 6.40497117e-03 -2.07893455e-03 -1.09350877e-06  2.16186740e-07]\n",
      "/home/ben_rasoolov/additive_project/data/experiment_03/V08_T2_Right(Top)_500X_3D.info\n",
      "/home/ben_rasoolov/additive_project/data/experiment_03/Polished_V13_T1_Right(Top)_500X_3D.info\n",
      "/home/ben_rasoolov/additive_project/data/experiment_03/V06_T2_R_3d.info\n",
      "/home/ben_rasoolov/additive_project/data/experiment_03/V05_T1_Left(Bottom)_500X_3D.info\n",
      "/home/ben_rasoolov/additive_project/data/experiment_03/V17_T1_Left(Bottom)_500X_3D.info\n",
      "/home/ben_rasoolov/additive_project/data/experiment_03/V08_T1_Right(Top)_500X_3D.info\n",
      "[ 7.39527304e-03 -3.32776008e-03 -1.24969680e-06  2.15907352e-07]\n",
      "[-5.14047172e-04 -2.35033783e-03  6.83046830e-07  1.68691441e-07]\n",
      "[ 2.73739662e-02 -2.21513732e-03 -3.15372677e-06  5.61698400e-07]\n",
      "[ 9.61360209e-03  5.95204295e-05 -1.48892858e-06 -6.47023423e-08]\n",
      "[ 3.07133024e-02 -5.22767362e-04 -4.72105454e-06  1.41945486e-07]\n",
      "/home/ben_rasoolov/additive_project/data/experiment_03/Polished_V03_T1_Right(Top)_500X_3D.info\n",
      "[ 1.06934448e-02 -1.27207447e-03 -1.37647779e-06  1.05320859e-07]\n",
      "/home/ben_rasoolov/additive_project/data/experiment_03/Polished_V17_T2_Right(Top)_500X_3D.info\n",
      "[ 3.33053479e-02  6.49520031e-04 -5.00406804e-06  8.03622282e-08]\n",
      "[ 1.54087115e-03 -7.01471673e-04 -4.71324378e-07  5.39305115e-09]\n",
      "/home/ben_rasoolov/additive_project/data/experiment_03/V06_T1_Right(Top)_500X_3D.info\n",
      "/home/ben_rasoolov/additive_project/data/experiment_03/V03_T2_R_3d.info\n",
      "/home/ben_rasoolov/additive_project/data/experiment_03/Polished_V15_T1_Left(Bottom)_500X_3D.info\n",
      "/home/ben_rasoolov/additive_project/data/experiment_03/V03_T1_L_3d.info\n",
      "[ 4.24710106e-03 -1.16721039e-04 -8.43013395e-07 -2.56880989e-08]\n",
      "[ 1.20978070e-02  1.80672558e-03 -1.25974673e-06 -1.70963489e-07]\n",
      "[ 1.30072864e-02  2.97712070e-03 -1.39548997e-06 -9.41834814e-08]\n",
      "[ 2.45262211e-02  8.99216147e-04 -3.79129762e-06  3.18664632e-08]\n",
      "[ 1.88442754e-02  1.30731912e-03 -2.59130832e-06  5.05470634e-08]\n",
      "/home/ben_rasoolov/additive_project/data/experiment_03/Polished_V09_T2_Left(Bottom)_500X_3D.info\n",
      "/home/ben_rasoolov/additive_project/data/experiment_03/Polished_V15_T1_Right(Top)_500X_3D.info\n",
      "[ 2.56985008e-02  1.16520173e-03 -3.88470648e-06 -1.03526629e-07]\n",
      "/home/ben_rasoolov/additive_project/data/experiment_03/V09_T2_Right(Top)_500X_3D.info\n",
      "/home/ben_rasoolov/additive_project/data/experiment_03/Polished_V11_T1_Right(Top)_500X_3D.info\n",
      "/home/ben_rasoolov/additive_project/data/experiment_03/V15_T1_Right(Top)_500X_3D.info\n",
      "[ 2.11521336e-02  4.67673342e-04 -2.86211149e-06  8.12349930e-08]\n",
      "/home/ben_rasoolov/additive_project/data/experiment_03/Polished_V01_T1_Left(Bottom)_500X_3D.info\n",
      "/home/ben_rasoolov/additive_project/data/experiment_03/V17_T1_Right(Top)_500X_3D.info\n",
      "[ 1.41375163e-02  4.39566210e-03 -1.80042964e-06 -2.60510985e-07]\n",
      "[ 1.27819588e-02  3.50179936e-04 -1.05386608e-06 -2.27198385e-08]\n",
      "/home/ben_rasoolov/additive_project/data/experiment_03/V03_T1_Left(Bottom)_500X_3D.info\n",
      "/home/ben_rasoolov/additive_project/data/experiment_03/V12_T2_Right(Top)_500X_3D.info\n",
      "/home/ben_rasoolov/additive_project/data/experiment_03/Polished_V01_T2_Right(Top)_500X_3D.info\n",
      "/home/ben_rasoolov/additive_project/data/experiment_03/V13_T1_Left(Bottom)_500X_3D.info\n",
      "/home/ben_rasoolov/additive_project/data/experiment_03/V13_T1_Right(Top)_500X_3D.info\n",
      "[ 2.14896174e-02  8.70736104e-04 -3.26337224e-06 -1.24988516e-08]\n",
      "/home/ben_rasoolov/additive_project/data/experiment_03/Polished_V11_T1_Left(Bottom)_500X_3D.info\n",
      "[ 8.15177934e-03  1.81791710e-04 -1.28435402e-06  7.54260865e-08]\n",
      "[ 2.07823648e-02 -6.53538309e-04 -2.79013319e-06  1.94654404e-07]\n",
      "[ 2.95880289e-02 -1.72050216e-04 -3.98607422e-06  4.49789697e-08]\n",
      "[ 1.17571173e-02 -1.02289992e-03 -1.73999774e-06  9.17113270e-08]\n",
      "[ 2.82908205e-02  2.18101682e-03 -3.52726412e-06 -2.13339946e-07]\n",
      "[ 2.32312747e-02 -1.18493512e-03 -3.34538657e-06  2.86682838e-07]\n",
      "[ 1.99561660e-02  1.83927854e-04 -3.14441437e-06 -3.51078812e-08]\n",
      "[ 1.21777338e-02  3.23633094e-03 -1.31878282e-06 -1.15107485e-07]\n",
      "[ 1.19242715e-02  2.54249974e-03 -1.19414687e-06 -1.64979205e-07]\n",
      "[ 2.78839557e-02  1.19725440e-03 -3.66768996e-06  2.96272516e-09]\n",
      "[ 1.77176157e-02  2.86195015e-03 -2.49858448e-06 -8.80095831e-09]\n",
      "[ 1.88562587e-02  6.88378257e-04 -2.61725776e-06  4.77366790e-08]\n"
     ]
    }
   ],
   "source": [
    "all_stats = compute(out)[0]"
   ]
  },
  {
   "cell_type": "code",
   "execution_count": 14,
   "metadata": {},
   "outputs": [],
   "source": [
    "from additive.utility import get_file_info\n",
    "get_file_info(pd.DataFrame(all_stats).assign(file=files), 'file')\\\n",
    "    #.to_csv(\"/home/ben_rasoolov/additive_project/data/paper/data/global_stats_no_transform_v02.csv\")"
   ]
  },
  {
   "cell_type": "code",
   "execution_count": null,
   "metadata": {},
   "outputs": [],
   "source": []
  }
 ],
 "metadata": {
  "kernelspec": {
   "display_name": "Python 3",
   "language": "python",
   "name": "python3"
  },
  "language_info": {
   "codemirror_mode": {
    "name": "ipython",
    "version": 3
   },
   "file_extension": ".py",
   "mimetype": "text/x-python",
   "name": "python",
   "nbconvert_exporter": "python",
   "pygments_lexer": "ipython3",
   "version": "3.6.10"
  }
 },
 "nbformat": 4,
 "nbformat_minor": 4
}
