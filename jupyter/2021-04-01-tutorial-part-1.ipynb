{
 "cells": [
  {
   "cell_type": "code",
   "execution_count": 1,
   "metadata": {
    "ExecuteTime": {
     "end_time": "2021-04-02T21:05:10.751758Z",
     "start_time": "2021-04-02T21:05:03.379436Z"
    }
   },
   "outputs": [],
   "source": [
    "%load_ext autoreload\n",
    "%autoreload 2\n",
    "\n",
    "import numpy as np\n",
    "import pandas as pd\n",
    "import scipy.stats as st\n",
    "import cv2\n",
    "import pickle\n",
    "import collections\n",
    "import seaborn as sns\n",
    "import glob\n",
    "from os import path\n",
    "from os.path import basename, splitext\n",
    "import matplotlib.pyplot as plt\n",
    "import joblib\n",
    "from dask import delayed, compute, bag\n",
    "from dask.distributed import Client, LocalCluster\n",
    "from operator import methodcaller\n",
    "from functools import partial\n",
    "import functional_pipeline as fp\n",
    "\n",
    "import additive.features as f\n",
    "import additive.utility as ut\n",
    "import additive.experimental as ex\n",
    "ut.custom_matplotlib_style()"
   ]
  },
  {
   "cell_type": "code",
   "execution_count": 2,
   "metadata": {
    "ExecuteTime": {
     "end_time": "2021-04-02T21:05:12.412634Z",
     "start_time": "2021-04-02T21:05:10.780264Z"
    }
   },
   "outputs": [],
   "source": [
    "cluster = LocalCluster(2, threads_per_worker=1)\n",
    "client = Client(cluster)"
   ]
  },
  {
   "cell_type": "code",
   "execution_count": 3,
   "metadata": {
    "ExecuteTime": {
     "end_time": "2021-04-02T21:05:12.470008Z",
     "start_time": "2021-04-02T21:05:12.454543Z"
    }
   },
   "outputs": [
    {
     "data": {
      "text/html": [
       "<table style=\"border: 2px solid white;\">\n",
       "<tr>\n",
       "<td style=\"vertical-align: top; border: 0px solid white\">\n",
       "<h3 style=\"text-align: left;\">Client</h3>\n",
       "<ul style=\"text-align: left; list-style: none; margin: 0; padding: 0;\">\n",
       "  <li><b>Scheduler: </b>tcp://127.0.0.1:35731</li>\n",
       "  <li><b>Dashboard: </b><a href='http://127.0.0.1:8787/status' target='_blank'>http://127.0.0.1:8787/status</a></li>\n",
       "</ul>\n",
       "</td>\n",
       "<td style=\"vertical-align: top; border: 0px solid white\">\n",
       "<h3 style=\"text-align: left;\">Cluster</h3>\n",
       "<ul style=\"text-align: left; list-style:none; margin: 0; padding: 0;\">\n",
       "  <li><b>Workers: </b>2</li>\n",
       "  <li><b>Cores: </b>2</li>\n",
       "  <li><b>Memory: </b>21.00 GB</li>\n",
       "</ul>\n",
       "</td>\n",
       "</tr>\n",
       "</table>"
      ],
      "text/plain": [
       "<Client: 'tcp://127.0.0.1:35731' processes=2 threads=2, memory=21.00 GB>"
      ]
     },
     "execution_count": 3,
     "metadata": {},
     "output_type": "execute_result"
    }
   ],
   "source": [
    "client"
   ]
  },
  {
   "cell_type": "code",
   "execution_count": 4,
   "metadata": {
    "ExecuteTime": {
     "end_time": "2021-04-02T21:05:12.522927Z",
     "start_time": "2021-04-02T21:05:12.505437Z"
    }
   },
   "outputs": [],
   "source": [
    "root = f'/data/additive_project/data/raw_csvs'"
   ]
  },
  {
   "cell_type": "markdown",
   "metadata": {},
   "source": [
    "# Downloading Files"
   ]
  },
  {
   "cell_type": "code",
   "execution_count": 5,
   "metadata": {
    "ExecuteTime": {
     "end_time": "2021-04-02T21:05:12.577151Z",
     "start_time": "2021-04-02T21:05:12.557251Z"
    },
    "code_folding": [
     0
    ]
   },
   "outputs": [],
   "source": [
    "links_and_names = pd.Series({'V17_T1_Right(Top)_500X_3D.csv': 'https://auburn.box.com/shared/static/p7dq55csjzt6aub5p2a8fs11rputur75.csv',\n",
    " 'V19_T1_Left(Bottom)_500X_3D.csv': 'https://auburn.box.com/shared/static/0sqgp8kdfgehrzzduz4tdwklt58vz9jr.csv',\n",
    " 'Polished_V03_T1_Left(Bottom)_500X_3D.csv': 'https://auburn.box.com/shared/static/vj5jo9jilqio6kxz0q634zcm616e2j4d.csv',\n",
    " 'V14_T1_Right(Top)_500X_3D.csv': 'https://auburn.box.com/shared/static/glyd1t7agaa29widz4gv1fm3zl4b3smq.csv',\n",
    " 'V16_T2_Left(Bottom)_500X_3D.csv': 'https://auburn.box.com/shared/static/4er2scf3uyivowu55jkyd7vg8xgnay0d.csv',\n",
    " 'V14_T1_Left(Bottom)_500X_3D.csv': 'https://auburn.box.com/shared/static/dpdz5ypokqj71q5nvyxj1qdzh22twqtk.csv',\n",
    " 'V17_T1_Left(Bottom)_500X_3D.csv': 'https://auburn.box.com/shared/static/cbjee163mi949c4e2vs53r6qohuxym5b.csv',\n",
    " 'Polished_V03_T1_Right(Top)_500X_3D.csv': 'https://auburn.box.com/shared/static/ua9jm6yl1hxvamrswhz1br1g2obta371.csv',\n",
    " 'V14_T2_Left(Bottom)_500X_3D.csv': 'https://auburn.box.com/shared/static/7rufyyazktvudvxc5la7uiiiycnyx4e4.csv',\n",
    " 'Polished_V17_T2_Left(Bottom)_500X_3D.csv': 'https://auburn.box.com/shared/static/7afnjtu2a6wr0vqs9uzlli93chf445db.csv',\n",
    " 'Polished_V13_T2_Left(Bottom)_500X_3D.csv': 'https://auburn.box.com/shared/static/nrosvmj9kuq1y4b87qjrddxiroljd0e1.csv',\n",
    " 'Polished_V05_T1_Right(Top)_500X_3D.csv': 'https://auburn.box.com/shared/static/zvf4x2musg1glbjbttxsr7rfjd6j7ahj.csv',\n",
    " 'V16_T1_Left(Bottom)_500X_3D.csv': 'https://auburn.box.com/shared/static/y9zcr01notwhyqw0f5eyw44de03acah6.csv',\n",
    " 'Polished_V17_T1_Left(Bottom)_500X_3D.csv': 'https://auburn.box.com/shared/static/vgq595c9lv4l7oikqu1e0knx2l43i9yk.csv',\n",
    " 'Polished_V15_T1_Right(Top)_500X_3D.csv': 'https://auburn.box.com/shared/static/9nbon41ddyij3z66r1t90qy5qbfdldyx.csv',\n",
    " 'Polished_V09_T1_Right(Top)_500X_3D.csv': 'https://auburn.box.com/shared/static/dh4w5rqawosmfi4s5l4uhc262gcnfhvv.csv',\n",
    " 'Polished_V09_T2_Left(Bottom)_500X_3D.csv': 'https://auburn.box.com/shared/static/jxlsyfnyaujeoxigqty9h6ddrn8a6587.csv',\n",
    " 'V16_T2_Right(Top)_500X_3D.csv': 'https://auburn.box.com/shared/static/xubu79r40qg50agofxqgrrhbkmu4q20o.csv',\n",
    " 'V19_T2_Right(Top)_500X_3D.csv': 'https://auburn.box.com/shared/static/5rk49cpir8iclaph1jyp0e5rtl6opxyr.csv',\n",
    " 'V19_T2_Left(Bottom)_500X_3D.csv': 'https://auburn.box.com/shared/static/tubl0z8x82oelvhma0xow60wblpqbi91.csv',\n",
    " 'Polished_V03_T2_Right(Top)_500X_3D.csv': 'https://auburn.box.com/shared/static/ajk9bkra57hq5e4vuugciwqc256pw3j2.csv',\n",
    " 'Polished_V15_T1_Left(Bottom)_500X_3D.csv': 'https://auburn.box.com/shared/static/jewy8q9l0zmzb63daer7s8o4up4nzsrm.csv',\n",
    " 'Polished_V11_T2_Right(Top)_500X_3D.csv': 'https://auburn.box.com/shared/static/r07qobd7trai71kbcc9q7pyjxp0be9t4.csv',\n",
    " 'Polished_V13_T1_Right(Top)_500X_3D.csv': 'https://auburn.box.com/shared/static/vpeptuut6ox1h4jb7b21h82xordn11eu.csv',\n",
    " 'V16_T1_Right(Top)_500X_3D.csv': 'https://auburn.box.com/shared/static/3hxlhyr9wfchoqc7xx5ac0leaog4gzte.csv',\n",
    " 'Polished_V15_T2_Right(Top)_500X_3D.csv': 'https://auburn.box.com/shared/static/qxws6khps46a7btpd7a10ahv20ppdyg1.csv',\n",
    " 'Polished_V17_T1_Right(Top)_500X_3D.csv': 'https://auburn.box.com/shared/static/yrmul0ftnc496vet6lxyepa7ofr8sk87.csv',\n",
    " 'Polished_V17_T2_Right(Top)_500X_3D.csv': 'https://auburn.box.com/shared/static/ehiv0bp60amfl2kzmqfg9kw76tv9u2ms.csv',\n",
    " 'V18_T1_Left(Bottom)_500X_3D.csv': 'https://auburn.box.com/shared/static/z8k5oi212rpcfvtulryw65mzf5t4wwah.csv',\n",
    " 'Polished_V03_T2_Left(Bottom)_500X_3D.csv': 'https://auburn.box.com/shared/static/nnzc376avao9s8ozng9huudv2krfttny.csv',\n",
    " 'Polished_V05_T2_Right(Top)_500X_3D.csv': 'https://auburn.box.com/shared/static/kb9gurjazk4j024dn85mh2sjwldghorn.csv',\n",
    " 'Polished_V11_T1_Left(Bottom)_500X_3D.csv': 'https://auburn.box.com/shared/static/57k6masq9chzrd16hjyi37zclpvbqksc.csv',\n",
    " 'Polished_V13_T1_Left(Bottom)_500X_3D.csv': 'https://auburn.box.com/shared/static/gjwtgn4phjclm0ezqtwa6o1fwe57004t.csv',\n",
    " 'V13_T1_Right(Top)_500X_3D.csv': 'https://auburn.box.com/shared/static/97hlllnhy1i73wqtrgu2ed349sr3snqq.csv',\n",
    " 'V18_T2_Right(Top)_500X_3D.csv': 'https://auburn.box.com/shared/static/d0jk3i5e8puzvr2svwwsjn5bicmxa565.csv',\n",
    " 'V15_T1_Right(Top)_500X_3D.csv': 'https://auburn.box.com/shared/static/uetcv4wpkzc6gm2i2dl73kgvuzzr800w.csv',\n",
    " 'Polished_V11_T1_Right(Top)_500X_3D.csv': 'https://auburn.box.com/shared/static/klpxzp5pi7p59yposczqkjo3bqca2jjs.csv',\n",
    " 'V14_T2_Right(Top)_500X_3D.csv': 'https://auburn.box.com/shared/static/9orism7mccd1qbn74op5mtre913r9wol.csv',\n",
    " 'V15_T1_Left(Bottom)_500X_3D.csv': 'https://auburn.box.com/shared/static/i2iznpq0fs7k1j9nn954zegiuin5j9p5.csv',\n",
    " 'Polished_V09_T2_Right(Top)_500X_3D.csv': 'https://auburn.box.com/shared/static/ychsv6j83pctayifoz2r10ttp148641t.csv',\n",
    " 'V19_T1_Right(Top)_500X_3D.csv': 'https://auburn.box.com/shared/static/upm0bnfo4rp4vvc3qidse8yj9tnfmhom.csv',\n",
    " 'Polished_V11_T2_Left(Bottom)_500X_3D.csv': 'https://auburn.box.com/shared/static/tqwbmo6siu82fq604930ccg337kob1ns.csv',\n",
    " 'V17_T2_Left(Bottom)_500X_3D.csv': 'https://auburn.box.com/shared/static/r4k4hac3poio6ixxq6yk4ul0p60swky1.csv',\n",
    " 'Polished_V09_T1_Left(Bottom)_500X_3D.csv': 'https://auburn.box.com/shared/static/9klqplr4mjqmb1aunruf5gfhk20kkmdv.csv',\n",
    " 'V18_T2_Left(Bottom)_500X_3D.csv': 'https://auburn.box.com/shared/static/vjs15fbvyc6n9ddua0zk8hg3pzkuklwy.csv',\n",
    " 'Polished_V13_T2_Right(Top)_500X_3D.csv': 'https://auburn.box.com/shared/static/5wnju953hn9lhuo7wmw9fxwbbin2qmej.csv',\n",
    " 'V18_T1_Right(Top)_500X_3D.csv': 'https://auburn.box.com/shared/static/jwmk6i93ft6ci3z7n0v9hl24evpudwds.csv',\n",
    " 'Polished_V05_T1_Left(Bottom)_500X_3D.csv': 'https://auburn.box.com/shared/static/0jjgmenraapunatbeikr3qk3u417yovq.csv',\n",
    " 'V13_T1_Left(Bottom)_500X_3D.csv': 'https://auburn.box.com/shared/static/e6odjhkmy2hn7v7ettzlyqxcl49tamhr.csv',\n",
    " 'Polished_V05_T2_Left(Bottom)_500X_3D.csv': 'https://auburn.box.com/shared/static/zf2lbkbq4gmzg63iigkzxcyl5qw6y2fs.csv',\n",
    " 'V13_T2_Left(Bottom)_500X_3D.csv': 'https://auburn.box.com/shared/static/nrosvmj9kuq1y4b87qjrddxiroljd0e1.csv',\n",
    " 'V15_T2_Right(Top)_500X_3D.csv': 'https://auburn.box.com/shared/static/e76vn6z6ryy7v83whi1s8ljqbrwpdhbs.csv',\n",
    " 'Polished_V15_T2_Left(Bottom)_500X_3D.csv': 'https://auburn.box.com/shared/static/qxws6khps46a7btpd7a10ahv20ppdyg1.csv',\n",
    " 'V15_T2_Left(Bottom)_500X_3D.csv': 'https://auburn.box.com/shared/static/zg5atidig6a3r3qapbhkut6d42c7xqel.csv',\n",
    " 'V17_T2_Right(Top)_500X_3D.csv': 'https://auburn.box.com/shared/static/poyd5xlte5d47edkx9q93epl64jujqfd.csv',\n",
    " 'V07_T2_Right(Top)_500X_3D.csv': 'https://auburn.box.com/shared/static/9y1h6iimqod53khomzfsgeaho5a6xjj4.csv',\n",
    " 'V13_T2_Right(Top)_500X_3D.csv': 'https://auburn.box.com/shared/static/5wnju953hn9lhuo7wmw9fxwbbin2qmej.csv'})"
   ]
  },
  {
   "cell_type": "code",
   "execution_count": 6,
   "metadata": {
    "ExecuteTime": {
     "end_time": "2021-04-02T21:05:12.648398Z",
     "start_time": "2021-04-02T21:05:12.611219Z"
    }
   },
   "outputs": [],
   "source": [
    "sample_links = links_and_names[links_and_names.index.str.startswith('V17')]"
   ]
  },
  {
   "cell_type": "code",
   "execution_count": 7,
   "metadata": {
    "ExecuteTime": {
     "end_time": "2021-04-02T21:05:12.714794Z",
     "start_time": "2021-04-02T21:05:12.686427Z"
    }
   },
   "outputs": [
    {
     "data": {
      "text/plain": [
       "[('V17_T1_Right(Top)_500X_3D.csv',\n",
       "  'https://auburn.box.com/shared/static/p7dq55csjzt6aub5p2a8fs11rputur75.csv'),\n",
       " ('V17_T1_Left(Bottom)_500X_3D.csv',\n",
       "  'https://auburn.box.com/shared/static/cbjee163mi949c4e2vs53r6qohuxym5b.csv'),\n",
       " ('V17_T2_Left(Bottom)_500X_3D.csv',\n",
       "  'https://auburn.box.com/shared/static/r4k4hac3poio6ixxq6yk4ul0p60swky1.csv'),\n",
       " ('V17_T2_Right(Top)_500X_3D.csv',\n",
       "  'https://auburn.box.com/shared/static/poyd5xlte5d47edkx9q93epl64jujqfd.csv')]"
      ]
     },
     "execution_count": 7,
     "metadata": {},
     "output_type": "execute_result"
    }
   ],
   "source": [
    "list(sample_links.items())"
   ]
  },
  {
   "cell_type": "code",
   "execution_count": 8,
   "metadata": {
    "ExecuteTime": {
     "end_time": "2021-04-02T21:05:12.764823Z",
     "start_time": "2021-04-02T21:05:12.748579Z"
    }
   },
   "outputs": [],
   "source": [
    "for k, v in sample_links.items():\n",
    "    b = ut.file_name_from_url(None, root, k)\n",
    "    if path.exists(b):\n",
    "        continue\n",
    "    print(b)\n",
    "    res = client.submit(ut.download_file, v, root, k)"
   ]
  },
  {
   "cell_type": "markdown",
   "metadata": {},
   "source": [
    "# Converting csv to numpy array and save"
   ]
  },
  {
   "cell_type": "code",
   "execution_count": 9,
   "metadata": {},
   "outputs": [],
   "source": [
    "files = glob.glob(root+\"/*\")"
   ]
  },
  {
   "cell_type": "code",
   "execution_count": 12,
   "metadata": {},
   "outputs": [
    {
     "data": {
      "text/plain": [
       "['/data/additive_project/data/raw_csvs/V17_T2_Left(Bottom)_500X_3D.csv',\n",
       " '/data/additive_project/data/raw_csvs/V17_T2_Right(Top)_500X_3D.csv',\n",
       " '/data/additive_project/data/raw_csvs/V17_T1_Left(Bottom)_500X_3D.csv',\n",
       " '/data/additive_project/data/raw_csvs/V17_T1_Right(Top)_500X_3D.csv']"
      ]
     },
     "execution_count": 12,
     "metadata": {},
     "output_type": "execute_result"
    }
   ],
   "source": [
    "def parse_and_save(file):\n",
    "    df = pd.read_csv(file).values.astype('float32')\n",
    "    joblib.dump(df, file.replace('raw_csv', 'raw_array').replace('csv', 'np'))\n",
    "    return file\n",
    "for file in files:\n",
    "    client.submit(parse_and_save, file)"
   ]
  },
  {
   "cell_type": "markdown",
   "metadata": {},
   "source": [
    "# Getting Features"
   ]
  },
  {
   "cell_type": "code",
   "execution_count": 11,
   "metadata": {
    "ExecuteTime": {
     "end_time": "2021-04-02T21:05:23.181123Z",
     "start_time": "2021-04-02T21:05:23.159829Z"
    }
   },
   "outputs": [],
   "source": [
    "new_root = '/data/additive_project/data/raw_arrays'"
   ]
  },
  {
   "cell_type": "code",
   "execution_count": 12,
   "metadata": {
    "ExecuteTime": {
     "end_time": "2021-04-02T21:05:23.525373Z",
     "start_time": "2021-04-02T21:05:23.490222Z"
    }
   },
   "outputs": [],
   "source": [
    "files = glob.glob(new_root+'/*')"
   ]
  },
  {
   "cell_type": "code",
   "execution_count": 13,
   "metadata": {
    "ExecuteTime": {
     "end_time": "2021-04-02T21:05:24.028877Z",
     "start_time": "2021-04-02T21:05:24.007439Z"
    }
   },
   "outputs": [],
   "source": [
    "from scipy.ndimage.filters import convolve\n",
    "from scipy.ndimage import zoom"
   ]
  },
  {
   "cell_type": "code",
   "execution_count": 14,
   "metadata": {
    "ExecuteTime": {
     "end_time": "2021-04-02T21:05:25.203806Z",
     "start_time": "2021-04-02T21:05:25.164538Z"
    }
   },
   "outputs": [],
   "source": [
    "def gkern2d(kernlen=21, nsig=3):\n",
    "    \"\"\"Returns a 2D Gaussian kernel.\"\"\"\n",
    "    x = np.linspace(-nsig, nsig, kernlen+1)\n",
    "    kern1d = np.diff(st.norm.cdf(x))\n",
    "    kern2d = np.outer(kern1d, kern1d)\n",
    "    return kern2d/kern2d.max()\n",
    "k3_ = gkern2d(31, 5)\n",
    "k3 = k3_ / k3_.sum()"
   ]
  },
  {
   "cell_type": "code",
   "execution_count": 15,
   "metadata": {
    "ExecuteTime": {
     "end_time": "2021-04-02T21:05:25.696840Z",
     "start_time": "2021-04-02T21:05:25.676657Z"
    }
   },
   "outputs": [],
   "source": [
    "def pipeline(file):\n",
    "    res = fp.pipeline(file, operations=[\n",
    "        joblib.load, \n",
    "        partial(zoom, zoom=1/ut.SCALE_FACTOR),\n",
    "        partial(convolve, weights=k3),\n",
    "        # ex.adjust_tilt,\n",
    "        # ex.align_image,\n",
    "        f.Features,\n",
    "        methodcaller('run_all_tests')\n",
    "    ])\n",
    "    joblib.dump(res, file.replace('raw_arrays', 'cleaned_v01').replace('.np', '.info'))"
   ]
  },
  {
   "cell_type": "code",
   "execution_count": 16,
   "metadata": {
    "ExecuteTime": {
     "end_time": "2021-04-02T21:05:26.489179Z",
     "start_time": "2021-04-02T21:05:26.467035Z"
    }
   },
   "outputs": [],
   "source": [
    "result_b = bag.from_sequence(files).map(pipeline)"
   ]
  },
  {
   "cell_type": "code",
   "execution_count": null,
   "metadata": {
    "ExecuteTime": {
     "start_time": "2021-04-02T21:05:27.318Z"
    }
   },
   "outputs": [],
   "source": [
    "result = result_b.compute()"
   ]
  },
  {
   "cell_type": "code",
   "execution_count": 56,
   "metadata": {},
   "outputs": [
    {
     "name": "stdout",
     "output_type": "stream",
     "text": [
      "'V17_T1_Right(Top)_500X_3D.info'  'V17_T2_Left(Bottom)_500X_3D.info'\r\n"
     ]
    }
   ],
   "source": [
    "ls /data/additive_project/data/cleaned_v01/"
   ]
  },
  {
   "cell_type": "code",
   "execution_count": null,
   "metadata": {},
   "outputs": [],
   "source": [
    "!mkdir /da"
   ]
  }
 ],
 "metadata": {
  "hide_input": false,
  "kernelspec": {
   "display_name": "additive",
   "language": "python",
   "name": "additive"
  },
  "language_info": {
   "codemirror_mode": {
    "name": "ipython",
    "version": 3
   },
   "file_extension": ".py",
   "mimetype": "text/x-python",
   "name": "python",
   "nbconvert_exporter": "python",
   "pygments_lexer": "ipython3",
   "version": "3.6.10"
  },
  "toc": {
   "base_numbering": 1,
   "nav_menu": {},
   "number_sections": true,
   "sideBar": true,
   "skip_h1_title": false,
   "title_cell": "Table of Contents",
   "title_sidebar": "Contents",
   "toc_cell": false,
   "toc_position": {
    "height": "calc(100% - 180px)",
    "left": "10px",
    "top": "150px",
    "width": "336px"
   },
   "toc_section_display": true,
   "toc_window_display": true
  },
  "varInspector": {
   "cols": {
    "lenName": 16,
    "lenType": 16,
    "lenVar": 40
   },
   "kernels_config": {
    "python": {
     "delete_cmd_postfix": "",
     "delete_cmd_prefix": "del ",
     "library": "var_list.py",
     "varRefreshCmd": "print(var_dic_list())"
    },
    "r": {
     "delete_cmd_postfix": ") ",
     "delete_cmd_prefix": "rm(",
     "library": "var_list.r",
     "varRefreshCmd": "cat(var_dic_list()) "
    }
   },
   "types_to_exclude": [
    "module",
    "function",
    "builtin_function_or_method",
    "instance",
    "_Feature"
   ],
   "window_display": false
  }
 },
 "nbformat": 4,
 "nbformat_minor": 4
}
