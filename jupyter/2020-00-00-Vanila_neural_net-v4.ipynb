{
 "cells": [
  {
   "cell_type": "code",
   "execution_count": 1,
   "metadata": {},
   "outputs": [
    {
     "name": "stderr",
     "output_type": "stream",
     "text": [
      "Using TensorFlow backend.\n"
     ]
    }
   ],
   "source": [
    "import pandas as pd \n",
    "import numpy as np \n",
    "import tensorflow as tf \n",
    "import zipfile\n",
    "from keras.layers import Dense, Reshape\n",
    "import matplotlib.pyplot as plt\n",
    "import math\n",
    "from keras.losses import *\n",
    "from keras.models import Sequential, Model\n",
    "from keras.layers import Dense, Reshape\n",
    "from keras.layers import LSTM, Flatten, Input, Embedding, concatenate, Concatenate, average, maximum, Dropout\n",
    "from sklearn.preprocessing import MinMaxScaler, StandardScaler\n",
    "from sklearn.metrics import mean_squared_error\n",
    "from sklearn.model_selection import train_test_split\n",
    "from keras import optimizers\n",
    "from keras import backend as K\n",
    "from keras.callbacks import TensorBoard\n",
    "from sklearn.utils import shuffle\n"
   ]
  },
  {
   "cell_type": "code",
   "execution_count": 2,
   "metadata": {},
   "outputs": [],
   "source": [
    "def balanceFraudDataframe(df, p): #p is desired fraud/non-fraud ratio\n",
    "    dfFraud = df.loc[df['isFraud']==1,:]\n",
    "    x = len(dfFraud)\n",
    "    n = len(df)\n",
    "    numOfTimesToResample = int((p * n - x)/((1-p) * x))\n",
    "    #print(numOfTimesToResample)\n",
    "    dfBalanced = df\n",
    "    for _ in range(numOfTimesToResample):\n",
    "        dfBalanced = dfBalanced.append(dfFraud)\n",
    "    dfBalanced = shuffle(dfBalanced)\n",
    "    return dfBalanced"
   ]
  },
  {
   "cell_type": "code",
   "execution_count": 3,
   "metadata": {},
   "outputs": [],
   "source": [
    "def findPercentFraud(df):\n",
    "    return len(df.loc[df.isFraud == 0, :])/len(df)"
   ]
  },
  {
   "cell_type": "code",
   "execution_count": 4,
   "metadata": {},
   "outputs": [],
   "source": [
    "df = pd.read_pickle(\"data/dataframe_train_v06.pd\")\n",
    "df_fraud = pd.read_pickle('dfFraud.pd')"
   ]
  },
  {
   "cell_type": "code",
   "execution_count": null,
   "metadata": {},
   "outputs": [],
   "source": []
  },
  {
   "cell_type": "code",
   "execution_count": 5,
   "metadata": {},
   "outputs": [],
   "source": [
    "df['isFraud'] = df_fraud['isFraud']"
   ]
  },
  {
   "cell_type": "code",
   "execution_count": 6,
   "metadata": {},
   "outputs": [],
   "source": [
    "#df.isna().sum().sum()"
   ]
  },
  {
   "cell_type": "code",
   "execution_count": 7,
   "metadata": {},
   "outputs": [
    {
     "data": {
      "text/plain": [
       "StandardScaler(copy=True, with_mean=True, with_std=True)"
      ]
     },
     "execution_count": 7,
     "metadata": {},
     "output_type": "execute_result"
    }
   ],
   "source": [
    "#scaler = MinMaxScaler(feature_range=(0, 1))\n",
    "scaler = StandardScaler()\n",
    "scaler.fit(df.drop('isFraud', axis=1))"
   ]
  },
  {
   "cell_type": "code",
   "execution_count": 8,
   "metadata": {},
   "outputs": [],
   "source": [
    "np.random.seed(1234)\n",
    "choose = np.random.rand(len(df))\n",
    "dfTrain = df.loc[choose >= .2, :]\n",
    "dfTest = df.loc[choose < .2, :]"
   ]
  },
  {
   "cell_type": "code",
   "execution_count": 9,
   "metadata": {},
   "outputs": [
    {
     "data": {
      "text/plain": [
       "(472515, 717)"
      ]
     },
     "execution_count": 9,
     "metadata": {},
     "output_type": "execute_result"
    }
   ],
   "source": [
    "dfTrain.shape"
   ]
  },
  {
   "cell_type": "code",
   "execution_count": 10,
   "metadata": {},
   "outputs": [],
   "source": [
    "assert len(dfTrain) + len(dfTest) == len(df)"
   ]
  },
  {
   "cell_type": "code",
   "execution_count": 11,
   "metadata": {},
   "outputs": [
    {
     "name": "stdout",
     "output_type": "stream",
     "text": [
      "0.964932330190576\n",
      "0.8730815261620949\n"
     ]
    }
   ],
   "source": [
    "print(findPercentFraud(dfTrain))\n",
    "dfTrain = balanceFraudDataframe(dfTrain, .15)\n",
    "print(findPercentFraud(dfTrain))"
   ]
  },
  {
   "cell_type": "code",
   "execution_count": 12,
   "metadata": {},
   "outputs": [],
   "source": [
    "#scaler.fit(df.drop('isFraud', axis=1))"
   ]
  },
  {
   "cell_type": "code",
   "execution_count": 13,
   "metadata": {},
   "outputs": [
    {
     "name": "stdout",
     "output_type": "stream",
     "text": [
      "0.9653209065875874\n"
     ]
    }
   ],
   "source": [
    "print(findPercentFraud(dfTest))"
   ]
  },
  {
   "cell_type": "code",
   "execution_count": 14,
   "metadata": {},
   "outputs": [],
   "source": [
    "x_train = scaler.transform(dfTrain.drop([\"isFraud\"], axis=1))\n",
    "y_train= np.array(dfTrain['isFraud'])\n",
    "\n",
    "x_test = scaler.transform(dfTest.drop([\"isFraud\"], axis=1))\n",
    "y_test = np.array(dfTest['isFraud'])"
   ]
  },
  {
   "cell_type": "code",
   "execution_count": 15,
   "metadata": {},
   "outputs": [
    {
     "name": "stdout",
     "output_type": "stream",
     "text": [
      "Epoch 1/20\n",
      " - 32s - loss: 0.2340 - acc: 0.9176\n",
      "Epoch 2/20\n",
      " - 31s - loss: 0.1923 - acc: 0.9329\n",
      "Epoch 3/20\n",
      " - 31s - loss: 0.1711 - acc: 0.9405\n",
      "Epoch 4/20\n",
      " - 31s - loss: 0.1552 - acc: 0.9460\n",
      "Epoch 5/20\n",
      " - 31s - loss: 0.1409 - acc: 0.9508\n",
      "Epoch 6/20\n",
      " - 31s - loss: 0.1293 - acc: 0.9546\n",
      "Epoch 7/20\n",
      " - 31s - loss: 0.1194 - acc: 0.9575\n",
      "Epoch 8/20\n",
      " - 31s - loss: 0.1108 - acc: 0.9604\n",
      "Epoch 9/20\n",
      " - 31s - loss: 0.1031 - acc: 0.9631\n",
      "Epoch 10/20\n",
      " - 30s - loss: 0.0959 - acc: 0.9653\n",
      "Epoch 11/20\n",
      " - 30s - loss: 0.0894 - acc: 0.9678\n",
      "Epoch 12/20\n",
      " - 30s - loss: 0.0843 - acc: 0.9693\n",
      "Epoch 13/20\n",
      " - 31s - loss: 0.0796 - acc: 0.9708\n",
      "Epoch 14/20\n",
      " - 30s - loss: 0.0748 - acc: 0.9726\n",
      "Epoch 15/20\n",
      " - 31s - loss: 0.0717 - acc: 0.9736\n",
      "Epoch 16/20\n",
      " - 31s - loss: 0.0675 - acc: 0.9752\n",
      "Epoch 17/20\n",
      " - 31s - loss: 0.0649 - acc: 0.9760\n",
      "Epoch 18/20\n",
      " - 31s - loss: 0.0625 - acc: 0.9768\n",
      "Epoch 19/20\n",
      " - 31s - loss: 0.0591 - acc: 0.9782\n",
      "Epoch 20/20\n",
      " - 30s - loss: 0.0569 - acc: 0.9789\n"
     ]
    },
    {
     "data": {
      "text/plain": [
       "<keras.callbacks.History at 0x7f2f1c80cb38>"
      ]
     },
     "execution_count": 15,
     "metadata": {},
     "output_type": "execute_result"
    }
   ],
   "source": [
    "from sklearn.utils import class_weight\n",
    "\n",
    "inputs = Input(shape=(716,))\n",
    "# We stack a deep densely-connected network on top\n",
    "x = Dense(800, activation='relu', use_bias=True)(inputs)\n",
    "x = Dropout(.2)(x)\n",
    "x = Dense(1000,  activation='relu', use_bias=True)(x)\n",
    "x = Dropout(.2)(x)\n",
    "#x = Dense(800, activation='relu', use_bias=True)(x)\n",
    "#x = Dropout(.2)(x)\n",
    "#x = Dense(600, activation='relu', use_bias=True)(x)\n",
    "x = Dense(600, activation='relu', use_bias=True)(x)\n",
    "x = Dropout(.2)(x)\n",
    "x = Dense(200, activation='relu', use_bias=True)(x)\n",
    "# And finally we add the main logistic regression layer\n",
    "output = Dense(1 , activation='sigmoid', name='ANN_output')(x)\n",
    "\n",
    "adam = optimizers.Adam(lr=0.001)\n",
    "model = Model(inputs=inputs, outputs = output)\n",
    "\n",
    "from sklearn.utils.class_weight import compute_class_weight\n",
    "weights = class_weight.compute_class_weight('balanced',\n",
    "                                            np.unique(y_train),\n",
    "                                            y_train)\n",
    "# weights = [4, 1]\n",
    "from sklearn.metrics import roc_auc_score\n",
    "\n",
    "model.compile(loss=\"binary_crossentropy\", optimizer=adam, metrics=['accuracy', ])\n",
    "model.fit(x_train, y_train, epochs=20, batch_size=1024, verbose=2, class_weight= weights)\n"
   ]
  },
  {
   "cell_type": "code",
   "execution_count": 16,
   "metadata": {},
   "outputs": [],
   "source": [
    "#model.compile(loss=\"binary_crossentropy\", optimizer=adam, metrics=['accuracy' ])\n",
    "#model.fit(x_train, y_train, epochs=50, batch_size=1024, verbose=2, )#class_weight= weights)"
   ]
  },
  {
   "cell_type": "code",
   "execution_count": 17,
   "metadata": {},
   "outputs": [
    {
     "name": "stdout",
     "output_type": "stream",
     "text": [
      "118025/118025 [==============================] - 4s 34us/step\n"
     ]
    },
    {
     "data": {
      "text/plain": [
       "[0.082598519538053986, 0.98089387841609499]"
      ]
     },
     "execution_count": 17,
     "metadata": {},
     "output_type": "execute_result"
    }
   ],
   "source": [
    "model.evaluate(x_test, y_test)"
   ]
  },
  {
   "cell_type": "code",
   "execution_count": 18,
   "metadata": {},
   "outputs": [
    {
     "data": {
      "text/plain": [
       "0.9395065134972902"
      ]
     },
     "execution_count": 18,
     "metadata": {},
     "output_type": "execute_result"
    }
   ],
   "source": [
    "from sklearn.metrics import roc_auc_score\n",
    "roc_auc_score(y_test, model.predict(x_test))"
   ]
  },
  {
   "cell_type": "code",
   "execution_count": 20,
   "metadata": {},
   "outputs": [],
   "source": [
    "from datetime import datetime\n",
    "now=datetime.strftime(datetime.now(), '%m_%d_%H_%M')\n",
    "model.save(\"model_v06_%s.h5\"%now)"
   ]
  },
  {
   "cell_type": "code",
   "execution_count": 22,
   "metadata": {},
   "outputs": [
    {
     "data": {
      "text/html": [
       "<div>\n",
       "<style scoped>\n",
       "    .dataframe tbody tr th:only-of-type {\n",
       "        vertical-align: middle;\n",
       "    }\n",
       "\n",
       "    .dataframe tbody tr th {\n",
       "        vertical-align: top;\n",
       "    }\n",
       "\n",
       "    .dataframe thead th {\n",
       "        text-align: right;\n",
       "    }\n",
       "</style>\n",
       "<table border=\"1\" class=\"dataframe\">\n",
       "  <thead>\n",
       "    <tr style=\"text-align: right;\">\n",
       "      <th></th>\n",
       "      <th>isFraud</th>\n",
       "    </tr>\n",
       "    <tr>\n",
       "      <th>TransactionID</th>\n",
       "      <th></th>\n",
       "    </tr>\n",
       "  </thead>\n",
       "  <tbody>\n",
       "    <tr>\n",
       "      <td>3663549</td>\n",
       "      <td>3.683707e-10</td>\n",
       "    </tr>\n",
       "    <tr>\n",
       "      <td>3663550</td>\n",
       "      <td>7.015032e-15</td>\n",
       "    </tr>\n",
       "    <tr>\n",
       "      <td>3663551</td>\n",
       "      <td>2.222747e-23</td>\n",
       "    </tr>\n",
       "    <tr>\n",
       "      <td>3663552</td>\n",
       "      <td>5.567483e-09</td>\n",
       "    </tr>\n",
       "    <tr>\n",
       "      <td>3663553</td>\n",
       "      <td>3.313289e-10</td>\n",
       "    </tr>\n",
       "    <tr>\n",
       "      <td>...</td>\n",
       "      <td>...</td>\n",
       "    </tr>\n",
       "    <tr>\n",
       "      <td>4170235</td>\n",
       "      <td>6.818913e-16</td>\n",
       "    </tr>\n",
       "    <tr>\n",
       "      <td>4170236</td>\n",
       "      <td>3.550236e-10</td>\n",
       "    </tr>\n",
       "    <tr>\n",
       "      <td>4170237</td>\n",
       "      <td>1.628579e-17</td>\n",
       "    </tr>\n",
       "    <tr>\n",
       "      <td>4170238</td>\n",
       "      <td>5.024708e-17</td>\n",
       "    </tr>\n",
       "    <tr>\n",
       "      <td>4170239</td>\n",
       "      <td>1.946154e-08</td>\n",
       "    </tr>\n",
       "  </tbody>\n",
       "</table>\n",
       "<p>506691 rows × 1 columns</p>\n",
       "</div>"
      ],
      "text/plain": [
       "                    isFraud\n",
       "TransactionID              \n",
       "3663549        3.683707e-10\n",
       "3663550        7.015032e-15\n",
       "3663551        2.222747e-23\n",
       "3663552        5.567483e-09\n",
       "3663553        3.313289e-10\n",
       "...                     ...\n",
       "4170235        6.818913e-16\n",
       "4170236        3.550236e-10\n",
       "4170237        1.628579e-17\n",
       "4170238        5.024708e-17\n",
       "4170239        1.946154e-08\n",
       "\n",
       "[506691 rows x 1 columns]"
      ]
     },
     "execution_count": 22,
     "metadata": {},
     "output_type": "execute_result"
    }
   ],
   "source": [
    "df_subm = pd.read_pickle('./data/dataframe_test_v06.pd')\n",
    "x_sub = scaler.transform(df_subm)\n",
    "y_pred = model.predict(x_sub)\n",
    "dfToSubmit = pd.DataFrame(y_pred)\n",
    "dfToSubmit.columns = ['isFraud']\n",
    "dfToSubmit.index = df_subm.index\n",
    "dfToSubmit"
   ]
  },
  {
   "cell_type": "code",
   "execution_count": 23,
   "metadata": {},
   "outputs": [],
   "source": [
    "dfToSubmit.to_csv('./final_submission_%s.csv'%now)"
   ]
  },
  {
   "cell_type": "code",
   "execution_count": null,
   "metadata": {},
   "outputs": [],
   "source": [
    "trainPredict = model.predict(x_train)\n",
    "testPredict = model.predict(x_test)\n",
    "# calculate root mean squared error\n",
    "trainScore = math.sqrt(mean_squared_error(y_train, trainPredict))\n",
    "#trainScore = numpy.mean(numpy.abs((y_train - trainPredict))/y_train)\n",
    "\n",
    "print('Train Score: %.2f MAPE' % (trainScore))\n",
    "testScore = math.sqrt(mean_squared_error(y_test, testPredict))\n",
    "#testScore =  numpy.mean(numpy.abs((y_test - testPredict))/y_test)\n",
    "\n",
    "print('Test Score: %.2f MAPE' % (testScore))\n",
    "\n",
    "\n"
   ]
  },
  {
   "cell_type": "code",
   "execution_count": null,
   "metadata": {},
   "outputs": [],
   "source": []
  },
  {
   "cell_type": "code",
   "execution_count": null,
   "metadata": {},
   "outputs": [],
   "source": []
  },
  {
   "cell_type": "code",
   "execution_count": null,
   "metadata": {},
   "outputs": [],
   "source": []
  }
 ],
 "metadata": {
  "kernelspec": {
   "display_name": "Python 3",
   "language": "python",
   "name": "python3"
  },
  "language_info": {
   "codemirror_mode": {
    "name": "ipython",
    "version": 3
   },
   "file_extension": ".py",
   "mimetype": "text/x-python",
   "name": "python",
   "nbconvert_exporter": "python",
   "pygments_lexer": "ipython3",
   "version": "3.6.9"
  }
 },
 "nbformat": 4,
 "nbformat_minor": 2
}
