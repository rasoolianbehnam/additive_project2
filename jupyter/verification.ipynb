{
 "cells": [
  {
   "cell_type": "markdown",
   "metadata": {},
   "source": [
    "# Getting Stats for different variations"
   ]
  },
  {
   "cell_type": "code",
   "execution_count": 14,
   "metadata": {},
   "outputs": [],
   "source": [
    "stats = pd.read_csv(\"../data/paper/data/stats.csv\")"
   ]
  },
  {
   "cell_type": "code",
   "execution_count": 15,
   "metadata": {},
   "outputs": [],
   "source": [
    "cond = stats['Variation'] != '6.25% area'\n",
    "data = stats[cond].groupby(['file', 'Variation']).mean().reset_index()\n",
    "data = data.set_index(['Variation', 'file']).stack().rename('Statistic Value($\\mu m$)').reset_index()\\\n",
    "    .rename(columns = {\"level_2\": \"Measure\"})"
   ]
  },
  {
   "cell_type": "code",
   "execution_count": null,
   "metadata": {},
   "outputs": [],
   "source": []
  },
  {
   "cell_type": "code",
   "execution_count": 29,
   "metadata": {},
   "outputs": [
    {
     "name": "stderr",
     "output_type": "stream",
     "text": [
      "/home/bzr0014/miniconda3/envs/additive/lib/python3.6/site-packages/ipykernel_launcher.py:4: SettingWithCopyWarning: \n",
      "A value is trying to be set on a copy of a slice from a DataFrame.\n",
      "Try using .loc[row_indexer,col_indexer] = value instead\n",
      "\n",
      "See the caveats in the documentation: http://pandas.pydata.org/pandas-docs/stable/indexing.html#indexing-view-versus-copy\n",
      "  after removing the cwd from sys.path.\n"
     ]
    },
    {
     "data": {
      "image/png": "[encoded data removed]",
      "text/plain": [
       "<Figure size 514.45x297.72 with 1 Axes>"
      ]
     },
     "metadata": {
      "needs_background": "light"
     },
     "output_type": "display_data"
    }
   ],
   "source": [
    "# sns.set_palette(\"deep\")\n",
    "d = data[data['Measure'] != 'r10_iso']\n",
    "dic = {'rv': r\"$R_v$\", 'rq': r\"$R_q$\", 'ra': r\"$R_a$\", 'rz': r\"$R_z$\"}\n",
    "d['Measure'] = data['Measure'].map(dic)\n",
    "ax = sns.catplot(data=d, kind='bar',  height=8.27/2, aspect=11.7/8.27, \n",
    "                 x='Measure', y='Statistic Value($\\mu m$)', hue='Variation')\n",
    "savefig('../data/paper/figures/global_measure_comparison.png', dpi=300)"
   ]
  },
  {
   "cell_type": "markdown",
   "metadata": {},
   "source": [
    "# Experiment: Comparing repeated measures"
   ]
  },
  {
   "cell_type": "code",
   "execution_count": 8,
   "metadata": {},
   "outputs": [
    {
     "name": "stdout",
     "output_type": "stream",
     "text": [
      "The autoreload extension is already loaded. To reload it, use:\n",
      "  %reload_ext autoreload\n"
     ]
    }
   ],
   "source": [
    "%load_ext autoreload\n",
    "%autoreload 2\n",
    "%reset -f"
   ]
  },
  {
   "cell_type": "code",
   "execution_count": 9,
   "metadata": {},
   "outputs": [],
   "source": [
    "from imports import *\n",
    "from additive.utility import dfe, get_file_info\n",
    "from sh import wget\n",
    "from numpy import genfromtxt"
   ]
  },
  {
   "cell_type": "code",
   "execution_count": 10,
   "metadata": {},
   "outputs": [],
   "source": [
    "info_files = glob.glob(\"../data/experiment_03//*_2.info\")\n",
    "info_files = info_files + [x.replace(\"_2\", \"\") for x in info_files]"
   ]
  },
  {
   "cell_type": "code",
   "execution_count": 11,
   "metadata": {},
   "outputs": [],
   "source": [
    "def get_stats_from_file(data):\n",
    "    if isinstance(data, str):\n",
    "        data = joblib.load(data)['value']\n",
    "    return data.statistics, data.circle_statistics#.describe()"
   ]
  },
  {
   "cell_type": "code",
   "execution_count": 12,
   "metadata": {},
   "outputs": [],
   "source": [
    "with Pool(8) as p:\n",
    "    all_stats_ = p.map(get_stats_from_file, info_files)"
   ]
  },
  {
   "cell_type": "code",
   "execution_count": 95,
   "metadata": {},
   "outputs": [],
   "source": [
    "global_stats_ = [x for x, y in all_stats_]\n",
    "circle_stats_ = [y for x, y in all_stats_]"
   ]
  },
  {
   "cell_type": "code",
   "execution_count": 96,
   "metadata": {},
   "outputs": [
    {
     "data": {
      "text/html": [
       "<div>\n",
       "<style scoped>\n",
       "    .dataframe tbody tr th:only-of-type {\n",
       "        vertical-align: middle;\n",
       "    }\n",
       "\n",
       "    .dataframe tbody tr th {\n",
       "        vertical-align: top;\n",
       "    }\n",
       "\n",
       "    .dataframe thead th {\n",
       "        text-align: right;\n",
       "    }\n",
       "</style>\n",
       "<table border=\"1\" class=\"dataframe\">\n",
       "  <thead>\n",
       "    <tr style=\"text-align: right;\">\n",
       "      <th></th>\n",
       "      <th>index</th>\n",
       "      <th>rv</th>\n",
       "      <th>ra</th>\n",
       "      <th>rz</th>\n",
       "      <th>rq</th>\n",
       "      <th>r10_iso</th>\n",
       "      <th>file</th>\n",
       "      <th>repetition</th>\n",
       "    </tr>\n",
       "  </thead>\n",
       "  <tbody>\n",
       "    <tr>\n",
       "      <th>0</th>\n",
       "      <td>0</td>\n",
       "      <td>180.668280</td>\n",
       "      <td>28.297204</td>\n",
       "      <td>18.416615</td>\n",
       "      <td>40.537096</td>\n",
       "      <td>NaN</td>\n",
       "      <td>V19_T1_Right(Top)_500X_3D</td>\n",
       "      <td>2</td>\n",
       "    </tr>\n",
       "    <tr>\n",
       "      <th>1</th>\n",
       "      <td>1</td>\n",
       "      <td>179.286918</td>\n",
       "      <td>29.452539</td>\n",
       "      <td>19.470803</td>\n",
       "      <td>41.059895</td>\n",
       "      <td>NaN</td>\n",
       "      <td>V19_T1_Right(Top)_500X_3D</td>\n",
       "      <td>2</td>\n",
       "    </tr>\n",
       "    <tr>\n",
       "      <th>2</th>\n",
       "      <td>2</td>\n",
       "      <td>176.691939</td>\n",
       "      <td>31.504457</td>\n",
       "      <td>21.499101</td>\n",
       "      <td>42.336516</td>\n",
       "      <td>NaN</td>\n",
       "      <td>V19_T1_Right(Top)_500X_3D</td>\n",
       "      <td>2</td>\n",
       "    </tr>\n",
       "    <tr>\n",
       "      <th>3</th>\n",
       "      <td>3</td>\n",
       "      <td>173.161809</td>\n",
       "      <td>34.531464</td>\n",
       "      <td>24.366313</td>\n",
       "      <td>44.567935</td>\n",
       "      <td>NaN</td>\n",
       "      <td>V19_T1_Right(Top)_500X_3D</td>\n",
       "      <td>2</td>\n",
       "    </tr>\n",
       "    <tr>\n",
       "      <th>4</th>\n",
       "      <td>4</td>\n",
       "      <td>169.000613</td>\n",
       "      <td>38.458735</td>\n",
       "      <td>27.918929</td>\n",
       "      <td>47.696514</td>\n",
       "      <td>NaN</td>\n",
       "      <td>V19_T1_Right(Top)_500X_3D</td>\n",
       "      <td>2</td>\n",
       "    </tr>\n",
       "    <tr>\n",
       "      <th>...</th>\n",
       "      <td>...</td>\n",
       "      <td>...</td>\n",
       "      <td>...</td>\n",
       "      <td>...</td>\n",
       "      <td>...</td>\n",
       "      <td>...</td>\n",
       "      <td>...</td>\n",
       "      <td>...</td>\n",
       "    </tr>\n",
       "    <tr>\n",
       "      <th>55684</th>\n",
       "      <td>7245</td>\n",
       "      <td>87.966996</td>\n",
       "      <td>16.938349</td>\n",
       "      <td>18.855455</td>\n",
       "      <td>22.201247</td>\n",
       "      <td>60.226305</td>\n",
       "      <td>V19_T2_Left(Bottom)_500X_3D</td>\n",
       "      <td>1</td>\n",
       "    </tr>\n",
       "    <tr>\n",
       "      <th>55685</th>\n",
       "      <td>7246</td>\n",
       "      <td>75.403560</td>\n",
       "      <td>13.912015</td>\n",
       "      <td>14.814021</td>\n",
       "      <td>18.700508</td>\n",
       "      <td>49.211100</td>\n",
       "      <td>V19_T2_Left(Bottom)_500X_3D</td>\n",
       "      <td>1</td>\n",
       "    </tr>\n",
       "    <tr>\n",
       "      <th>55686</th>\n",
       "      <td>7247</td>\n",
       "      <td>62.561338</td>\n",
       "      <td>11.055807</td>\n",
       "      <td>11.367236</td>\n",
       "      <td>15.344890</td>\n",
       "      <td>39.316375</td>\n",
       "      <td>V19_T2_Left(Bottom)_500X_3D</td>\n",
       "      <td>1</td>\n",
       "    </tr>\n",
       "    <tr>\n",
       "      <th>55687</th>\n",
       "      <td>7248</td>\n",
       "      <td>51.975379</td>\n",
       "      <td>8.899100</td>\n",
       "      <td>8.829132</td>\n",
       "      <td>12.696007</td>\n",
       "      <td>31.425529</td>\n",
       "      <td>V19_T2_Left(Bottom)_500X_3D</td>\n",
       "      <td>1</td>\n",
       "    </tr>\n",
       "    <tr>\n",
       "      <th>55688</th>\n",
       "      <td>7249</td>\n",
       "      <td>45.982700</td>\n",
       "      <td>7.752109</td>\n",
       "      <td>7.481262</td>\n",
       "      <td>11.238276</td>\n",
       "      <td>27.938360</td>\n",
       "      <td>V19_T2_Left(Bottom)_500X_3D</td>\n",
       "      <td>1</td>\n",
       "    </tr>\n",
       "  </tbody>\n",
       "</table>\n",
       "<p>55689 rows × 8 columns</p>\n",
       "</div>"
      ],
      "text/plain": [
       "       index          rv         ra         rz         rq    r10_iso  \\\n",
       "0          0  180.668280  28.297204  18.416615  40.537096        NaN   \n",
       "1          1  179.286918  29.452539  19.470803  41.059895        NaN   \n",
       "2          2  176.691939  31.504457  21.499101  42.336516        NaN   \n",
       "3          3  173.161809  34.531464  24.366313  44.567935        NaN   \n",
       "4          4  169.000613  38.458735  27.918929  47.696514        NaN   \n",
       "...      ...         ...        ...        ...        ...        ...   \n",
       "55684   7245   87.966996  16.938349  18.855455  22.201247  60.226305   \n",
       "55685   7246   75.403560  13.912015  14.814021  18.700508  49.211100   \n",
       "55686   7247   62.561338  11.055807  11.367236  15.344890  39.316375   \n",
       "55687   7248   51.975379   8.899100   8.829132  12.696007  31.425529   \n",
       "55688   7249   45.982700   7.752109   7.481262  11.238276  27.938360   \n",
       "\n",
       "                              file  repetition  \n",
       "0        V19_T1_Right(Top)_500X_3D           2  \n",
       "1        V19_T1_Right(Top)_500X_3D           2  \n",
       "2        V19_T1_Right(Top)_500X_3D           2  \n",
       "3        V19_T1_Right(Top)_500X_3D           2  \n",
       "4        V19_T1_Right(Top)_500X_3D           2  \n",
       "...                            ...         ...  \n",
       "55684  V19_T2_Left(Bottom)_500X_3D           1  \n",
       "55685  V19_T2_Left(Bottom)_500X_3D           1  \n",
       "55686  V19_T2_Left(Bottom)_500X_3D           1  \n",
       "55687  V19_T2_Left(Bottom)_500X_3D           1  \n",
       "55688  V19_T2_Left(Bottom)_500X_3D           1  \n",
       "\n",
       "[55689 rows x 8 columns]"
      ]
     },
     "execution_count": 96,
     "metadata": {},
     "output_type": "execute_result"
    }
   ],
   "source": [
    "global_stats = pd.concat([x.assign(file=dfe(f)[1]) for x, f in zip(global_stats_, info_files)])\\\n",
    "    .reset_index()#.drop('index', axis=1)#.rename(columns={\"index\": \"measure\"})\n",
    "global_stats['repetition'] = global_stats['file'].str.contains(\"_2\") * 1 + 1\n",
    "global_stats['file'] = global_stats['file'].str.replace(\"_2\", '')\n",
    "global_stats"
   ]
  },
  {
   "cell_type": "code",
   "execution_count": 107,
   "metadata": {},
   "outputs": [
    {
     "data": {
      "text/plain": [
       "<matplotlib.axes._subplots.AxesSubplot at 0x7f97a2c701d0>"
      ]
     },
     "execution_count": 107,
     "metadata": {},
     "output_type": "execute_result"
    },
    {
     "data": {
      "image/png": "[encoded data removed]",
      "text/plain": [
       "<Figure size 1080x576 with 1 Axes>"
      ]
     },
     "metadata": {
      "needs_background": "light"
     },
     "output_type": "display_data"
    }
   ],
   "source": [
    "%matplotlib inline\n",
    "fig, ax = plt.subplots(figsize=(15, 8))\n",
    "#tt = t.stack().reset_index().rename(columns={'level_2': 'measure', 0: 'value'})\n",
    "sns.barplot(data=global_stats, x='file', y='ra', hue='repetition')"
   ]
  },
  {
   "cell_type": "code",
   "execution_count": 106,
   "metadata": {},
   "outputs": [
    {
     "name": "stdout",
     "output_type": "stream",
     "text": [
      "V19_T2_Left(Bottom)_500X_3D ra 0.15426378822213835\n",
      "V19_T2_Left(Bottom)_500X_3D rv 0.15046199388792791\n",
      "V19_T2_Left(Bottom)_500X_3D rq 0.056542146837501715\n"
     ]
    }
   ],
   "source": [
    "from scipy.stats import ttest_ind\n",
    "for col in ['rho', 'ra', 'rv', 'rz', 'rq']:\n",
    "    if col not in global_stats.columns:\n",
    "        continue\n",
    "    for file in np.unique(global_stats['file']):\n",
    "        cond1 = (global_stats['repetition'] == 1) & (global_stats['file'] == file)\n",
    "        cond2 = (global_stats['repetition'] == 2) & (global_stats['file'] == file)\n",
    "        ra = global_stats[col]\n",
    "        pvalue = ttest_ind(ra[cond1], ra[cond2]).pvalue\n",
    "        if pvalue > .05:\n",
    "            print(file, col, pvalue)"
   ]
  },
  {
   "cell_type": "code",
   "execution_count": 32,
   "metadata": {},
   "outputs": [
    {
     "data": {
      "text/plain": [
       "array([0.42910444, 0.42915508])"
      ]
     },
     "execution_count": 32,
     "metadata": {},
     "output_type": "execute_result"
    }
   ],
   "source": [
    "s = np.array([2.330435, 2.33016])\n",
    "1/s"
   ]
  }
 ],
 "metadata": {
  "kernelspec": {
   "display_name": "Python 3",
   "language": "python",
   "name": "python3"
  },
  "language_info": {
   "codemirror_mode": {
    "name": "ipython",
    "version": 3
   },
   "file_extension": ".py",
   "mimetype": "text/x-python",
   "name": "python",
   "nbconvert_exporter": "python",
   "pygments_lexer": "ipython3",
   "version": "3.6.10"
  }
 },
 "nbformat": 4,
 "nbformat_minor": 4
}
