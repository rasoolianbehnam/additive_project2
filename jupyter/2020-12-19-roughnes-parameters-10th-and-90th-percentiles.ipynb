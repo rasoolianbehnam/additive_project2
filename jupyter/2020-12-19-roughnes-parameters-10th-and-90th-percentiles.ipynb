{
 "cells": [
  {
   "cell_type": "code",
   "execution_count": 1,
   "metadata": {},
   "outputs": [],
   "source": [
    "%load_ext autoreload\n",
    "%autoreload 2\n",
    "import additive.utility as ut\n",
    "from additive.features import Features\n",
    "from dask import compute, delayed\n",
    "import dask.bag as db\n",
    "import matplotlib.pyplot as plt\n",
    "import additive.feature_functions_v02 as ff\n",
    "import numpy as np\n",
    "import pandas as pd\n",
    "import joblib\n",
    "import glob\n",
    "from functools import partial"
   ]
  },
  {
   "cell_type": "code",
   "execution_count": 2,
   "metadata": {},
   "outputs": [],
   "source": [
    "data_dir = \"../data/experiment_03/\"\n",
    "files = pd.Series(glob.glob(data_dir+\"*info\"), name='files')"
   ]
  },
  {
   "cell_type": "code",
   "execution_count": 3,
   "metadata": {},
   "outputs": [],
   "source": [
    "file_info = ut.get_file_info(files)"
   ]
  },
  {
   "cell_type": "code",
   "execution_count": 4,
   "metadata": {},
   "outputs": [],
   "source": [
    "as_built_files = file_info[~file_info['ispolished'] & file_info['specimen'].isin({'V12', 'V14', 'V18'})]\n",
    "polished_files = file_info[file_info['ispolished'] & file_info['specimen'].isin({'V11', 'V13', 'V17'})]"
   ]
  },
  {
   "cell_type": "code",
   "execution_count": 5,
   "metadata": {},
   "outputs": [
    {
     "data": {
      "text/html": [
       "<div>\n",
       "<style scoped>\n",
       "    .dataframe tbody tr th:only-of-type {\n",
       "        vertical-align: middle;\n",
       "    }\n",
       "\n",
       "    .dataframe tbody tr th {\n",
       "        vertical-align: top;\n",
       "    }\n",
       "\n",
       "    .dataframe thead th {\n",
       "        text-align: right;\n",
       "    }\n",
       "</style>\n",
       "<table border=\"1\" class=\"dataframe\">\n",
       "  <thead>\n",
       "    <tr style=\"text-align: right;\">\n",
       "      <th></th>\n",
       "      <th>ispolished</th>\n",
       "      <th>specimen</th>\n",
       "      <th>T</th>\n",
       "      <th>RL</th>\n",
       "      <th>files</th>\n",
       "    </tr>\n",
       "  </thead>\n",
       "  <tbody>\n",
       "    <tr>\n",
       "      <th>3</th>\n",
       "      <td>False</td>\n",
       "      <td>V14</td>\n",
       "      <td>T1</td>\n",
       "      <td>R</td>\n",
       "      <td>../data/experiment_03/V14_T1_Right(Top)_500X_3...</td>\n",
       "    </tr>\n",
       "    <tr>\n",
       "      <th>25</th>\n",
       "      <td>False</td>\n",
       "      <td>V12</td>\n",
       "      <td>T2</td>\n",
       "      <td>L</td>\n",
       "      <td>../data/experiment_03/V12_T2_Left(Bottom)_500X...</td>\n",
       "    </tr>\n",
       "    <tr>\n",
       "      <th>59</th>\n",
       "      <td>False</td>\n",
       "      <td>V18</td>\n",
       "      <td>T1</td>\n",
       "      <td>L</td>\n",
       "      <td>../data/experiment_03/V18_T1_Left(Bottom)_500X...</td>\n",
       "    </tr>\n",
       "  </tbody>\n",
       "</table>\n",
       "</div>"
      ],
      "text/plain": [
       "    ispolished specimen   T RL  \\\n",
       "3        False      V14  T1  R   \n",
       "25       False      V12  T2  L   \n",
       "59       False      V18  T1  L   \n",
       "\n",
       "                                                files  \n",
       "3   ../data/experiment_03/V14_T1_Right(Top)_500X_3...  \n",
       "25  ../data/experiment_03/V12_T2_Left(Bottom)_500X...  \n",
       "59  ../data/experiment_03/V18_T1_Left(Bottom)_500X...  "
      ]
     },
     "execution_count": 5,
     "metadata": {},
     "output_type": "execute_result"
    }
   ],
   "source": [
    "chosen_file_info = ut.pd.concat([as_built_files, polished_files])\n",
    "chosen_file_info.head(3)"
   ]
  },
  {
   "cell_type": "code",
   "execution_count": 6,
   "metadata": {},
   "outputs": [],
   "source": [
    "def get_features(img, feature_funs):\n",
    "    return {func_name: func(img) for func_name, func in feature_funs.items()}\n",
    "\n",
    "def resize_image(img, slices):\n",
    "    return(img[slices])\n",
    "\n",
    "def load_img(file):\n",
    "    from additive.features import Features\n",
    "    return np.array(joblib.load(file)['value'].x)\n",
    "\n",
    "def aggregator_max(x):\n",
    "    return np.sort(x.reshape(-1))[-10:].mean()\n",
    "\n",
    "def aggregator_min(x):\n",
    "    return np.sort(x.reshape(-1))[:10].mean()"
   ]
  },
  {
   "cell_type": "code",
   "execution_count": 7,
   "metadata": {},
   "outputs": [],
   "source": [
    "features_min = ff.Features(aggregator_min)\n",
    "features_max = ff.Features(aggregator_max)"
   ]
  },
  {
   "cell_type": "code",
   "execution_count": 8,
   "metadata": {},
   "outputs": [],
   "source": [
    "features_all = {k+\"_min_10_avg\": v for k, v in features_min.functions.items()}\n",
    "features_max = {k+\"_max_10_avg\": v for k, v in features_max.functions.items()}\n",
    "features_all.update(features_max)"
   ]
  },
  {
   "cell_type": "code",
   "execution_count": 9,
   "metadata": {},
   "outputs": [],
   "source": [
    "slices = (slice(2000, -2000), slice(2000, -2000))\n",
    "features_d = db.from_sequence(chosen_file_info.files)\\\n",
    "    .map(load_img)\\\n",
    "    .map(resize_image, slices=slices)\\\n",
    "    .map(get_features, feature_funs=features_all)"
   ]
  },
  {
   "cell_type": "code",
   "execution_count": 10,
   "metadata": {},
   "outputs": [],
   "source": [
    "features = features_d.compute()"
   ]
  },
  {
   "cell_type": "code",
   "execution_count": 12,
   "metadata": {},
   "outputs": [],
   "source": [
    "feature_df = pd.DataFrame(features)\n",
    "feature_df['files'] = chosen_file_info.files.values\n",
    "features_df = chosen_file_info.merge(feature_df, on='files')"
   ]
  },
  {
   "cell_type": "code",
   "execution_count": 18,
   "metadata": {},
   "outputs": [],
   "source": [
    "features_df.to_csv(\"../data/min_and_max_10_1d_params.csv\")"
   ]
  }
 ],
 "metadata": {
  "hide_input": false,
  "kernelspec": {
   "display_name": "additive",
   "language": "python",
   "name": "additive"
  },
  "language_info": {
   "codemirror_mode": {
    "name": "ipython",
    "version": 3
   },
   "file_extension": ".py",
   "mimetype": "text/x-python",
   "name": "python",
   "nbconvert_exporter": "python",
   "pygments_lexer": "ipython3",
   "version": "3.6.10"
  },
  "toc": {
   "base_numbering": 1,
   "nav_menu": {},
   "number_sections": true,
   "sideBar": true,
   "skip_h1_title": false,
   "title_cell": "Table of Contents",
   "title_sidebar": "Contents",
   "toc_cell": false,
   "toc_position": {},
   "toc_section_display": true,
   "toc_window_display": false
  }
 },
 "nbformat": 4,
 "nbformat_minor": 4
}
