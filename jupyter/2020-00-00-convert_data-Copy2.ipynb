{
 "cells": [
  {
   "cell_type": "code",
   "execution_count": 20,
   "metadata": {},
   "outputs": [
    {
     "name": "stdout",
     "output_type": "stream",
     "text": [
      "The autoreload extension is already loaded. To reload it, use:\n",
      "  %reload_ext autoreload\n"
     ]
    }
   ],
   "source": [
    "%load_ext autoreload\n",
    "%autoreload 2\n",
    "%load_ext rpy2.ipython\n",
    "\n",
    "import cv2\n",
    "import numpy as np\n",
    "import pandas as pd\n",
    "import pandas as pd\n",
    "import pickle\n",
    "import glob\n",
    "import os\n",
    "\n",
    "from matplotlib.pyplot import *\n",
    "from utility import *\n",
    "\n",
    "from scipy import optimize, sqrt\n",
    "from matplotlib.patches import Ellipse\n",
    "import plotly.express as px"
   ]
  },
  {
   "cell_type": "code",
   "execution_count": 2,
   "metadata": {},
   "outputs": [],
   "source": [
    "info = \"\"\"v05_T2_R_3d,7302.47,228.58,7500\n",
    "v06_T1_L_3d,7500,274.21,7500\n",
    "v04_T1_L_3d,7420.48,308.71,7500\n",
    "v02_T2_L_3d,7311.48,306.65,7500\n",
    "v04_T1_R_3d,7326.07,319.37,7500\n",
    "v01_T2_L_3d,7500,253.19,7500\n",
    "v02_T1_R_3d,7411.04,281.72,7500\n",
    "v03_T1_L_3d,7201.62,306.67,7500\n",
    "v04_T2_R_3d,7424.77,214.81,7500\n",
    "v05_T1_L_3d,7500,324.97,7500\n",
    "v06_T1_R_3d,7476.69,397.99,7500\n",
    "v03_T1_R_3d,7199.05,267.50,7500\n",
    "v05_T2_L_3d,7403.31,405.86,7500\n",
    "v02_T2_R_3d,7408.89,287.19,7500\n",
    "v01_T2_R_3d,7500,340.53,7500\n",
    "v04_T2_L_3d,7425.20,274.28,7500\n",
    "v02_T1_L_3d,7212.35,253.20,7500\n",
    "v01_T1_L_3d,7408.89,359.44,7500\n",
    "v05_T1_R_3d,7500,317.93,7500\n",
    "v06_T2_L_3d,7376.71,269.32,7500\n",
    "v03_T2_L_3d,7257.84,243.52,7500\n",
    "v03_T2_R_3d,7312.77,268.11,7500\n",
    "v01_T1_R_3d,7206.34,305.86,7500\"\"\"\n",
    "ImageInfo = collections.namedtuple('ImageInfo', 'max_height, max_peak, max_width')\n",
    "image_info = {name: ImageInfo(*(float(x) for x in rest)) \n",
    "      for name, *rest in [x.split(',') for x in info.split('\\n')]}"
   ]
  },
  {
   "cell_type": "code",
   "execution_count": 3,
   "metadata": {},
   "outputs": [],
   "source": [
    "from sklearn.linear_model import LinearRegression\n",
    "def adjust_tilt(img):\n",
    "    median = np.median(img)\n",
    "    q1 = np.percentile(img, 25)\n",
    "    q3 = np.percentile(img, 75)\n",
    "    iqr = q3 - q1\n",
    "    poinst = np.where((img > median - 2 * iqr) & (img < median + 2 * iqr))\n",
    "    y = img[poinst]\n",
    "    X = np.array(poinst).T\n",
    "    model = LinearRegression(n_jobs=8, normalize=True)\n",
    "    model.fit(X, y)\n",
    "    poinst = np.where(img > -10)\n",
    "    y = img[poinst]\n",
    "    X = np.array(poinst).T   \n",
    "    y_pred = model.predict(X)\n",
    "    print(model.coef_)\n",
    "    adjusted = (y + y.mean() - y_pred).reshape(img.shape)\n",
    "    negative_indices = np.where(img < 0)\n",
    "    adjusted[negative_indices] = img[negative_indices]\n",
    "    return adjusted"
   ]
  },
  {
   "cell_type": "code",
   "execution_count": 4,
   "metadata": {},
   "outputs": [],
   "source": [
    "def rescale_image(img, img_info, scale=1):\n",
    "    scales = np.array((img_info.max_height, img_info.max_width))/np.array(img.shape)\n",
    "    print(\"scales = %f, %f\"%tuple(scales))\n",
    "    resized_img = cv2.resize(img, (int(img_info.max_width*scale), int(img_info.max_height*scale)))*scale\n",
    "    return resized_img"
   ]
  },
  {
   "cell_type": "code",
   "execution_count": 5,
   "metadata": {},
   "outputs": [],
   "source": [
    "def disect_path(path):\n",
    "    base, ext = os.path.splitext(path)\n",
    "    base = os.path.basename(base)\n",
    "    directory = os.path.dirname(path)\n",
    "    return directory, base, ext"
   ]
  },
  {
   "cell_type": "code",
   "execution_count": 6,
   "metadata": {},
   "outputs": [],
   "source": [
    "def get_all_circles(rotated):\n",
    "    allCircles = []\n",
    "    for i, profile in enumerate(rotated):\n",
    "        _kernel_size = int(np.percentile(get_cut_points(profile, profile.mean()), 25))\n",
    "        #print(\"kernel size param %r\"%_kernel_size)\n",
    "        x, y, der1, der2, local_minima_2d, circles = extract_circles(np.arange(len(profile)), \n",
    "                                                             profile,\n",
    "                                                             kernel_size_param=_kernel_size,\n",
    "                                                             same_scale=True, verbose=False)       \n",
    "        if i%300==0:\n",
    "            draw_circles(x, y, circles)\n",
    "            show()\n",
    "        allCircles.append(circles)\n",
    "    return allCircles\n",
    "#plot(x, y)\n",
    "#scatter(x[local_minima_2d], y[local_minima_2d])"
   ]
  },
  {
   "cell_type": "code",
   "execution_count": 18,
   "metadata": {
    "scrolled": true
   },
   "outputs": [],
   "source": [
    "columns = ['profile'] + list(Circle._fields)\n",
    "def fun(image_name):\n",
    "    print('Starting to process %s'%image_name)\n",
    "    directory, base, ext = disect_path(image_name)\n",
    "    base_name = os.path.splitext(image_name)[0]\n",
    "    df_file_name =  base_name +'.df'\n",
    "    if os.path.exists(df_file_name):\n",
    "        print('dataframe %s already exists'%df_file_name)\n",
    "        return\n",
    "    with open(image_name, 'rb') as f:\n",
    "        img = pickle.load(f)\n",
    "    print(\"[*] image %s loaded\"%base)\n",
    "    try:\n",
    "        img_info = image_info[base]\n",
    "    except KeyError:\n",
    "        print('image info not found')\n",
    "        return\n",
    "    resized_img = rescale_image(img, img_info, scale=1)\n",
    "    print('[*] image resized')\n",
    "    rotated, *_ = align_image(resized_img)\n",
    "    print('[*] image rotated')\n",
    "    aligned = adjust_tilt(rotated)\n",
    "    print('[*] image adjusted for tilt')\n",
    "    allCircles = get_all_circles(aligned)\n",
    "    df = pd.DataFrame(((i, *circle) for i, circles in enumerate(allCircles) for circle in circles), columns=columns)\n",
    "    print(\"[*] Dataframe to be saved as %s\"%df_file_name)\n",
    "    with open(df_file_name, 'wb') as f:\n",
    "        pickle.dump(df, f)"
   ]
  },
  {
   "cell_type": "code",
   "execution_count": 19,
   "metadata": {},
   "outputs": [
    {
     "name": "stdout",
     "output_type": "stream",
     "text": [
      "Starting to process dataset/v02_T2_R_3d.np\n",
      "dataframe dataset/v02_T2_R_3d.df already exists\n",
      "Starting to process dataset/v01_T1_L_3d.np\n",
      "dataframe dataset/v01_T1_L_3d.df already exists\n",
      "Starting to process dataset/v01_T2_R_3d.np\n",
      "dataframe dataset/v01_T2_R_3d.df already exists\n",
      "Starting to process dataset/v04_T2_L_3d.np\n",
      "dataframe dataset/v04_T2_L_3d.df already exists\n",
      "Starting to process dataset/v04_T1_L_3d.np\n",
      "dataframe dataset/v04_T1_L_3d.df already exists\n",
      "Starting to process dataset/v04_T2_R_3d.np\n",
      "dataframe dataset/v04_T2_R_3d.df already exists\n",
      "Starting to process dataset/v03_T2_L_3d.np\n",
      "dataframe dataset/v03_T2_L_3d.df already exists\n",
      "Starting to process dataset/v06_T1_R_3d.np\n",
      "dataframe dataset/v06_T1_R_3d.df already exists\n",
      "Starting to process dataset/v05_T2_L_3d.np\n",
      "dataframe dataset/v05_T2_L_3d.df already exists\n",
      "Starting to process dataset/v06_T2_L_3d.np\n",
      "dataframe dataset/v06_T2_L_3d.df already exists\n",
      "Starting to process dataset/v02_T1_R_3d.np\n",
      "dataframe dataset/v02_T1_R_3d.df already exists\n",
      "Starting to process dataset/v05_T1_R_3d.np\n",
      "dataframe dataset/v05_T1_R_3d.df already exists\n",
      "Starting to process dataset/v05_T1_L_3d.np\n",
      "dataframe dataset/v05_T1_L_3d.df already exists\n",
      "Starting to process dataset/v06_T2_R_3d.np\n",
      "[*] image v06_T2_R_3d loaded\n",
      "image info not found\n",
      "Starting to process dataset/v03_T1_L_3d.np\n",
      "dataframe dataset/v03_T1_L_3d.df already exists\n",
      "Starting to process dataset/v03_T2_R_3d.np\n",
      "dataframe dataset/v03_T2_R_3d.df already exists\n",
      "Starting to process dataset/v01_T2_L_3d.np\n",
      "dataframe dataset/v01_T2_L_3d.df already exists\n",
      "Starting to process dataset/v04_T1_R_3d.np\n",
      "dataframe dataset/v04_T1_R_3d.df already exists\n",
      "Starting to process dataset/v03_T1_R_3d.np\n",
      "dataframe dataset/v03_T1_R_3d.df already exists\n",
      "Starting to process dataset/v06_T1_L_3d.np\n",
      "dataframe dataset/v06_T1_L_3d.df already exists\n",
      "Starting to process dataset/v05_T2_R_3d.np\n",
      "dataframe dataset/v05_T2_R_3d.df already exists\n",
      "Starting to process dataset/v01_T1_R_3d.np\n",
      "dataframe dataset/v01_T1_R_3d.df already exists\n",
      "Starting to process dataset/v02_T2_L_3d.np\n",
      "[*] image v02_T2_L_3d loaded\n",
      "scales = 4.293294, 4.194631\n",
      "[*] image resized\n",
      "[*] Starting to align ...\n",
      "[*] image rotated\n",
      "[0.00149673 0.00227278]\n",
      "[*] image adjusted for tilt\n",
      "Skipped drawing circle at 6469 due to radius of curvature being too high\n",
      "Skipped drawing circle at 1876 due to radius of curvature being too high\n",
      "Skipped drawing circle at 4177 due to radius of curvature being too high\n",
      "Skipped drawing circle at 1133 due to radius of curvature being too high\n",
      "Skipped drawing circle at 4031 due to radius of curvature being too high\n",
      "Skipped drawing circle at 6034 due to radius of curvature being too high\n",
      "Skipped drawing circle at 2453 due to radius of curvature being too high\n",
      "Skipped drawing circle at 2496 due to radius of curvature being too high\n",
      "Skipped drawing circle at 2678 due to radius of curvature being too high\n",
      "Skipped drawing circle at 4501 due to radius of curvature being too high\n",
      "Skipped drawing circle at 2888 due to radius of curvature being too high\n",
      "Skipped drawing circle at 5220 due to radius of curvature being too high\n",
      "Skipped drawing circle at 467 due to radius of curvature being too high\n",
      "Skipped drawing circle at 2139 due to radius of curvature being too high\n",
      "Skipped drawing circle at 2213 due to radius of curvature being too high\n",
      "Skipped drawing circle at 6508 due to radius of curvature being too high\n",
      "Skipped drawing circle at 2306 due to radius of curvature being too high\n",
      "Skipped drawing circle at 3910 due to radius of curvature being too high\n",
      "Skipped drawing circle at 5586 due to radius of curvature being too high\n",
      "Skipped drawing circle at 6748 due to radius of curvature being too high\n"
     ]
    },
    {
     "name": "stderr",
     "output_type": "stream",
     "text": [
      "/home/bzr0014/anaconda3/envs/tensorGpuNew/lib/python3.6/site-packages/scipy/optimize/minpack.py:436: RuntimeWarning:\n",
      "\n",
      "Number of calls to function has reached maxfev = 800.\n",
      "\n"
     ]
    },
    {
     "name": "stdout",
     "output_type": "stream",
     "text": [
      "Skipped drawing circle at 4514 due to radius of curvature being too high\n",
      "Skipped drawing circle at 1398 due to radius of curvature being too high\n",
      "Skipped drawing circle at 5782 due to radius of curvature being too high\n",
      "Skipped drawing circle at 7358 due to radius of curvature being too high\n",
      "Skipped drawing circle at 1682 due to radius of curvature being too high\n",
      "Skipped drawing circle at 3707 due to radius of curvature being too high\n",
      "Skipped drawing circle at 3802 due to radius of curvature being too high\n",
      "Skipped drawing circle at 2783 due to radius of curvature being too high\n",
      "Skipped drawing circle at 4559 due to radius of curvature being too high\n",
      "Skipped drawing circle at 4178 due to radius of curvature being too high\n",
      "Skipped drawing circle at 4447 due to radius of curvature being too high\n",
      "Skipped drawing circle at 5161 due to radius of curvature being too high\n",
      "Skipped drawing circle at 6990 due to radius of curvature being too high\n",
      "Skipped drawing circle at 675 due to radius of curvature being too high\n",
      "Skipped drawing circle at 2742 due to radius of curvature being too high\n",
      "Skipped drawing circle at 3572 due to radius of curvature being too high\n",
      "Skipped drawing circle at 4485 due to radius of curvature being too high\n",
      "Skipped drawing circle at 5283 due to radius of curvature being too high\n",
      "Skipped drawing circle at 1749 due to radius of curvature being too high\n",
      "Skipped drawing circle at 2839 due to radius of curvature being too high\n",
      "Skipped drawing circle at 4219 due to radius of curvature being too high\n",
      "Skipped drawing circle at 5931 due to radius of curvature being too high\n",
      "Skipped drawing circle at 793 due to radius of curvature being too high\n",
      "Skipped drawing circle at 890 due to radius of curvature being too high\n",
      "Skipped drawing circle at 1755 due to radius of curvature being too high\n",
      "Skipped drawing circle at 3455 due to radius of curvature being too high\n",
      "Skipped drawing circle at 3751 due to radius of curvature being too high\n",
      "Skipped drawing circle at 3812 due to radius of curvature being too high\n",
      "Skipped drawing circle at 1160 due to radius of curvature being too high\n",
      "Skipped drawing circle at 4619 due to radius of curvature being too high\n"
     ]
    },
    {
     "name": "stderr",
     "output_type": "stream",
     "text": [
      "/home/bzr0014/tmp/additive/utility.py:245: RuntimeWarning:\n",
      "\n",
      "More than 20 figures have been opened. Figures created through the pyplot interface (`matplotlib.pyplot.figure`) are retained until explicitly closed and may consume too much memory. (To control this warning, see the rcParam `figure.max_open_warning`).\n",
      "\n"
     ]
    },
    {
     "name": "stdout",
     "output_type": "stream",
     "text": [
      "Skipped drawing circle at 1825 due to radius of curvature being too high\n",
      "Skipped drawing circle at 550 due to radius of curvature being too high\n",
      "Skipped drawing circle at 633 due to radius of curvature being too high\n",
      "Skipped drawing circle at 6756 due to radius of curvature being too high\n",
      "Skipped drawing circle at 5344 due to radius of curvature being too high\n",
      "Skipped drawing circle at 6057 due to radius of curvature being too high\n",
      "Skipped drawing circle at 975 due to radius of curvature being too high\n",
      "Skipped drawing circle at 1991 due to radius of curvature being too high\n",
      "Skipped drawing circle at 4393 due to radius of curvature being too high\n",
      "Skipped drawing circle at 5044 due to radius of curvature being too high\n"
     ]
    },
    {
     "ename": "IndexError",
     "evalue": "index 7488 is out of bounds for axis 1 with size 7488",
     "output_type": "error",
     "traceback": [
      "\u001b[0;31m---------------------------------------------------------------------------\u001b[0m",
      "\u001b[0;31mIndexError\u001b[0m                                Traceback (most recent call last)",
      "\u001b[0;32m<ipython-input-19-9df5d29bbe29>\u001b[0m in \u001b[0;36m<module>\u001b[0;34m\u001b[0m\n\u001b[1;32m      2\u001b[0m \u001b[0mpool\u001b[0m \u001b[0;34m=\u001b[0m \u001b[0mPool\u001b[0m\u001b[0;34m(\u001b[0m\u001b[0mprocesses\u001b[0m\u001b[0;34m=\u001b[0m\u001b[0;36m24\u001b[0m\u001b[0;34m)\u001b[0m\u001b[0;34m\u001b[0m\u001b[0;34m\u001b[0m\u001b[0m\n\u001b[1;32m      3\u001b[0m \u001b[0;32mfor\u001b[0m \u001b[0mimage_name\u001b[0m \u001b[0;32min\u001b[0m \u001b[0mglob\u001b[0m\u001b[0;34m.\u001b[0m\u001b[0mglob\u001b[0m\u001b[0;34m(\u001b[0m\u001b[0;34m'dataset/*3d.np'\u001b[0m\u001b[0;34m)\u001b[0m\u001b[0;34m:\u001b[0m\u001b[0;34m\u001b[0m\u001b[0;34m\u001b[0m\u001b[0m\n\u001b[0;32m----> 4\u001b[0;31m     \u001b[0mfun\u001b[0m\u001b[0;34m(\u001b[0m\u001b[0mimage_name\u001b[0m\u001b[0;34m)\u001b[0m\u001b[0;34m\u001b[0m\u001b[0;34m\u001b[0m\u001b[0m\n\u001b[0m\u001b[1;32m      5\u001b[0m \u001b[0;31m#pool.map(fun, list(glob.glob('dataset/*3d.np')))\u001b[0m\u001b[0;34m\u001b[0m\u001b[0;34m\u001b[0m\u001b[0;34m\u001b[0m\u001b[0m\n",
      "\u001b[0;32m<ipython-input-18-0725abd67003>\u001b[0m in \u001b[0;36mfun\u001b[0;34m(image_name)\u001b[0m\n\u001b[1;32m     24\u001b[0m     \u001b[0maligned\u001b[0m \u001b[0;34m=\u001b[0m \u001b[0madjust_tilt\u001b[0m\u001b[0;34m(\u001b[0m\u001b[0mrotated\u001b[0m\u001b[0;34m)\u001b[0m\u001b[0;34m\u001b[0m\u001b[0;34m\u001b[0m\u001b[0m\n\u001b[1;32m     25\u001b[0m     \u001b[0mprint\u001b[0m\u001b[0;34m(\u001b[0m\u001b[0;34m'[*] image adjusted for tilt'\u001b[0m\u001b[0;34m)\u001b[0m\u001b[0;34m\u001b[0m\u001b[0;34m\u001b[0m\u001b[0m\n\u001b[0;32m---> 26\u001b[0;31m     \u001b[0mallCircles\u001b[0m \u001b[0;34m=\u001b[0m \u001b[0mget_all_circles\u001b[0m\u001b[0;34m(\u001b[0m\u001b[0maligned\u001b[0m\u001b[0;34m)\u001b[0m\u001b[0;34m\u001b[0m\u001b[0;34m\u001b[0m\u001b[0m\n\u001b[0m\u001b[1;32m     27\u001b[0m     \u001b[0mdf\u001b[0m \u001b[0;34m=\u001b[0m \u001b[0mpd\u001b[0m\u001b[0;34m.\u001b[0m\u001b[0mDataFrame\u001b[0m\u001b[0;34m(\u001b[0m\u001b[0;34m(\u001b[0m\u001b[0;34m(\u001b[0m\u001b[0mi\u001b[0m\u001b[0;34m,\u001b[0m \u001b[0;34m*\u001b[0m\u001b[0mcircle\u001b[0m\u001b[0;34m)\u001b[0m \u001b[0;32mfor\u001b[0m \u001b[0mi\u001b[0m\u001b[0;34m,\u001b[0m \u001b[0mcircles\u001b[0m \u001b[0;32min\u001b[0m \u001b[0menumerate\u001b[0m\u001b[0;34m(\u001b[0m\u001b[0mallCircles\u001b[0m\u001b[0;34m)\u001b[0m \u001b[0;32mfor\u001b[0m \u001b[0mcircle\u001b[0m \u001b[0;32min\u001b[0m \u001b[0mcircles\u001b[0m\u001b[0;34m)\u001b[0m\u001b[0;34m,\u001b[0m \u001b[0mcolumns\u001b[0m\u001b[0;34m=\u001b[0m\u001b[0mcolumns\u001b[0m\u001b[0;34m)\u001b[0m\u001b[0;34m\u001b[0m\u001b[0;34m\u001b[0m\u001b[0m\n\u001b[1;32m     28\u001b[0m     \u001b[0mprint\u001b[0m\u001b[0;34m(\u001b[0m\u001b[0;34m\"[*] Dataframe to be saved as %s\"\u001b[0m\u001b[0;34m%\u001b[0m\u001b[0mdf_file_name\u001b[0m\u001b[0;34m)\u001b[0m\u001b[0;34m\u001b[0m\u001b[0;34m\u001b[0m\u001b[0m\n",
      "\u001b[0;32m<ipython-input-6-5ab65808478a>\u001b[0m in \u001b[0;36mget_all_circles\u001b[0;34m(rotated)\u001b[0m\n\u001b[1;32m      9\u001b[0m                                                              same_scale=True, verbose=False)       \n\u001b[1;32m     10\u001b[0m         \u001b[0;32mif\u001b[0m \u001b[0mi\u001b[0m\u001b[0;34m%\u001b[0m\u001b[0;36m300\u001b[0m\u001b[0;34m==\u001b[0m\u001b[0;36m0\u001b[0m\u001b[0;34m:\u001b[0m\u001b[0;34m\u001b[0m\u001b[0;34m\u001b[0m\u001b[0m\n\u001b[0;32m---> 11\u001b[0;31m             \u001b[0mdraw_circles\u001b[0m\u001b[0;34m(\u001b[0m\u001b[0mx\u001b[0m\u001b[0;34m,\u001b[0m \u001b[0my\u001b[0m\u001b[0;34m,\u001b[0m \u001b[0mcircles\u001b[0m\u001b[0;34m)\u001b[0m\u001b[0;34m\u001b[0m\u001b[0;34m\u001b[0m\u001b[0m\n\u001b[0m\u001b[1;32m     12\u001b[0m             \u001b[0mshow\u001b[0m\u001b[0;34m(\u001b[0m\u001b[0;34m)\u001b[0m\u001b[0;34m\u001b[0m\u001b[0;34m\u001b[0m\u001b[0m\n\u001b[1;32m     13\u001b[0m         \u001b[0mallCircles\u001b[0m\u001b[0;34m.\u001b[0m\u001b[0mappend\u001b[0m\u001b[0;34m(\u001b[0m\u001b[0mcircles\u001b[0m\u001b[0;34m)\u001b[0m\u001b[0;34m\u001b[0m\u001b[0;34m\u001b[0m\u001b[0m\n",
      "\u001b[0;32m~/tmp/additive/utility.py\u001b[0m in \u001b[0;36mdraw_circles\u001b[0;34m(x_new, y_new, circles, ax, drop_large_radius)\u001b[0m\n\u001b[1;32m    253\u001b[0m     \u001b[0;32mif\u001b[0m \u001b[0mverbose\u001b[0m\u001b[0;34m:\u001b[0m\u001b[0;34m\u001b[0m\u001b[0;34m\u001b[0m\u001b[0m\n\u001b[1;32m    254\u001b[0m         \u001b[0mprint\u001b[0m\u001b[0;34m(\u001b[0m\u001b[0mlen\u001b[0m\u001b[0;34m(\u001b[0m\u001b[0mx\u001b[0m\u001b[0;34m)\u001b[0m\u001b[0;34m,\u001b[0m \u001b[0mlen\u001b[0m\u001b[0;34m(\u001b[0m\u001b[0my\u001b[0m\u001b[0;34m)\u001b[0m\u001b[0;34m)\u001b[0m\u001b[0;34m\u001b[0m\u001b[0;34m\u001b[0m\u001b[0m\n\u001b[0;32m--> 255\u001b[0;31m     \u001b[0mlocal_minima_2d\u001b[0m \u001b[0;34m=\u001b[0m \u001b[0mnp\u001b[0m\u001b[0;34m.\u001b[0m\u001b[0mwhere\u001b[0m\u001b[0;34m(\u001b[0m\u001b[0mget_local_minima_2d\u001b[0m\u001b[0;34m(\u001b[0m\u001b[0my\u001b[0m\u001b[0;34m,\u001b[0m \u001b[0mkernel_size_param\u001b[0m\u001b[0;34m)\u001b[0m \u001b[0;34m&\u001b[0m \u001b[0;34m(\u001b[0m\u001b[0my\u001b[0m\u001b[0;34m>\u001b[0m\u001b[0;36m0\u001b[0m\u001b[0;34m)\u001b[0m\u001b[0;34m)\u001b[0m\u001b[0;34m[\u001b[0m\u001b[0;36m0\u001b[0m\u001b[0;34m]\u001b[0m\u001b[0;34m\u001b[0m\u001b[0;34m\u001b[0m\u001b[0m\n\u001b[0m\u001b[1;32m    256\u001b[0m     \u001b[0;31m#plot(x, y)\u001b[0m\u001b[0;34m\u001b[0m\u001b[0;34m\u001b[0m\u001b[0;34m\u001b[0m\u001b[0m\n\u001b[1;32m    257\u001b[0m     \u001b[0;31m#scatter(x[local_minima_2d], y[local_minima_2d], marker='*')\u001b[0m\u001b[0;34m\u001b[0m\u001b[0;34m\u001b[0m\u001b[0;34m\u001b[0m\u001b[0m\n",
      "\u001b[0;31mIndexError\u001b[0m: index 7488 is out of bounds for axis 1 with size 7488"
     ]
    }
   ],
   "source": [
    "from multiprocessing import Pool\n",
    "pool = Pool(processes=24)\n",
    "for image_name in glob.glob('dataset/*3d.np'):\n",
    "    fun(image_name)\n",
    "#pool.map(fun, list(glob.glob('dataset/*3d.np')))"
   ]
  },
  {
   "cell_type": "code",
   "execution_count": 21,
   "metadata": {},
   "outputs": [],
   "source": [
    "with open('dataset/v06_T1_R_3d.df', 'rb') as f:\n",
    "    df = pickle.load(f)"
   ]
  },
  {
   "cell_type": "code",
   "execution_count": 33,
   "metadata": {},
   "outputs": [
    {
     "name": "stdout",
     "output_type": "stream",
     "text": [
      "\\begin{tabular}{lrrrrrrrr}\n",
      "\\toprule\n",
      "{} &  profile &   beg &   end &  index &       h &       cx &      cy &      r \\\\\n",
      "\\midrule\n",
      "88198 &     5903 &  4664 &  4673 &   4668 &  211.38 &  4668.16 &  219.50 &   7.32 \\\\\n",
      "43255 &     3508 &  3444 &  3457 &   3450 &  215.44 &  3444.39 &  235.02 &  14.67 \\\\\n",
      "9517  &     1258 &  5246 &  5317 &   5281 &  201.56 &  5286.15 &  217.83 &  16.37 \\\\\n",
      "70204 &     4675 &  5571 &  5582 &   5576 &  236.54 &  5585.30 &  230.28 &   8.21 \\\\\n",
      "94882 &     6519 &  5714 &  5725 &   5719 &  207.36 &  5717.25 &  227.25 &   9.84 \\\\\n",
      "89072 &     5975 &  6964 &  6973 &   6968 &  213.10 &  6973.88 &  202.81 &   3.89 \\\\\n",
      "75594 &     4949 &  1504 &  1513 &   1508 &  213.70 &  1513.57 &  208.65 &   3.69 \\\\\n",
      "14443 &     1781 &  3980 &  3987 &   3983 &  207.81 &  3987.41 &  213.81 &   6.27 \\\\\n",
      "61332 &     4256 &  1248 &  1257 &   1252 &  234.75 &  1257.32 &  226.97 &   3.33 \\\\\n",
      "81608 &     5299 &  6554 &  6561 &   6557 &  265.89 &  6539.61 &  216.73 &  20.69 \\\\\n",
      "\\bottomrule\n",
      "\\end{tabular}\n",
      "\n"
     ]
    }
   ],
   "source": [
    "print(df.iloc[:, :-4].sample(10).round(decimals=2).to_latex())"
   ]
  },
  {
   "cell_type": "code",
   "execution_count": 36,
   "metadata": {},
   "outputs": [
    {
     "ename": "NameError",
     "evalue": "name 'stats' is not defined",
     "output_type": "error",
     "traceback": [
      "\u001b[0;31m---------------------------------------------------------------------------\u001b[0m",
      "\u001b[0;31mNameError\u001b[0m                                 Traceback (most recent call last)",
      "\u001b[0;32m<ipython-input-36-84de0b260b1c>\u001b[0m in \u001b[0;36m<module>\u001b[0;34m\u001b[0m\n\u001b[0;32m----> 1\u001b[0;31m \u001b[0mstats\u001b[0m\u001b[0;34m[\u001b[0m\u001b[0;36m0\u001b[0m\u001b[0;34m]\u001b[0m\u001b[0;34m\u001b[0m\u001b[0;34m\u001b[0m\u001b[0m\n\u001b[0m",
      "\u001b[0;31mNameError\u001b[0m: name 'stats' is not defined"
     ]
    }
   ],
   "source": [
    "stats[0]"
   ]
  },
  {
   "cell_type": "code",
   "execution_count": null,
   "metadata": {},
   "outputs": [],
   "source": []
  }
 ],
 "metadata": {
  "kernelspec": {
   "display_name": "Python 3",
   "language": "python",
   "name": "python3"
  },
  "language_info": {
   "codemirror_mode": {
    "name": "ipython",
    "version": 3
   },
   "file_extension": ".py",
   "mimetype": "text/x-python",
   "name": "python",
   "nbconvert_exporter": "python",
   "pygments_lexer": "ipython3",
   "version": "3.6.9"
  }
 },
 "nbformat": 4,
 "nbformat_minor": 2
}
